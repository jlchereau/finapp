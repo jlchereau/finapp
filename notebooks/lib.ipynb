{
 "cells": [
  {
   "cell_type": "markdown",
   "id": "b182e367",
   "metadata": {},
   "source": [
    "# Lib"
   ]
  },
  {
   "cell_type": "markdown",
   "id": "cd32801d",
   "metadata": {},
   "source": [
    "## Install prerequisites"
   ]
  },
  {
   "cell_type": "code",
   "execution_count": 9,
   "id": "6f5a8970",
   "metadata": {},
   "outputs": [],
   "source": [
    "# !cd .. && make install\n",
    "# !pwd"
   ]
  },
  {
   "cell_type": "code",
   "execution_count": 10,
   "id": "7f6828f3",
   "metadata": {},
   "outputs": [],
   "source": [
    "import sys\n",
    "\n",
    "sys.path.append('..')\n",
    "\n",
    "%load_ext autoreload\n",
    "%autoreload 2"
   ]
  },
  {
   "cell_type": "markdown",
   "id": "9b7e9573",
   "metadata": {},
   "source": [
    "## Parsers"
   ]
  },
  {
   "cell_type": "code",
   "execution_count": 13,
   "id": "5d622e83",
   "metadata": {},
   "outputs": [
    {
     "name": "stdout",
     "output_type": "stream",
     "text": [
      "name='Alice' age=28 city='Paris'\n",
      "{'name': 'Alice', 'age': 28, 'city': 'Paris'}\n"
     ]
    }
   ],
   "source": [
    "from app.lib.parsers import PydanticJSONParser\n",
    "\n",
    "# Example usage:\n",
    "config = {\n",
    "    \"name\": \"PersonModel\",\n",
    "    \"fields\": {\n",
    "        \"name\": {\"expr\": \"person.name\", \"default\": \"Unknown\"},\n",
    "        \"age\": {\"expr\": \"person.age\", \"default\": 0},\n",
    "        \"city\": {\"expr\": \"person.address.city\", \"default\": \"N/A\"},\n",
    "    },\n",
    "}\n",
    "\n",
    "sample_data = {\n",
    "    \"person\": {\n",
    "        \"name\": \"Alice\",\n",
    "        \"age\": 28,\n",
    "        \"address\": {\"city\": \"Paris\"},\n",
    "    }\n",
    "}\n",
    "\n",
    "generator = PydanticJSONParser(config)\n",
    "instance = generator.create_instance(sample_data)\n",
    "print(instance)\n",
    "print(instance.model_dump())\n"
   ]
  }
 ],
 "metadata": {
  "kernelspec": {
   "display_name": ".venv",
   "language": "python",
   "name": "python3"
  },
  "language_info": {
   "codemirror_mode": {
    "name": "ipython",
    "version": 3
   },
   "file_extension": ".py",
   "mimetype": "text/x-python",
   "name": "python",
   "nbconvert_exporter": "python",
   "pygments_lexer": "ipython3",
   "version": "3.12.10"
  }
 },
 "nbformat": 4,
 "nbformat_minor": 5
}
