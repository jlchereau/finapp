{
 "cells": [
  {
   "cell_type": "markdown",
   "id": "3aeb438c",
   "metadata": {},
   "source": [
    "# Models"
   ]
  },
  {
   "cell_type": "markdown",
   "id": "e316b046",
   "metadata": {},
   "source": [
    "## Install prerequisites"
   ]
  },
  {
   "cell_type": "code",
   "execution_count": 6,
   "id": "cfd18ee6",
   "metadata": {},
   "outputs": [],
   "source": [
    "# !cd .. && make install\n",
    "# !pwd"
   ]
  },
  {
   "cell_type": "code",
   "execution_count": 1,
   "id": "50bc33c9",
   "metadata": {},
   "outputs": [],
   "source": [
    "import sys\n",
    "from pprint import pprint\n",
    "from dotenv import load_dotenv, find_dotenv\n",
    "\n",
    "sys.path.append('..')\n",
    "\n",
    "load_dotenv(find_dotenv())\n",
    "\n",
    "ticker = 'MSFT'\n",
    "\n",
    "%load_ext autoreload\n",
    "%autoreload 2"
   ]
  },
  {
   "cell_type": "code",
   "execution_count": 2,
   "id": "beb61e85",
   "metadata": {},
   "outputs": [],
   "source": [
    "# FIX: Considering we call sync methods we should not have to do this\n",
    "import nest_asyncio\n",
    "nest_asyncio.apply()"
   ]
  },
  {
   "cell_type": "code",
   "execution_count": 3,
   "id": "8cf8c9b7",
   "metadata": {},
   "outputs": [],
   "source": [
    "# Disable cache for testing\n",
    "import os\n",
    "os.environ['PROVIDER_CACHE_ENABLED'] = 'False'  \n",
    "# os.environ['FLOW_CACHE_ENABLED'] = 'False'"
   ]
  },
  {
   "cell_type": "markdown",
   "id": "3db205c7",
   "metadata": {},
   "source": [
    "## Blackrock Providers"
   ]
  },
  {
   "cell_type": "markdown",
   "id": "26421636",
   "metadata": {},
   "source": [
    "### BlackrockHoldingsProvider"
   ]
  },
  {
   "cell_type": "code",
   "execution_count": 27,
   "id": "aa0a1186",
   "metadata": {},
   "outputs": [
    {
     "data": {
      "application/vnd.microsoft.datawrangler.viewer.v0+json": {
       "columns": [
        {
         "name": "index",
         "rawType": "int64",
         "type": "integer"
        },
        {
         "name": "symbol",
         "rawType": "object",
         "type": "string"
        },
        {
         "name": "holding_name",
         "rawType": "object",
         "type": "string"
        },
        {
         "name": "sector",
         "rawType": "object",
         "type": "string"
        },
        {
         "name": "asset_class",
         "rawType": "object",
         "type": "string"
        },
        {
         "name": "market_value",
         "rawType": "float64",
         "type": "float"
        },
        {
         "name": "weight",
         "rawType": "float64",
         "type": "float"
        },
        {
         "name": "shares",
         "rawType": "float64",
         "type": "float"
        },
        {
         "name": "price",
         "rawType": "float64",
         "type": "float"
        },
        {
         "name": "country",
         "rawType": "object",
         "type": "string"
        },
        {
         "name": "exchange",
         "rawType": "object",
         "type": "string"
        },
        {
         "name": "market_currency",
         "rawType": "object",
         "type": "string"
        },
        {
         "name": "ticker",
         "rawType": "object",
         "type": "string"
        }
       ],
       "ref": "dfc9befd-c2de-4bad-ae9e-39072a02f9fd",
       "rows": [
        [
         "0",
         "ASML",
         "ASML HOLDING NV",
         "Information Technology",
         "Equity",
         null,
         "2.18",
         null,
         "642.9",
         "Netherlands",
         "Euronext Amsterdam",
         "EUR",
         "EXSA.DE"
        ],
        [
         "1",
         "SAP",
         "SAP",
         "Information Technology",
         "Equity",
         null,
         "2.1",
         null,
         "239.65",
         "Germany",
         "Xetra",
         "EUR",
         "EXSA.DE"
        ],
        [
         "2",
         "AZN",
         "ASTRAZENECA PLC",
         "Health Care",
         "Equity",
         null,
         "1.79",
         null,
         "134.69",
         "United Kingdom",
         "London Stock Exchange",
         "GBP",
         "EXSA.DE"
        ],
        [
         "3",
         "NOVN",
         "NOVARTIS AG",
         "Health Care",
         "Equity",
         null,
         "1.75",
         null,
         "104.73",
         "Switzerland",
         "SIX Swiss Exchange",
         "CHF",
         "EXSA.DE"
        ],
        [
         "4",
         "NESN",
         "NESTLE SA",
         "Consumer Staples",
         "Equity",
         null,
         "1.7",
         null,
         "76.57",
         "Switzerland",
         "SIX Swiss Exchange",
         "CHF",
         "EXSA.DE"
        ],
        [
         "5",
         "HSBA",
         "HSBC HOLDINGS PLC",
         "Financials",
         "Equity",
         null,
         "1.67",
         null,
         "11.09",
         "United Kingdom",
         "London Stock Exchange",
         "GBP",
         "EXSA.DE"
        ],
        [
         "6",
         "ROG",
         "ROCHE HOLDING PAR AG",
         "Health Care",
         "Equity",
         null,
         "1.61",
         null,
         "265.72",
         "Switzerland",
         "SIX Swiss Exchange",
         "CHF",
         "EXSA.DE"
        ],
        [
         "7",
         "SHELL",
         "SHELL PLC",
         "Energy",
         "Equity",
         null,
         "1.58",
         null,
         "30.7",
         "United Kingdom",
         "Euronext Amsterdam",
         "EUR",
         "EXSA.DE"
        ],
        [
         "8",
         "SIE",
         "SIEMENS N AG",
         "Industrials",
         "Equity",
         null,
         "1.51",
         null,
         "233.25",
         "Germany",
         "Xetra",
         "EUR",
         "EXSA.DE"
        ],
        [
         "9",
         "ALV",
         "ALLIANZ",
         "Financials",
         "Equity",
         null,
         "1.25",
         null,
         "376.6",
         "Germany",
         "Xetra",
         "EUR",
         "EXSA.DE"
        ],
        [
         "10",
         "NOVO B",
         "NOVO NORDISK CLASS B",
         "Health Care",
         "Equity",
         null,
         "1.2",
         null,
         "43.48",
         "Denmark",
         "Omx Nordic Exchange Copenhagen A/S",
         "DKK",
         "EXSA.DE"
        ],
        [
         "11",
         "ULVR",
         "UNILEVER PLC",
         "Consumer Staples",
         "Equity",
         null,
         "1.15",
         null,
         "52.49",
         "United Kingdom",
         "London Stock Exchange",
         "GBP",
         "EXSA.DE"
        ],
        [
         "12",
         "SU",
         "SCHNEIDER ELECTRIC",
         "Industrials",
         "Equity",
         null,
         "1.1",
         null,
         "222.0",
         "France",
         "Nyse Euronext - Euronext Paris",
         "EUR",
         "EXSA.DE"
        ],
        [
         "13",
         "SAN",
         "BANCO SANTANDER SA",
         "Financials",
         "Equity",
         null,
         "1.07",
         null,
         "8.22",
         "Spain",
         "Bolsa De Madrid",
         "EUR",
         "EXSA.DE"
        ],
        [
         "14",
         "MC",
         "LVMH",
         "Consumer Discretionary",
         "Equity",
         null,
         "1.04",
         null,
         "472.9",
         "France",
         "Nyse Euronext - Euronext Paris",
         "EUR",
         "EXSA.DE"
        ],
        [
         "16",
         "UBSG",
         "UBS GROUP AG",
         "Financials",
         "Equity",
         null,
         "0.98",
         null,
         "34.08",
         "Switzerland",
         "SIX Swiss Exchange",
         "CHF",
         "EXSA.DE"
        ],
        [
         "17",
         "DTE",
         "DEUTSCHE TELEKOM N AG",
         "Communication",
         "Equity",
         null,
         "0.95",
         null,
         "30.65",
         "Germany",
         "Xetra",
         "EUR",
         "EXSA.DE"
        ],
        [
         "18",
         "SAF",
         "SAFRAN SA",
         "Industrials",
         "Equity",
         null,
         "0.94",
         null,
         "293.6",
         "France",
         "Nyse Euronext - Euronext Paris",
         "EUR",
         "EXSA.DE"
        ],
        [
         "19",
         "RR.",
         "ROLLS-ROYCE HOLDINGS PLC",
         "Industrials",
         "Equity",
         null,
         "0.93",
         null,
         "12.81",
         "United Kingdom",
         "London Stock Exchange",
         "GBP",
         "EXSA.DE"
        ],
        [
         "20",
         "AIR",
         "AIRBUS GROUP",
         "Industrials",
         "Equity",
         null,
         "0.93",
         null,
         "183.78",
         "France",
         "Nyse Euronext - Euronext Paris",
         "EUR",
         "EXSA.DE"
        ],
        [
         "21",
         "BATS",
         "BRITISH AMERICAN TOBACCO",
         "Consumer Staples",
         "Equity",
         null,
         "0.93",
         null,
         "49.27",
         "United Kingdom",
         "London Stock Exchange",
         "GBP",
         "EXSA.DE"
        ],
        [
         "22",
         "UCG",
         "UNICREDIT",
         "Financials",
         "Equity",
         null,
         "0.92",
         null,
         "68.95",
         "Italy",
         "Borsa Italiana",
         "EUR",
         "EXSA.DE"
        ],
        [
         "23",
         "AI",
         "LAIR LIQUIDE SOCIETE ANONYME POUR",
         "Materials",
         "Equity",
         null,
         "0.88",
         null,
         "178.62",
         "France",
         "Nyse Euronext - Euronext Paris",
         "EUR",
         "EXSA.DE"
        ],
        [
         "24",
         "IBE",
         "IBERDROLA SA",
         "Utilities",
         "Equity",
         null,
         "0.83",
         null,
         "16.23",
         "Spain",
         "Bolsa De Madrid",
         "EUR",
         "EXSA.DE"
        ],
        [
         "25",
         "SAN",
         "SANOFI SA",
         "Health Care",
         "Equity",
         null,
         "0.82",
         null,
         "83.54",
         "France",
         "Nyse Euronext - Euronext Paris",
         "EUR",
         "EXSA.DE"
        ],
        [
         "26",
         "BBVA",
         "BANCO BILBAO VIZCAYA ARGENTARIA SA",
         "Financials",
         "Equity",
         null,
         "0.81",
         null,
         "16.34",
         "Spain",
         "Bolsa De Madrid",
         "EUR",
         "EXSA.DE"
        ],
        [
         "27",
         "OR",
         "LOREAL SA",
         "Consumer Staples",
         "Equity",
         null,
         "0.8",
         null,
         "388.75",
         "France",
         "Nyse Euronext - Euronext Paris",
         "EUR",
         "EXSA.DE"
        ],
        [
         "28",
         "ZURN",
         "ZURICH INSURANCE GROUP AG",
         "Financials",
         "Equity",
         null,
         "0.79",
         null,
         "626.85",
         "Switzerland",
         "SIX Swiss Exchange",
         "CHF",
         "EXSA.DE"
        ],
        [
         "29",
         "ABBN",
         "ABB LTD",
         "Industrials",
         "Equity",
         null,
         "0.78",
         null,
         "57.48",
         "Switzerland",
         "SIX Swiss Exchange",
         "CHF",
         "EXSA.DE"
        ],
        [
         "30",
         "BNP",
         "BNP PARIBAS SA",
         "Financials",
         "Equity",
         null,
         "0.77",
         null,
         "83.94",
         "France",
         "Nyse Euronext - Euronext Paris",
         "EUR",
         "EXSA.DE"
        ],
        [
         "31",
         "EL",
         "ESSILORLUXOTTICA SA",
         "Health Care",
         "Equity",
         null,
         "0.7",
         null,
         "263.1",
         "France",
         "Nyse Euronext - Euronext Paris",
         "EUR",
         "EXSA.DE"
        ],
        [
         "32",
         "ISP",
         "INTESA SANPAOLO",
         "Financials",
         "Equity",
         null,
         "0.69",
         null,
         "5.51",
         "Italy",
         "Borsa Italiana",
         "EUR",
         "EXSA.DE"
        ],
        [
         "33",
         "CS",
         "AXA SA",
         "Financials",
         "Equity",
         null,
         "0.69",
         null,
         "42.89",
         "France",
         "Nyse Euronext - Euronext Paris",
         "EUR",
         "EXSA.DE"
        ],
        [
         "34",
         "BP.",
         "BP PLC",
         "Energy",
         "Equity",
         null,
         "0.68",
         null,
         "4.81",
         "United Kingdom",
         "London Stock Exchange",
         "GBP",
         "EXSA.DE"
        ],
        [
         "35",
         "REL",
         "RELX PLC",
         "Industrials",
         "Equity",
         null,
         "0.66",
         null,
         "41.03",
         "United Kingdom",
         "London Stock Exchange",
         "GBP",
         "EXSA.DE"
        ],
        [
         "36",
         "CFR",
         "COMPAGNIE FINANCIERE RICHEMONT SA",
         "Consumer Discretionary",
         "Equity",
         null,
         "0.65",
         null,
         "140.67",
         "Switzerland",
         "SIX Swiss Exchange",
         "CHF",
         "EXSA.DE"
        ],
        [
         "37",
         "RHM",
         "RHEINMETALL AG",
         "Industrials",
         "Equity",
         null,
         "0.64",
         null,
         null,
         "Germany",
         "Xetra",
         "EUR",
         "EXSA.DE"
        ],
        [
         "38",
         "DG",
         "VINCI SA",
         "Industrials",
         "Equity",
         null,
         "0.64",
         null,
         "127.9",
         "France",
         "Nyse Euronext - Euronext Paris",
         "EUR",
         "EXSA.DE"
        ],
        [
         "39",
         "RMS",
         "HERMES INTERNATIONAL",
         "Consumer Discretionary",
         "Equity",
         null,
         "0.63",
         null,
         null,
         "France",
         "Nyse Euronext - Euronext Paris",
         "EUR",
         "EXSA.DE"
        ],
        [
         "40",
         "MUV2",
         "MUENCHENER RUECKVERSICHERUNGS-GESE",
         "Financials",
         "Equity",
         null,
         "0.62",
         null,
         "555.2",
         "Germany",
         "Xetra",
         "EUR",
         "EXSA.DE"
        ],
        [
         "41",
         "GSK",
         "GLAXOSMITHKLINE",
         "Health Care",
         "Equity",
         null,
         "0.61",
         null,
         "16.45",
         "United Kingdom",
         "London Stock Exchange",
         "GBP",
         "EXSA.DE"
        ],
        [
         "42",
         "PRX",
         "PROSUS NV CLASS N",
         "Consumer Discretionary",
         "Equity",
         null,
         "0.58",
         null,
         "52.77",
         "Netherlands",
         "Euronext Amsterdam",
         "EUR",
         "EXSA.DE"
        ],
        [
         "43",
         "INGA",
         "ING GROEP NV",
         "Financials",
         "Equity",
         null,
         "0.58",
         null,
         "21.3",
         "Netherlands",
         "Euronext Amsterdam",
         "EUR",
         "EXSA.DE"
        ],
        [
         "44",
         "ENR",
         "SIEMENS ENERGY N AG",
         "Industrials",
         "Equity",
         null,
         "0.57",
         null,
         "97.82",
         "Germany",
         "Xetra",
         "EUR",
         "EXSA.DE"
        ],
        [
         "45",
         "ENEL",
         "ENEL",
         "Utilities",
         "Equity",
         null,
         "0.54",
         null,
         "8.02",
         "Italy",
         "Borsa Italiana",
         "EUR",
         "EXSA.DE"
        ],
        [
         "46",
         "NG.",
         "NATIONAL GRID PLC",
         "Utilities",
         "Equity",
         null,
         "0.54",
         null,
         "12.22",
         "United Kingdom",
         "London Stock Exchange",
         "GBP",
         "EXSA.DE"
        ],
        [
         "47",
         "BARC",
         "BARCLAYS PLC",
         "Financials",
         "Equity",
         null,
         "0.53",
         null,
         "4.36",
         "United Kingdom",
         "London Stock Exchange",
         "GBP",
         "EXSA.DE"
        ],
        [
         "48",
         "BA.",
         "BAE SYSTEMS PLC",
         "Industrials",
         "Equity",
         null,
         "0.53",
         null,
         "20.64",
         "United Kingdom",
         "London Stock Exchange",
         "GBP",
         "EXSA.DE"
        ],
        [
         "49",
         "DBK",
         "DEUTSCHE BANK AG",
         "Financials",
         "Equity",
         null,
         "0.52",
         null,
         "31.43",
         "Germany",
         "Xetra",
         "EUR",
         "EXSA.DE"
        ],
        [
         "50",
         "LLOY",
         "LLOYDS BANKING GROUP PLC",
         "Financials",
         "Equity",
         null,
         "0.5",
         null,
         "0.97",
         "United Kingdom",
         "London Stock Exchange",
         "GBP",
         "EXSA.DE"
        ]
       ],
       "shape": {
        "columns": 12,
        "rows": 612
       }
      },
      "text/html": [
       "<div>\n",
       "<style scoped>\n",
       "    .dataframe tbody tr th:only-of-type {\n",
       "        vertical-align: middle;\n",
       "    }\n",
       "\n",
       "    .dataframe tbody tr th {\n",
       "        vertical-align: top;\n",
       "    }\n",
       "\n",
       "    .dataframe thead th {\n",
       "        text-align: right;\n",
       "    }\n",
       "</style>\n",
       "<table border=\"1\" class=\"dataframe\">\n",
       "  <thead>\n",
       "    <tr style=\"text-align: right;\">\n",
       "      <th></th>\n",
       "      <th>symbol</th>\n",
       "      <th>holding_name</th>\n",
       "      <th>sector</th>\n",
       "      <th>asset_class</th>\n",
       "      <th>market_value</th>\n",
       "      <th>weight</th>\n",
       "      <th>shares</th>\n",
       "      <th>price</th>\n",
       "      <th>country</th>\n",
       "      <th>exchange</th>\n",
       "      <th>market_currency</th>\n",
       "      <th>ticker</th>\n",
       "    </tr>\n",
       "  </thead>\n",
       "  <tbody>\n",
       "    <tr>\n",
       "      <th>0</th>\n",
       "      <td>ASML</td>\n",
       "      <td>ASML HOLDING NV</td>\n",
       "      <td>Information Technology</td>\n",
       "      <td>Equity</td>\n",
       "      <td>NaN</td>\n",
       "      <td>2.18</td>\n",
       "      <td>NaN</td>\n",
       "      <td>642.90</td>\n",
       "      <td>Netherlands</td>\n",
       "      <td>Euronext Amsterdam</td>\n",
       "      <td>EUR</td>\n",
       "      <td>EXSA.DE</td>\n",
       "    </tr>\n",
       "    <tr>\n",
       "      <th>1</th>\n",
       "      <td>SAP</td>\n",
       "      <td>SAP</td>\n",
       "      <td>Information Technology</td>\n",
       "      <td>Equity</td>\n",
       "      <td>NaN</td>\n",
       "      <td>2.10</td>\n",
       "      <td>NaN</td>\n",
       "      <td>239.65</td>\n",
       "      <td>Germany</td>\n",
       "      <td>Xetra</td>\n",
       "      <td>EUR</td>\n",
       "      <td>EXSA.DE</td>\n",
       "    </tr>\n",
       "    <tr>\n",
       "      <th>2</th>\n",
       "      <td>AZN</td>\n",
       "      <td>ASTRAZENECA PLC</td>\n",
       "      <td>Health Care</td>\n",
       "      <td>Equity</td>\n",
       "      <td>NaN</td>\n",
       "      <td>1.79</td>\n",
       "      <td>NaN</td>\n",
       "      <td>134.69</td>\n",
       "      <td>United Kingdom</td>\n",
       "      <td>London Stock Exchange</td>\n",
       "      <td>GBP</td>\n",
       "      <td>EXSA.DE</td>\n",
       "    </tr>\n",
       "    <tr>\n",
       "      <th>3</th>\n",
       "      <td>NOVN</td>\n",
       "      <td>NOVARTIS AG</td>\n",
       "      <td>Health Care</td>\n",
       "      <td>Equity</td>\n",
       "      <td>NaN</td>\n",
       "      <td>1.75</td>\n",
       "      <td>NaN</td>\n",
       "      <td>104.73</td>\n",
       "      <td>Switzerland</td>\n",
       "      <td>SIX Swiss Exchange</td>\n",
       "      <td>CHF</td>\n",
       "      <td>EXSA.DE</td>\n",
       "    </tr>\n",
       "    <tr>\n",
       "      <th>4</th>\n",
       "      <td>NESN</td>\n",
       "      <td>NESTLE SA</td>\n",
       "      <td>Consumer Staples</td>\n",
       "      <td>Equity</td>\n",
       "      <td>NaN</td>\n",
       "      <td>1.70</td>\n",
       "      <td>NaN</td>\n",
       "      <td>76.57</td>\n",
       "      <td>Switzerland</td>\n",
       "      <td>SIX Swiss Exchange</td>\n",
       "      <td>CHF</td>\n",
       "      <td>EXSA.DE</td>\n",
       "    </tr>\n",
       "    <tr>\n",
       "      <th>...</th>\n",
       "      <td>...</td>\n",
       "      <td>...</td>\n",
       "      <td>...</td>\n",
       "      <td>...</td>\n",
       "      <td>...</td>\n",
       "      <td>...</td>\n",
       "      <td>...</td>\n",
       "      <td>...</td>\n",
       "      <td>...</td>\n",
       "      <td>...</td>\n",
       "      <td>...</td>\n",
       "      <td>...</td>\n",
       "    </tr>\n",
       "    <tr>\n",
       "      <th>608</th>\n",
       "      <td>SEK</td>\n",
       "      <td>SEK CASH</td>\n",
       "      <td>Cash and/or Derivatives</td>\n",
       "      <td>Cash</td>\n",
       "      <td>NaN</td>\n",
       "      <td>0.00</td>\n",
       "      <td>NaN</td>\n",
       "      <td>8.95</td>\n",
       "      <td>Sweden</td>\n",
       "      <td>-</td>\n",
       "      <td>SEK</td>\n",
       "      <td>EXSA.DE</td>\n",
       "    </tr>\n",
       "    <tr>\n",
       "      <th>609</th>\n",
       "      <td>GEL</td>\n",
       "      <td>GEL CASH(COMMITTED)</td>\n",
       "      <td>Cash and/or Derivatives</td>\n",
       "      <td>Cash</td>\n",
       "      <td>NaN</td>\n",
       "      <td>0.00</td>\n",
       "      <td>NaN</td>\n",
       "      <td>31.76</td>\n",
       "      <td>Georgia</td>\n",
       "      <td>-</td>\n",
       "      <td>GEL</td>\n",
       "      <td>EXSA.DE</td>\n",
       "    </tr>\n",
       "    <tr>\n",
       "      <th>610</th>\n",
       "      <td>MARGIN_EUR</td>\n",
       "      <td>FUTURES EUR MARGIN BALANCE</td>\n",
       "      <td>Cash and/or Derivatives</td>\n",
       "      <td>Cash Collateral and Margins</td>\n",
       "      <td>0.00</td>\n",
       "      <td>0.00</td>\n",
       "      <td>0.0</td>\n",
       "      <td>100.00</td>\n",
       "      <td>European Union</td>\n",
       "      <td>-</td>\n",
       "      <td>EUR</td>\n",
       "      <td>EXSA.DE</td>\n",
       "    </tr>\n",
       "    <tr>\n",
       "      <th>611</th>\n",
       "      <td>2587224D</td>\n",
       "      <td>TELECOM ITALIA SPA</td>\n",
       "      <td>Communication</td>\n",
       "      <td>Equity</td>\n",
       "      <td>124.02</td>\n",
       "      <td>0.00</td>\n",
       "      <td>NaN</td>\n",
       "      <td>0.00</td>\n",
       "      <td>Italy</td>\n",
       "      <td>Borsa Italiana</td>\n",
       "      <td>EUR</td>\n",
       "      <td>EXSA.DE</td>\n",
       "    </tr>\n",
       "    <tr>\n",
       "      <th>612</th>\n",
       "      <td>SXOU5</td>\n",
       "      <td>STOXX EUROPE 600 SEP 25</td>\n",
       "      <td>Cash and/or Derivatives</td>\n",
       "      <td>Futures</td>\n",
       "      <td>0.00</td>\n",
       "      <td>0.00</td>\n",
       "      <td>NaN</td>\n",
       "      <td>554.70</td>\n",
       "      <td>European Union</td>\n",
       "      <td>Eurex Deutschland</td>\n",
       "      <td>EUR</td>\n",
       "      <td>EXSA.DE</td>\n",
       "    </tr>\n",
       "  </tbody>\n",
       "</table>\n",
       "<p>612 rows × 12 columns</p>\n",
       "</div>"
      ],
      "text/plain": [
       "         symbol                holding_name                   sector  \\\n",
       "0          ASML             ASML HOLDING NV   Information Technology   \n",
       "1           SAP                         SAP   Information Technology   \n",
       "2           AZN             ASTRAZENECA PLC              Health Care   \n",
       "3          NOVN                 NOVARTIS AG              Health Care   \n",
       "4          NESN                   NESTLE SA         Consumer Staples   \n",
       "..          ...                         ...                      ...   \n",
       "608         SEK                    SEK CASH  Cash and/or Derivatives   \n",
       "609         GEL         GEL CASH(COMMITTED)  Cash and/or Derivatives   \n",
       "610  MARGIN_EUR  FUTURES EUR MARGIN BALANCE  Cash and/or Derivatives   \n",
       "611    2587224D          TELECOM ITALIA SPA            Communication   \n",
       "612       SXOU5     STOXX EUROPE 600 SEP 25  Cash and/or Derivatives   \n",
       "\n",
       "                     asset_class  market_value  weight  shares   price  \\\n",
       "0                         Equity           NaN    2.18     NaN  642.90   \n",
       "1                         Equity           NaN    2.10     NaN  239.65   \n",
       "2                         Equity           NaN    1.79     NaN  134.69   \n",
       "3                         Equity           NaN    1.75     NaN  104.73   \n",
       "4                         Equity           NaN    1.70     NaN   76.57   \n",
       "..                           ...           ...     ...     ...     ...   \n",
       "608                         Cash           NaN    0.00     NaN    8.95   \n",
       "609                         Cash           NaN    0.00     NaN   31.76   \n",
       "610  Cash Collateral and Margins          0.00    0.00     0.0  100.00   \n",
       "611                       Equity        124.02    0.00     NaN    0.00   \n",
       "612                      Futures          0.00    0.00     NaN  554.70   \n",
       "\n",
       "            country               exchange market_currency   ticker  \n",
       "0       Netherlands     Euronext Amsterdam             EUR  EXSA.DE  \n",
       "1           Germany                  Xetra             EUR  EXSA.DE  \n",
       "2    United Kingdom  London Stock Exchange             GBP  EXSA.DE  \n",
       "3       Switzerland     SIX Swiss Exchange             CHF  EXSA.DE  \n",
       "4       Switzerland     SIX Swiss Exchange             CHF  EXSA.DE  \n",
       "..              ...                    ...             ...      ...  \n",
       "608          Sweden                      -             SEK  EXSA.DE  \n",
       "609         Georgia                      -             GEL  EXSA.DE  \n",
       "610  European Union                      -             EUR  EXSA.DE  \n",
       "611           Italy         Borsa Italiana             EUR  EXSA.DE  \n",
       "612  European Union      Eurex Deutschland             EUR  EXSA.DE  \n",
       "\n",
       "[612 rows x 12 columns]"
      ]
     },
     "execution_count": 27,
     "metadata": {},
     "output_type": "execute_result"
    }
   ],
   "source": [
    "from app.providers.blackrock import create_blackrock_holdings_provider\n",
    "\n",
    "provider = create_blackrock_holdings_provider()\n",
    "# provider.get_data_sync(\"CSNDX\").data      # Nasdaq 100\n",
    "# provider.get_data_sync(\"CSPX\").data       # S&P 500\n",
    "provider.get_data_sync(\"EXSA.DE\").data    # STOXX 600\n",
    "# provider.get_data_sync(\"IWLE.DE\").data    # MSCI World"
   ]
  },
  {
   "cell_type": "markdown",
   "id": "404aa688",
   "metadata": {},
   "source": [
    "## Fred Providers"
   ]
  },
  {
   "cell_type": "markdown",
   "id": "359d9f31",
   "metadata": {},
   "source": [
    "### FredSeriesProviders"
   ]
  },
  {
   "cell_type": "code",
   "execution_count": 14,
   "id": "18da755a",
   "metadata": {},
   "outputs": [
    {
     "data": {
      "application/vnd.microsoft.datawrangler.viewer.v0+json": {
       "columns": [
        {
         "name": "date",
         "rawType": "datetime64[ns]",
         "type": "datetime"
        },
        {
         "name": "value",
         "rawType": "float64",
         "type": "float"
        }
       ],
       "ref": "3fcfbed7-e2b9-4e09-bfd7-b79d3874b5d4",
       "rows": [
        [
         "1947-01-01 00:00:00",
         "243.164"
        ],
        [
         "1947-04-01 00:00:00",
         "245.968"
        ],
        [
         "1947-07-01 00:00:00",
         "249.585"
        ],
        [
         "1947-10-01 00:00:00",
         "259.745"
        ],
        [
         "1948-01-01 00:00:00",
         "265.742"
        ],
        [
         "1948-04-01 00:00:00",
         "272.567"
        ],
        [
         "1948-07-01 00:00:00",
         "279.196"
        ],
        [
         "1948-10-01 00:00:00",
         "280.366"
        ],
        [
         "1949-01-01 00:00:00",
         "275.034"
        ],
        [
         "1949-04-01 00:00:00",
         "271.351"
        ],
        [
         "1949-07-01 00:00:00",
         "272.889"
        ],
        [
         "1949-10-01 00:00:00",
         "270.627"
        ],
        [
         "1950-01-01 00:00:00",
         "280.828"
        ],
        [
         "1950-04-01 00:00:00",
         "290.383"
        ],
        [
         "1950-07-01 00:00:00",
         "308.153"
        ],
        [
         "1950-10-01 00:00:00",
         "319.945"
        ],
        [
         "1951-01-01 00:00:00",
         "336.0"
        ],
        [
         "1951-04-01 00:00:00",
         "344.09"
        ],
        [
         "1951-07-01 00:00:00",
         "351.385"
        ],
        [
         "1951-10-01 00:00:00",
         "356.178"
        ],
        [
         "1952-01-01 00:00:00",
         "359.82"
        ],
        [
         "1952-04-01 00:00:00",
         "361.03"
        ],
        [
         "1952-07-01 00:00:00",
         "367.701"
        ],
        [
         "1952-10-01 00:00:00",
         "380.812"
        ],
        [
         "1953-01-01 00:00:00",
         "387.98"
        ],
        [
         "1953-04-01 00:00:00",
         "391.749"
        ],
        [
         "1953-07-01 00:00:00",
         "391.171"
        ],
        [
         "1953-10-01 00:00:00",
         "385.97"
        ],
        [
         "1954-01-01 00:00:00",
         "385.345"
        ],
        [
         "1954-04-01 00:00:00",
         "386.121"
        ],
        [
         "1954-07-01 00:00:00",
         "390.996"
        ],
        [
         "1954-10-01 00:00:00",
         "399.734"
        ],
        [
         "1955-01-01 00:00:00",
         "413.073"
        ],
        [
         "1955-04-01 00:00:00",
         "421.532"
        ],
        [
         "1955-07-01 00:00:00",
         "430.221"
        ],
        [
         "1955-10-01 00:00:00",
         "437.092"
        ],
        [
         "1956-01-01 00:00:00",
         "439.746"
        ],
        [
         "1956-04-01 00:00:00",
         "446.01"
        ],
        [
         "1956-07-01 00:00:00",
         "451.191"
        ],
        [
         "1956-10-01 00:00:00",
         "460.463"
        ],
        [
         "1957-01-01 00:00:00",
         "469.779"
        ],
        [
         "1957-04-01 00:00:00",
         "472.025"
        ],
        [
         "1957-07-01 00:00:00",
         "479.49"
        ],
        [
         "1957-10-01 00:00:00",
         "474.864"
        ],
        [
         "1958-01-01 00:00:00",
         "467.54"
        ],
        [
         "1958-04-01 00:00:00",
         "471.978"
        ],
        [
         "1958-07-01 00:00:00",
         "485.841"
        ],
        [
         "1958-10-01 00:00:00",
         "499.555"
        ],
        [
         "1959-01-01 00:00:00",
         "510.33"
        ],
        [
         "1959-04-01 00:00:00",
         "522.653"
        ]
       ],
       "shape": {
        "columns": 1,
        "rows": 314
       }
      },
      "text/html": [
       "<div>\n",
       "<style scoped>\n",
       "    .dataframe tbody tr th:only-of-type {\n",
       "        vertical-align: middle;\n",
       "    }\n",
       "\n",
       "    .dataframe tbody tr th {\n",
       "        vertical-align: top;\n",
       "    }\n",
       "\n",
       "    .dataframe thead th {\n",
       "        text-align: right;\n",
       "    }\n",
       "</style>\n",
       "<table border=\"1\" class=\"dataframe\">\n",
       "  <thead>\n",
       "    <tr style=\"text-align: right;\">\n",
       "      <th></th>\n",
       "      <th>value</th>\n",
       "    </tr>\n",
       "    <tr>\n",
       "      <th>date</th>\n",
       "      <th></th>\n",
       "    </tr>\n",
       "  </thead>\n",
       "  <tbody>\n",
       "    <tr>\n",
       "      <th>1947-01-01</th>\n",
       "      <td>243.164</td>\n",
       "    </tr>\n",
       "    <tr>\n",
       "      <th>1947-04-01</th>\n",
       "      <td>245.968</td>\n",
       "    </tr>\n",
       "    <tr>\n",
       "      <th>1947-07-01</th>\n",
       "      <td>249.585</td>\n",
       "    </tr>\n",
       "    <tr>\n",
       "      <th>1947-10-01</th>\n",
       "      <td>259.745</td>\n",
       "    </tr>\n",
       "    <tr>\n",
       "      <th>1948-01-01</th>\n",
       "      <td>265.742</td>\n",
       "    </tr>\n",
       "    <tr>\n",
       "      <th>...</th>\n",
       "      <td>...</td>\n",
       "    </tr>\n",
       "    <tr>\n",
       "      <th>2024-04-01</th>\n",
       "      <td>29016.714</td>\n",
       "    </tr>\n",
       "    <tr>\n",
       "      <th>2024-07-01</th>\n",
       "      <td>29374.914</td>\n",
       "    </tr>\n",
       "    <tr>\n",
       "      <th>2024-10-01</th>\n",
       "      <td>29723.864</td>\n",
       "    </tr>\n",
       "    <tr>\n",
       "      <th>2025-01-01</th>\n",
       "      <td>29962.047</td>\n",
       "    </tr>\n",
       "    <tr>\n",
       "      <th>2025-04-01</th>\n",
       "      <td>30331.117</td>\n",
       "    </tr>\n",
       "  </tbody>\n",
       "</table>\n",
       "<p>314 rows × 1 columns</p>\n",
       "</div>"
      ],
      "text/plain": [
       "                value\n",
       "date                 \n",
       "1947-01-01    243.164\n",
       "1947-04-01    245.968\n",
       "1947-07-01    249.585\n",
       "1947-10-01    259.745\n",
       "1948-01-01    265.742\n",
       "...               ...\n",
       "2024-04-01  29016.714\n",
       "2024-07-01  29374.914\n",
       "2024-10-01  29723.864\n",
       "2025-01-01  29962.047\n",
       "2025-04-01  30331.117\n",
       "\n",
       "[314 rows x 1 columns]"
      ]
     },
     "execution_count": 14,
     "metadata": {},
     "output_type": "execute_result"
    }
   ],
   "source": [
    "from app.providers.fred import create_fred_series_provider\n",
    "\n",
    "provider = create_fred_series_provider()\n",
    "provider.get_data_sync('GDP').data"
   ]
  },
  {
   "cell_type": "markdown",
   "id": "17dd2fc9",
   "metadata": {},
   "source": [
    "## IBKR Providers"
   ]
  },
  {
   "cell_type": "code",
   "execution_count": 37,
   "id": "53c660fa",
   "metadata": {},
   "outputs": [],
   "source": [
    "os.environ['IB_GATEWAY_CLIENT_PORT'] = '4002'  # Paper portfolio"
   ]
  },
  {
   "cell_type": "markdown",
   "id": "79076a9b",
   "metadata": {},
   "source": [
    "### IBKRPositionsProvider"
   ]
  },
  {
   "cell_type": "code",
   "execution_count": 41,
   "id": "e33650ea",
   "metadata": {},
   "outputs": [],
   "source": [
    "from app.providers.ibkr import create_ibkr_positions_provider\n",
    "\n",
    "provider = create_ibkr_positions_provider()\n",
    "_ = provider.get_data_sync().data"
   ]
  },
  {
   "cell_type": "markdown",
   "id": "dd6a0bac",
   "metadata": {},
   "source": [
    "### IBKRCashProvider"
   ]
  },
  {
   "cell_type": "code",
   "execution_count": 42,
   "id": "dcea8288",
   "metadata": {},
   "outputs": [],
   "source": [
    "from app.providers.ibkr import create_ibkr_cash_provider\n",
    "\n",
    "provider = create_ibkr_cash_provider()\n",
    "_ = provider.get_data_sync().data"
   ]
  },
  {
   "cell_type": "markdown",
   "id": "1e7e5dcf",
   "metadata": {},
   "source": [
    "## Shiller Providers"
   ]
  },
  {
   "cell_type": "markdown",
   "id": "d8dc4f9c",
   "metadata": {},
   "source": [
    "### ShillerCAPEProvider"
   ]
  },
  {
   "cell_type": "code",
   "execution_count": 6,
   "id": "7609cf64",
   "metadata": {},
   "outputs": [
    {
     "data": {
      "application/vnd.microsoft.datawrangler.viewer.v0+json": {
       "columns": [
        {
         "name": "Date",
         "rawType": "datetime64[ns]",
         "type": "datetime"
        },
        {
         "name": "CAPE",
         "rawType": "float64",
         "type": "float"
        },
        {
         "name": "Excess_CAPE_Yield",
         "rawType": "float64",
         "type": "float"
        }
       ],
       "ref": "85e3225b-1ce0-47fc-8d8d-ac5e3a3180d9",
       "rows": [
        [
         "1881-01-01 00:00:00",
         "18.473952301404942",
         "-0.01048874481343709"
        ],
        [
         "1881-02-01 00:00:00",
         "18.147258164990234",
         "-0.011392839551264057"
        ],
        [
         "1881-03-01 00:00:00",
         "18.270119140204997",
         "-0.013123118077292363"
        ],
        [
         "1881-04-01 00:00:00",
         "17.950108278222896",
         "-0.007503501721981776"
        ],
        [
         "1881-05-01 00:00:00",
         "18.869718693152596",
         "-0.008881089986274217"
        ],
        [
         "1881-06-01 00:00:00",
         "19.028710731115787",
         "-0.007732465433510222"
        ],
        [
         "1881-07-01 00:00:00",
         "18.116367187389745",
         "-0.004047872140695706"
        ],
        [
         "1881-08-01 00:00:00",
         "17.28624355397345",
         "0.0021436052233798214"
        ],
        [
         "1881-09-01 00:00:00",
         "16.7248366487729",
         "0.005564050621919732"
        ],
        [
         "1881-10-01 00:00:00",
         "16.26198941118135",
         "0.006724035747653748"
        ],
        [
         "1881-11-01 00:00:00",
         "16.478642316644873",
         "0.005069307365658422"
        ],
        [
         "1881-12-01 00:00:00",
         "15.95875420610508",
         "0.0048775071089471045"
        ],
        [
         "1882-01-01 00:00:00",
         "15.67876416002874",
         "0.006063178135554383"
        ],
        [
         "1882-02-01 00:00:00",
         "15.15386152836304",
         "0.009174922369645379"
        ],
        [
         "1882-03-01 00:00:00",
         "15.091670299486745",
         "0.007978128065748567"
        ],
        [
         "1882-04-01 00:00:00",
         "14.916997168375305",
         "0.007498172735758764"
        ],
        [
         "1882-05-01 00:00:00",
         "14.567103202191761",
         "0.009991834775673038"
        ],
        [
         "1882-06-01 00:00:00",
         "14.327404890131671",
         "0.012729276253183257"
        ],
        [
         "1882-07-01 00:00:00",
         "15.240559761217824",
         "0.009093141918662721"
        ],
        [
         "1882-08-01 00:00:00",
         "15.52542933146303",
         "0.008044514050340762"
        ],
        [
         "1882-09-01 00:00:00",
         "16.08110662446232",
         "0.0024137828797115637"
        ],
        [
         "1882-10-01 00:00:00",
         "15.755581030526558",
         "0.004945010915350101"
        ],
        [
         "1882-11-01 00:00:00",
         "15.192670313165346",
         "0.003500861849316722"
        ],
        [
         "1882-12-01 00:00:00",
         "15.382128332081978",
         "0.0031815143101115995"
        ],
        [
         "1883-01-01 00:00:00",
         "15.270259119098577",
         "0.0036494449665530337"
        ],
        [
         "1883-02-01 00:00:00",
         "14.757590146176227",
         "0.004730537555653086"
        ],
        [
         "1883-03-01 00:00:00",
         "15.051254121401646",
         "0.002495279564893524"
        ],
        [
         "1883-04-01 00:00:00",
         "15.482067222036676",
         "-0.0002753950050816967"
        ],
        [
         "1883-05-01 00:00:00",
         "15.33549763733707",
         "0.0015315856185122018"
        ],
        [
         "1883-06-01 00:00:00",
         "15.903388388583798",
         "-0.0007597696898063999"
        ],
        [
         "1883-07-01 00:00:00",
         "15.948783127017034",
         "-0.0028937843102309208"
        ],
        [
         "1883-08-01 00:00:00",
         "15.196810876629849",
         "0.00021712055410358366"
        ],
        [
         "1883-09-01 00:00:00",
         "15.49469242579346",
         "-0.0020348484115957216"
        ],
        [
         "1883-10-01 00:00:00",
         "15.04805627022384",
         "0.002120613484408951"
        ],
        [
         "1883-11-01 00:00:00",
         "15.408218142448872",
         "0.0026325881891270317"
        ],
        [
         "1883-12-01 00:00:00",
         "14.896403941887167",
         "0.0035706001324259107"
        ],
        [
         "1884-01-01 00:00:00",
         "14.432821721970726",
         "0.004228642188965986"
        ],
        [
         "1884-02-01 00:00:00",
         "14.805960228816712",
         "0.002565822726183317"
        ],
        [
         "1884-03-01 00:00:00",
         "14.736023454014473",
         "0.0029697008462466062"
        ],
        [
         "1884-04-01 00:00:00",
         "14.353453682579477",
         "0.004344405478574259"
        ],
        [
         "1884-05-01 00:00:00",
         "13.465050313804905",
         "0.0077210795261653115"
        ],
        [
         "1884-06-01 00:00:00",
         "12.906876483666865",
         "0.013335959139286271"
        ],
        [
         "1884-07-01 00:00:00",
         "13.043931585991668",
         "0.01077658287522544"
        ],
        [
         "1884-08-01 00:00:00",
         "13.859813341769325",
         "0.0071264007069202495"
        ],
        [
         "1884-09-01 00:00:00",
         "13.569154744335725",
         "0.007694843940038734"
        ],
        [
         "1884-10-01 00:00:00",
         "13.273251319134157",
         "0.009926540077895452"
        ],
        [
         "1884-11-01 00:00:00",
         "13.30443760211973",
         "0.008452660831066022"
        ],
        [
         "1884-12-01 00:00:00",
         "13.432292746944759",
         "0.0067139154078262875"
        ],
        [
         "1885-01-01 00:00:00",
         "13.129817425635961",
         "0.008512315822483643"
        ],
        [
         "1885-02-01 00:00:00",
         "13.384817593597965",
         "0.008292950963367282"
        ]
       ],
       "shape": {
        "columns": 2,
        "rows": 1737
       }
      },
      "text/html": [
       "<div>\n",
       "<style scoped>\n",
       "    .dataframe tbody tr th:only-of-type {\n",
       "        vertical-align: middle;\n",
       "    }\n",
       "\n",
       "    .dataframe tbody tr th {\n",
       "        vertical-align: top;\n",
       "    }\n",
       "\n",
       "    .dataframe thead th {\n",
       "        text-align: right;\n",
       "    }\n",
       "</style>\n",
       "<table border=\"1\" class=\"dataframe\">\n",
       "  <thead>\n",
       "    <tr style=\"text-align: right;\">\n",
       "      <th></th>\n",
       "      <th>CAPE</th>\n",
       "      <th>Excess_CAPE_Yield</th>\n",
       "    </tr>\n",
       "    <tr>\n",
       "      <th>Date</th>\n",
       "      <th></th>\n",
       "      <th></th>\n",
       "    </tr>\n",
       "  </thead>\n",
       "  <tbody>\n",
       "    <tr>\n",
       "      <th>1881-01-01</th>\n",
       "      <td>18.473952</td>\n",
       "      <td>-0.010489</td>\n",
       "    </tr>\n",
       "    <tr>\n",
       "      <th>1881-02-01</th>\n",
       "      <td>18.147258</td>\n",
       "      <td>-0.011393</td>\n",
       "    </tr>\n",
       "    <tr>\n",
       "      <th>1881-03-01</th>\n",
       "      <td>18.270119</td>\n",
       "      <td>-0.013123</td>\n",
       "    </tr>\n",
       "    <tr>\n",
       "      <th>1881-04-01</th>\n",
       "      <td>17.950108</td>\n",
       "      <td>-0.007504</td>\n",
       "    </tr>\n",
       "    <tr>\n",
       "      <th>1881-05-01</th>\n",
       "      <td>18.869719</td>\n",
       "      <td>-0.008881</td>\n",
       "    </tr>\n",
       "    <tr>\n",
       "      <th>...</th>\n",
       "      <td>...</td>\n",
       "      <td>...</td>\n",
       "    </tr>\n",
       "    <tr>\n",
       "      <th>2025-05-01</th>\n",
       "      <td>35.076007</td>\n",
       "      <td>0.014912</td>\n",
       "    </tr>\n",
       "    <tr>\n",
       "      <th>2025-06-01</th>\n",
       "      <td>36.108975</td>\n",
       "      <td>0.014487</td>\n",
       "    </tr>\n",
       "    <tr>\n",
       "      <th>2025-07-01</th>\n",
       "      <td>37.469882</td>\n",
       "      <td>0.013530</td>\n",
       "    </tr>\n",
       "    <tr>\n",
       "      <th>2025-08-01</th>\n",
       "      <td>38.031442</td>\n",
       "      <td>0.014659</td>\n",
       "    </tr>\n",
       "    <tr>\n",
       "      <th>2025-08-01</th>\n",
       "      <td>37.972942</td>\n",
       "      <td>0.015199</td>\n",
       "    </tr>\n",
       "  </tbody>\n",
       "</table>\n",
       "<p>1737 rows × 2 columns</p>\n",
       "</div>"
      ],
      "text/plain": [
       "                 CAPE  Excess_CAPE_Yield\n",
       "Date                                    \n",
       "1881-01-01  18.473952          -0.010489\n",
       "1881-02-01  18.147258          -0.011393\n",
       "1881-03-01  18.270119          -0.013123\n",
       "1881-04-01  17.950108          -0.007504\n",
       "1881-05-01  18.869719          -0.008881\n",
       "...               ...                ...\n",
       "2025-05-01  35.076007           0.014912\n",
       "2025-06-01  36.108975           0.014487\n",
       "2025-07-01  37.469882           0.013530\n",
       "2025-08-01  38.031442           0.014659\n",
       "2025-08-01  37.972942           0.015199\n",
       "\n",
       "[1737 rows x 2 columns]"
      ]
     },
     "execution_count": 6,
     "metadata": {},
     "output_type": "execute_result"
    }
   ],
   "source": [
    "from app.providers.shiller import create_shiller_cape_provider\n",
    "\n",
    "provider = create_shiller_cape_provider()\n",
    "provider.get_data_sync().data"
   ]
  },
  {
   "cell_type": "markdown",
   "id": "e76724c0",
   "metadata": {},
   "source": [
    "## Tipranks Providers"
   ]
  },
  {
   "cell_type": "code",
   "execution_count": 1,
   "id": "c3f834ba",
   "metadata": {},
   "outputs": [
    {
     "ename": "ModuleNotFoundError",
     "evalue": "No module named 'app'",
     "output_type": "error",
     "traceback": [
      "\u001b[31m---------------------------------------------------------------------------\u001b[39m",
      "\u001b[31mModuleNotFoundError\u001b[39m                       Traceback (most recent call last)",
      "\u001b[36mCell\u001b[39m\u001b[36m \u001b[39m\u001b[32mIn[1]\u001b[39m\u001b[32m, line 1\u001b[39m\n\u001b[32m----> \u001b[39m\u001b[32m1\u001b[39m \u001b[38;5;28;01mfrom\u001b[39;00m\u001b[38;5;250m \u001b[39m\u001b[34;01mapp\u001b[39;00m\u001b[34;01m.\u001b[39;00m\u001b[34;01mproviders\u001b[39;00m\u001b[34;01m.\u001b[39;00m\u001b[34;01mtipranks\u001b[39;00m\u001b[38;5;250m \u001b[39m\u001b[38;5;28;01mimport\u001b[39;00m create_tipranks_data_provider\n\u001b[32m      3\u001b[39m provider = create_tipranks_data_provider()\n\u001b[32m      4\u001b[39m pprint(provider.get_data_sync(ticker).data.model_dump())\n",
      "\u001b[31mModuleNotFoundError\u001b[39m: No module named 'app'"
     ]
    }
   ],
   "source": [
    "from app.providers.tipranks import create_tipranks_data_provider\n",
    "\n",
    "provider = create_tipranks_data_provider()\n",
    "pprint(provider.get_data_sync(ticker).data.model_dump())"
   ]
  },
  {
   "cell_type": "code",
   "execution_count": 36,
   "id": "facc5237",
   "metadata": {},
   "outputs": [
    {
     "name": "stdout",
     "output_type": "stream",
     "text": [
      "{'articles_last_week': 121,\n",
      " 'bearish_percent': 0.2,\n",
      " 'bullish_percent': 0.8,\n",
      " 'buzz_score': 0.8962,\n",
      " 'company_name': 'Microsoft',\n",
      " 'sector_avg_bullish_percent': 0.5702,\n",
      " 'sentiment_score': 0.7272,\n",
      " 'ticker': 'MSFT',\n",
      " 'weekly_average': 135.0,\n",
      " 'word_cloud_count': 9}\n"
     ]
    }
   ],
   "source": [
    "from app.providers.tipranks import create_tipranks_news_sentiment_provider\n",
    "\n",
    "provider = create_tipranks_news_sentiment_provider()\n",
    "pprint(provider.get_data_sync(ticker).data.model_dump())"
   ]
  },
  {
   "cell_type": "markdown",
   "id": "613f9cd6",
   "metadata": {},
   "source": [
    "### TipranksDataProviders"
   ]
  },
  {
   "cell_type": "markdown",
   "id": "e982b92d",
   "metadata": {},
   "source": [
    "## Yahoo Providers"
   ]
  },
  {
   "cell_type": "markdown",
   "id": "c4d002fe",
   "metadata": {},
   "source": [
    "### YahooHistoryProvider"
   ]
  },
  {
   "cell_type": "code",
   "execution_count": 17,
   "id": "147f32af",
   "metadata": {},
   "outputs": [
    {
     "data": {
      "application/vnd.microsoft.datawrangler.viewer.v0+json": {
       "columns": [
        {
         "name": "Date",
         "rawType": "datetime64[ns, America/New_York]",
         "type": "unknown"
        },
        {
         "name": "Open",
         "rawType": "float64",
         "type": "float"
        },
        {
         "name": "High",
         "rawType": "float64",
         "type": "float"
        },
        {
         "name": "Low",
         "rawType": "float64",
         "type": "float"
        },
        {
         "name": "Close",
         "rawType": "float64",
         "type": "float"
        },
        {
         "name": "Volume",
         "rawType": "int64",
         "type": "integer"
        },
        {
         "name": "Dividends",
         "rawType": "float64",
         "type": "float"
        },
        {
         "name": "Stock Splits",
         "rawType": "float64",
         "type": "float"
        }
       ],
       "ref": "7b3813fb-af90-4b11-965d-4c8b6ceb94ae",
       "rows": [
        [
         "1986-03-13 00:00:00-05:00",
         "0.05",
         "0.06",
         "0.05",
         "0.06",
         "1031788800",
         "0.0",
         "0.0"
        ],
        [
         "1986-03-14 00:00:00-05:00",
         "0.06",
         "0.06",
         "0.06",
         "0.06",
         "308160000",
         "0.0",
         "0.0"
        ],
        [
         "1986-03-17 00:00:00-05:00",
         "0.06",
         "0.06",
         "0.06",
         "0.06",
         "133171200",
         "0.0",
         "0.0"
        ],
        [
         "1986-03-18 00:00:00-05:00",
         "0.06",
         "0.06",
         "0.06",
         "0.06",
         "67766400",
         "0.0",
         "0.0"
        ],
        [
         "1986-03-19 00:00:00-05:00",
         "0.06",
         "0.06",
         "0.06",
         "0.06",
         "47894400",
         "0.0",
         "0.0"
        ],
        [
         "1986-03-20 00:00:00-05:00",
         "0.06",
         "0.06",
         "0.06",
         "0.06",
         "58435200",
         "0.0",
         "0.0"
        ],
        [
         "1986-03-21 00:00:00-05:00",
         "0.06",
         "0.06",
         "0.06",
         "0.06",
         "59990400",
         "0.0",
         "0.0"
        ],
        [
         "1986-03-24 00:00:00-05:00",
         "0.06",
         "0.06",
         "0.05",
         "0.06",
         "65289600",
         "0.0",
         "0.0"
        ],
        [
         "1986-03-25 00:00:00-05:00",
         "0.06",
         "0.06",
         "0.05",
         "0.06",
         "32083200",
         "0.0",
         "0.0"
        ],
        [
         "1986-03-26 00:00:00-05:00",
         "0.06",
         "0.06",
         "0.06",
         "0.06",
         "22752000",
         "0.0",
         "0.0"
        ],
        [
         "1986-03-27 00:00:00-05:00",
         "0.06",
         "0.06",
         "0.06",
         "0.06",
         "16848000",
         "0.0",
         "0.0"
        ],
        [
         "1986-03-31 00:00:00-05:00",
         "0.06",
         "0.06",
         "0.06",
         "0.06",
         "12873600",
         "0.0",
         "0.0"
        ],
        [
         "1986-04-01 00:00:00-05:00",
         "0.06",
         "0.06",
         "0.06",
         "0.06",
         "11088000",
         "0.0",
         "0.0"
        ],
        [
         "1986-04-02 00:00:00-05:00",
         "0.06",
         "0.06",
         "0.06",
         "0.06",
         "27014400",
         "0.0",
         "0.0"
        ],
        [
         "1986-04-03 00:00:00-05:00",
         "0.06",
         "0.06",
         "0.06",
         "0.06",
         "23040000",
         "0.0",
         "0.0"
        ],
        [
         "1986-04-04 00:00:00-05:00",
         "0.06",
         "0.06",
         "0.06",
         "0.06",
         "26582400",
         "0.0",
         "0.0"
        ],
        [
         "1986-04-07 00:00:00-05:00",
         "0.06",
         "0.06",
         "0.06",
         "0.06",
         "16560000",
         "0.0",
         "0.0"
        ],
        [
         "1986-04-08 00:00:00-05:00",
         "0.06",
         "0.06",
         "0.06",
         "0.06",
         "10252800",
         "0.0",
         "0.0"
        ],
        [
         "1986-04-09 00:00:00-05:00",
         "0.06",
         "0.06",
         "0.06",
         "0.06",
         "12153600",
         "0.0",
         "0.0"
        ],
        [
         "1986-04-10 00:00:00-05:00",
         "0.06",
         "0.06",
         "0.06",
         "0.06",
         "13881600",
         "0.0",
         "0.0"
        ],
        [
         "1986-04-11 00:00:00-05:00",
         "0.06",
         "0.06",
         "0.06",
         "0.06",
         "17222400",
         "0.0",
         "0.0"
        ],
        [
         "1986-04-14 00:00:00-05:00",
         "0.06",
         "0.06",
         "0.06",
         "0.06",
         "12153600",
         "0.0",
         "0.0"
        ],
        [
         "1986-04-15 00:00:00-05:00",
         "0.06",
         "0.06",
         "0.06",
         "0.06",
         "9302400",
         "0.0",
         "0.0"
        ],
        [
         "1986-04-16 00:00:00-05:00",
         "0.06",
         "0.06",
         "0.06",
         "0.06",
         "31910400",
         "0.0",
         "0.0"
        ],
        [
         "1986-04-17 00:00:00-05:00",
         "0.06",
         "0.06",
         "0.06",
         "0.06",
         "22003200",
         "0.0",
         "0.0"
        ],
        [
         "1986-04-18 00:00:00-05:00",
         "0.06",
         "0.06",
         "0.06",
         "0.06",
         "21628800",
         "0.0",
         "0.0"
        ],
        [
         "1986-04-21 00:00:00-05:00",
         "0.06",
         "0.06",
         "0.06",
         "0.06",
         "22924800",
         "0.0",
         "0.0"
        ],
        [
         "1986-04-22 00:00:00-05:00",
         "0.06",
         "0.06",
         "0.06",
         "0.06",
         "15552000",
         "0.0",
         "0.0"
        ],
        [
         "1986-04-23 00:00:00-05:00",
         "0.06",
         "0.06",
         "0.06",
         "0.06",
         "15609600",
         "0.0",
         "0.0"
        ],
        [
         "1986-04-24 00:00:00-05:00",
         "0.06",
         "0.07",
         "0.06",
         "0.07",
         "62352000",
         "0.0",
         "0.0"
        ],
        [
         "1986-04-25 00:00:00-05:00",
         "0.07",
         "0.07",
         "0.07",
         "0.07",
         "85795200",
         "0.0",
         "0.0"
        ],
        [
         "1986-04-28 00:00:00-04:00",
         "0.07",
         "0.07",
         "0.07",
         "0.07",
         "28886400",
         "0.0",
         "0.0"
        ],
        [
         "1986-04-29 00:00:00-04:00",
         "0.07",
         "0.07",
         "0.07",
         "0.07",
         "30326400",
         "0.0",
         "0.0"
        ],
        [
         "1986-04-30 00:00:00-04:00",
         "0.07",
         "0.07",
         "0.07",
         "0.07",
         "30902400",
         "0.0",
         "0.0"
        ],
        [
         "1986-05-01 00:00:00-04:00",
         "0.07",
         "0.07",
         "0.07",
         "0.07",
         "54345600",
         "0.0",
         "0.0"
        ],
        [
         "1986-05-02 00:00:00-04:00",
         "0.07",
         "0.07",
         "0.07",
         "0.07",
         "20246400",
         "0.0",
         "0.0"
        ],
        [
         "1986-05-05 00:00:00-04:00",
         "0.07",
         "0.07",
         "0.07",
         "0.07",
         "3254400",
         "0.0",
         "0.0"
        ],
        [
         "1986-05-06 00:00:00-04:00",
         "0.07",
         "0.07",
         "0.07",
         "0.07",
         "9734400",
         "0.0",
         "0.0"
        ],
        [
         "1986-05-07 00:00:00-04:00",
         "0.07",
         "0.07",
         "0.07",
         "0.07",
         "5155200",
         "0.0",
         "0.0"
        ],
        [
         "1986-05-08 00:00:00-04:00",
         "0.07",
         "0.07",
         "0.07",
         "0.07",
         "3542400",
         "0.0",
         "0.0"
        ],
        [
         "1986-05-09 00:00:00-04:00",
         "0.07",
         "0.07",
         "0.07",
         "0.07",
         "6076800",
         "0.0",
         "0.0"
        ],
        [
         "1986-05-12 00:00:00-04:00",
         "0.07",
         "0.07",
         "0.07",
         "0.07",
         "10483200",
         "0.0",
         "0.0"
        ],
        [
         "1986-05-13 00:00:00-04:00",
         "0.07",
         "0.07",
         "0.07",
         "0.07",
         "3830400",
         "0.0",
         "0.0"
        ],
        [
         "1986-05-14 00:00:00-04:00",
         "0.07",
         "0.07",
         "0.07",
         "0.07",
         "9302400",
         "0.0",
         "0.0"
        ],
        [
         "1986-05-15 00:00:00-04:00",
         "0.07",
         "0.07",
         "0.07",
         "0.07",
         "3801600",
         "0.0",
         "0.0"
        ],
        [
         "1986-05-16 00:00:00-04:00",
         "0.07",
         "0.07",
         "0.07",
         "0.07",
         "11952000",
         "0.0",
         "0.0"
        ],
        [
         "1986-05-19 00:00:00-04:00",
         "0.07",
         "0.07",
         "0.07",
         "0.07",
         "11001600",
         "0.0",
         "0.0"
        ],
        [
         "1986-05-20 00:00:00-04:00",
         "0.07",
         "0.07",
         "0.07",
         "0.07",
         "61977600",
         "0.0",
         "0.0"
        ],
        [
         "1986-05-21 00:00:00-04:00",
         "0.07",
         "0.07",
         "0.07",
         "0.07",
         "8092800",
         "0.0",
         "0.0"
        ],
        [
         "1986-05-22 00:00:00-04:00",
         "0.07",
         "0.07",
         "0.07",
         "0.07",
         "4406400",
         "0.0",
         "0.0"
        ]
       ],
       "shape": {
        "columns": 7,
        "rows": 9934
       }
      },
      "text/html": [
       "<div>\n",
       "<style scoped>\n",
       "    .dataframe tbody tr th:only-of-type {\n",
       "        vertical-align: middle;\n",
       "    }\n",
       "\n",
       "    .dataframe tbody tr th {\n",
       "        vertical-align: top;\n",
       "    }\n",
       "\n",
       "    .dataframe thead th {\n",
       "        text-align: right;\n",
       "    }\n",
       "</style>\n",
       "<table border=\"1\" class=\"dataframe\">\n",
       "  <thead>\n",
       "    <tr style=\"text-align: right;\">\n",
       "      <th></th>\n",
       "      <th>Open</th>\n",
       "      <th>High</th>\n",
       "      <th>Low</th>\n",
       "      <th>Close</th>\n",
       "      <th>Volume</th>\n",
       "      <th>Dividends</th>\n",
       "      <th>Stock Splits</th>\n",
       "    </tr>\n",
       "    <tr>\n",
       "      <th>Date</th>\n",
       "      <th></th>\n",
       "      <th></th>\n",
       "      <th></th>\n",
       "      <th></th>\n",
       "      <th></th>\n",
       "      <th></th>\n",
       "      <th></th>\n",
       "    </tr>\n",
       "  </thead>\n",
       "  <tbody>\n",
       "    <tr>\n",
       "      <th>1986-03-13 00:00:00-05:00</th>\n",
       "      <td>0.05</td>\n",
       "      <td>0.06</td>\n",
       "      <td>0.05</td>\n",
       "      <td>0.06</td>\n",
       "      <td>1031788800</td>\n",
       "      <td>0.0</td>\n",
       "      <td>0.0</td>\n",
       "    </tr>\n",
       "    <tr>\n",
       "      <th>1986-03-14 00:00:00-05:00</th>\n",
       "      <td>0.06</td>\n",
       "      <td>0.06</td>\n",
       "      <td>0.06</td>\n",
       "      <td>0.06</td>\n",
       "      <td>308160000</td>\n",
       "      <td>0.0</td>\n",
       "      <td>0.0</td>\n",
       "    </tr>\n",
       "    <tr>\n",
       "      <th>1986-03-17 00:00:00-05:00</th>\n",
       "      <td>0.06</td>\n",
       "      <td>0.06</td>\n",
       "      <td>0.06</td>\n",
       "      <td>0.06</td>\n",
       "      <td>133171200</td>\n",
       "      <td>0.0</td>\n",
       "      <td>0.0</td>\n",
       "    </tr>\n",
       "    <tr>\n",
       "      <th>1986-03-18 00:00:00-05:00</th>\n",
       "      <td>0.06</td>\n",
       "      <td>0.06</td>\n",
       "      <td>0.06</td>\n",
       "      <td>0.06</td>\n",
       "      <td>67766400</td>\n",
       "      <td>0.0</td>\n",
       "      <td>0.0</td>\n",
       "    </tr>\n",
       "    <tr>\n",
       "      <th>1986-03-19 00:00:00-05:00</th>\n",
       "      <td>0.06</td>\n",
       "      <td>0.06</td>\n",
       "      <td>0.06</td>\n",
       "      <td>0.06</td>\n",
       "      <td>47894400</td>\n",
       "      <td>0.0</td>\n",
       "      <td>0.0</td>\n",
       "    </tr>\n",
       "    <tr>\n",
       "      <th>...</th>\n",
       "      <td>...</td>\n",
       "      <td>...</td>\n",
       "      <td>...</td>\n",
       "      <td>...</td>\n",
       "      <td>...</td>\n",
       "      <td>...</td>\n",
       "      <td>...</td>\n",
       "    </tr>\n",
       "    <tr>\n",
       "      <th>2025-08-11 00:00:00-04:00</th>\n",
       "      <td>522.30</td>\n",
       "      <td>527.59</td>\n",
       "      <td>519.72</td>\n",
       "      <td>521.77</td>\n",
       "      <td>20194400</td>\n",
       "      <td>0.0</td>\n",
       "      <td>0.0</td>\n",
       "    </tr>\n",
       "    <tr>\n",
       "      <th>2025-08-12 00:00:00-04:00</th>\n",
       "      <td>523.75</td>\n",
       "      <td>530.98</td>\n",
       "      <td>522.70</td>\n",
       "      <td>529.24</td>\n",
       "      <td>18667000</td>\n",
       "      <td>0.0</td>\n",
       "      <td>0.0</td>\n",
       "    </tr>\n",
       "    <tr>\n",
       "      <th>2025-08-13 00:00:00-04:00</th>\n",
       "      <td>532.11</td>\n",
       "      <td>532.70</td>\n",
       "      <td>519.37</td>\n",
       "      <td>520.58</td>\n",
       "      <td>19619200</td>\n",
       "      <td>0.0</td>\n",
       "      <td>0.0</td>\n",
       "    </tr>\n",
       "    <tr>\n",
       "      <th>2025-08-14 00:00:00-04:00</th>\n",
       "      <td>522.56</td>\n",
       "      <td>525.95</td>\n",
       "      <td>520.14</td>\n",
       "      <td>522.48</td>\n",
       "      <td>20269100</td>\n",
       "      <td>0.0</td>\n",
       "      <td>0.0</td>\n",
       "    </tr>\n",
       "    <tr>\n",
       "      <th>2025-08-15 00:00:00-04:00</th>\n",
       "      <td>522.77</td>\n",
       "      <td>526.10</td>\n",
       "      <td>519.08</td>\n",
       "      <td>520.17</td>\n",
       "      <td>25191800</td>\n",
       "      <td>0.0</td>\n",
       "      <td>0.0</td>\n",
       "    </tr>\n",
       "  </tbody>\n",
       "</table>\n",
       "<p>9934 rows × 7 columns</p>\n",
       "</div>"
      ],
      "text/plain": [
       "                             Open    High     Low   Close      Volume  \\\n",
       "Date                                                                    \n",
       "1986-03-13 00:00:00-05:00    0.05    0.06    0.05    0.06  1031788800   \n",
       "1986-03-14 00:00:00-05:00    0.06    0.06    0.06    0.06   308160000   \n",
       "1986-03-17 00:00:00-05:00    0.06    0.06    0.06    0.06   133171200   \n",
       "1986-03-18 00:00:00-05:00    0.06    0.06    0.06    0.06    67766400   \n",
       "1986-03-19 00:00:00-05:00    0.06    0.06    0.06    0.06    47894400   \n",
       "...                           ...     ...     ...     ...         ...   \n",
       "2025-08-11 00:00:00-04:00  522.30  527.59  519.72  521.77    20194400   \n",
       "2025-08-12 00:00:00-04:00  523.75  530.98  522.70  529.24    18667000   \n",
       "2025-08-13 00:00:00-04:00  532.11  532.70  519.37  520.58    19619200   \n",
       "2025-08-14 00:00:00-04:00  522.56  525.95  520.14  522.48    20269100   \n",
       "2025-08-15 00:00:00-04:00  522.77  526.10  519.08  520.17    25191800   \n",
       "\n",
       "                           Dividends  Stock Splits  \n",
       "Date                                                \n",
       "1986-03-13 00:00:00-05:00        0.0           0.0  \n",
       "1986-03-14 00:00:00-05:00        0.0           0.0  \n",
       "1986-03-17 00:00:00-05:00        0.0           0.0  \n",
       "1986-03-18 00:00:00-05:00        0.0           0.0  \n",
       "1986-03-19 00:00:00-05:00        0.0           0.0  \n",
       "...                              ...           ...  \n",
       "2025-08-11 00:00:00-04:00        0.0           0.0  \n",
       "2025-08-12 00:00:00-04:00        0.0           0.0  \n",
       "2025-08-13 00:00:00-04:00        0.0           0.0  \n",
       "2025-08-14 00:00:00-04:00        0.0           0.0  \n",
       "2025-08-15 00:00:00-04:00        0.0           0.0  \n",
       "\n",
       "[9934 rows x 7 columns]"
      ]
     },
     "execution_count": 17,
     "metadata": {},
     "output_type": "execute_result"
    }
   ],
   "source": [
    "from app.providers.yahoo import create_yahoo_history_provider\n",
    "\n",
    "provider = create_yahoo_history_provider()\n",
    "provider.get_data_sync(ticker).data"
   ]
  },
  {
   "cell_type": "markdown",
   "id": "74dbcdf7",
   "metadata": {},
   "source": [
    "### YahooInfoProvider"
   ]
  },
  {
   "cell_type": "code",
   "execution_count": 15,
   "id": "333e31cd",
   "metadata": {},
   "outputs": [
    {
     "name": "stdout",
     "output_type": "stream",
     "text": [
      "{'beta': 1.055,\n",
      " 'change': -2.31,\n",
      " 'company_name': 'Microsoft Corporation',\n",
      " 'currency': 'USD',\n",
      " 'dividend_yield': 0.64,\n",
      " 'exchange': 'NMS',\n",
      " 'industry': 'Software - Infrastructure',\n",
      " 'market_cap': 3866511802368,\n",
      " 'pe_ratio': 38.16361,\n",
      " 'percent_change': -0.442122,\n",
      " 'price': 520.17,\n",
      " 'sector': 'Technology',\n",
      " 'ticker': 'MSFT',\n",
      " 'volume': 22434808,\n",
      " 'week_52_high': 555.45,\n",
      " 'week_52_low': 344.79}\n"
     ]
    }
   ],
   "source": [
    "from app.providers.yahoo import create_yahoo_info_provider\n",
    "\n",
    "provider = create_yahoo_info_provider()\n",
    "pprint(provider.get_data_sync(ticker).data.model_dump())"
   ]
  },
  {
   "cell_type": "markdown",
   "id": "3c761378",
   "metadata": {},
   "source": [
    "## Zacks Providers"
   ]
  },
  {
   "cell_type": "markdown",
   "id": "02a344a6",
   "metadata": {},
   "source": [
    "### ZacksProvider"
   ]
  },
  {
   "cell_type": "code",
   "execution_count": 16,
   "id": "b3e56878",
   "metadata": {},
   "outputs": [
    {
     "ename": "AttributeError",
     "evalue": "'NoneType' object has no attribute 'model_dump'",
     "output_type": "error",
     "traceback": [
      "\u001b[31m---------------------------------------------------------------------------\u001b[39m",
      "\u001b[31mAttributeError\u001b[39m                            Traceback (most recent call last)",
      "\u001b[36mCell\u001b[39m\u001b[36m \u001b[39m\u001b[32mIn[16]\u001b[39m\u001b[32m, line 4\u001b[39m\n\u001b[32m      1\u001b[39m \u001b[38;5;28;01mfrom\u001b[39;00m\u001b[38;5;250m \u001b[39m\u001b[34;01mapp\u001b[39;00m\u001b[34;01m.\u001b[39;00m\u001b[34;01mproviders\u001b[39;00m\u001b[34;01m.\u001b[39;00m\u001b[34;01mzacks\u001b[39;00m\u001b[38;5;250m \u001b[39m\u001b[38;5;28;01mimport\u001b[39;00m create_zacks_provider\n\u001b[32m      3\u001b[39m provider = create_zacks_provider()\n\u001b[32m----> \u001b[39m\u001b[32m4\u001b[39m pprint(\u001b[43mprovider\u001b[49m\u001b[43m.\u001b[49m\u001b[43mget_data_sync\u001b[49m\u001b[43m(\u001b[49m\u001b[43mticker\u001b[49m\u001b[43m)\u001b[49m\u001b[43m.\u001b[49m\u001b[43mdata\u001b[49m\u001b[43m.\u001b[49m\u001b[43mmodel_dump\u001b[49m())\n",
      "\u001b[31mAttributeError\u001b[39m: 'NoneType' object has no attribute 'model_dump'"
     ]
    }
   ],
   "source": [
    "from app.providers.zacks import create_zacks_provider\n",
    "\n",
    "provider = create_zacks_provider()\n",
    "pprint(provider.get_data_sync(ticker).data.model_dump())"
   ]
  }
 ],
 "metadata": {
  "kernelspec": {
   "display_name": ".venv",
   "language": "python",
   "name": "python3"
  },
  "language_info": {
   "codemirror_mode": {
    "name": "ipython",
    "version": 3
   },
   "file_extension": ".py",
   "mimetype": "text/x-python",
   "name": "python",
   "nbconvert_exporter": "python",
   "pygments_lexer": "ipython3",
   "version": "3.12.10"
  }
 },
 "nbformat": 4,
 "nbformat_minor": 5
}
