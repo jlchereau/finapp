{
 "cells": [
  {
   "cell_type": "markdown",
   "id": "3aeb438c",
   "metadata": {},
   "source": [
    "# Models"
   ]
  },
  {
   "cell_type": "markdown",
   "id": "e316b046",
   "metadata": {},
   "source": [
    "## Install prerequisites"
   ]
  },
  {
   "cell_type": "code",
   "execution_count": 2,
   "id": "cfd18ee6",
   "metadata": {},
   "outputs": [],
   "source": [
    "# !cd .. && make install\n",
    "# !pwd"
   ]
  },
  {
   "cell_type": "code",
   "execution_count": 3,
   "id": "50bc33c9",
   "metadata": {},
   "outputs": [],
   "source": [
    "import sys\n",
    "from pprint import pprint\n",
    "from dotenv import load_dotenv, find_dotenv\n",
    "\n",
    "sys.path.append('..')\n",
    "\n",
    "load_dotenv(find_dotenv())\n",
    "\n",
    "ticker = 'MSFT'\n",
    "\n",
    "%load_ext autoreload\n",
    "%autoreload 2"
   ]
  },
  {
   "cell_type": "code",
   "execution_count": 4,
   "id": "beb61e85",
   "metadata": {},
   "outputs": [],
   "source": [
    "# FIX: Considering we call sync methods we should not have to do this\n",
    "\n",
    "import nest_asyncio\n",
    "nest_asyncio.apply()"
   ]
  },
  {
   "cell_type": "markdown",
   "id": "3db205c7",
   "metadata": {},
   "source": [
    "## Blackrock Providers"
   ]
  },
  {
   "cell_type": "markdown",
   "id": "26421636",
   "metadata": {},
   "source": [
    "### BlackrockHoldingsProvider"
   ]
  },
  {
   "cell_type": "code",
   "execution_count": 5,
   "id": "aa0a1186",
   "metadata": {},
   "outputs": [
    {
     "data": {
      "text/html": [
       "<pre style=\"white-space:pre;overflow-x:auto;line-height:normal;font-family:Menlo,'DejaVu Sans Mono',consolas,'Courier New',monospace\"><span style=\"color: #ffaf00; text-decoration-color: #ffaf00\">Warning: `reflex.plugins.sitemap.SitemapPlugin` plugin is enabled by default, but not explicitly added to the </span>\n",
       "<span style=\"color: #ffaf00; text-decoration-color: #ffaf00\">config. If you want to use it, please add it to the `plugins` list in your config inside of `rxconfig.py`. To </span>\n",
       "<span style=\"color: #ffaf00; text-decoration-color: #ffaf00\">disable this plugin, set `disable_plugins` to `</span><span style=\"color: #ffaf00; text-decoration-color: #ffaf00; font-weight: bold\">[</span><span style=\"color: #ffaf00; text-decoration-color: #ffaf00\">'reflex.plugins.sitemap.SitemapPlugin'</span><span style=\"color: #ffaf00; text-decoration-color: #ffaf00; font-weight: bold\">]</span><span style=\"color: #ffaf00; text-decoration-color: #ffaf00\">`.</span>\n",
       "</pre>\n"
      ],
      "text/plain": [
       "\u001b[38;5;214mWarning: `reflex.plugins.sitemap.SitemapPlugin` plugin is enabled by default, but not explicitly added to the \u001b[0m\n",
       "\u001b[38;5;214mconfig. If you want to use it, please add it to the `plugins` list in your config inside of `rxconfig.py`. To \u001b[0m\n",
       "\u001b[38;5;214mdisable this plugin, set `disable_plugins` to `\u001b[0m\u001b[1;38;5;214m[\u001b[0m\u001b[38;5;214m'reflex.plugins.sitemap.SitemapPlugin'\u001b[0m\u001b[1;38;5;214m]\u001b[0m\u001b[38;5;214m`.\u001b[0m\n"
      ]
     },
     "metadata": {},
     "output_type": "display_data"
    },
    {
     "data": {
      "text/html": [
       "<pre style=\"white-space:pre;overflow-x:auto;line-height:normal;font-family:Menlo,'DejaVu Sans Mono',consolas,'Courier New',monospace\"><span style=\"color: #ffaf00; text-decoration-color: #ffaf00\">Warning: `reflex.plugins.sitemap.SitemapPlugin` plugin is enabled by default, but not explicitly added to the </span>\n",
       "<span style=\"color: #ffaf00; text-decoration-color: #ffaf00\">config. If you want to use it, please add it to the `plugins` list in your config inside of `rxconfig.py`. To </span>\n",
       "<span style=\"color: #ffaf00; text-decoration-color: #ffaf00\">disable this plugin, set `disable_plugins` to `</span><span style=\"color: #ffaf00; text-decoration-color: #ffaf00; font-weight: bold\">[</span><span style=\"color: #ffaf00; text-decoration-color: #ffaf00\">'reflex.plugins.sitemap.SitemapPlugin'</span><span style=\"color: #ffaf00; text-decoration-color: #ffaf00; font-weight: bold\">]</span><span style=\"color: #ffaf00; text-decoration-color: #ffaf00\">`.</span>\n",
       "</pre>\n"
      ],
      "text/plain": [
       "\u001b[38;5;214mWarning: `reflex.plugins.sitemap.SitemapPlugin` plugin is enabled by default, but not explicitly added to the \u001b[0m\n",
       "\u001b[38;5;214mconfig. If you want to use it, please add it to the `plugins` list in your config inside of `rxconfig.py`. To \u001b[0m\n",
       "\u001b[38;5;214mdisable this plugin, set `disable_plugins` to `\u001b[0m\u001b[1;38;5;214m[\u001b[0m\u001b[38;5;214m'reflex.plugins.sitemap.SitemapPlugin'\u001b[0m\u001b[1;38;5;214m]\u001b[0m\u001b[38;5;214m`.\u001b[0m\n"
      ]
     },
     "metadata": {},
     "output_type": "display_data"
    },
    {
     "data": {
      "text/html": [
       "<pre style=\"white-space:pre;overflow-x:auto;line-height:normal;font-family:Menlo,'DejaVu Sans Mono',consolas,'Courier New',monospace\"><span style=\"color: #ffaf00; text-decoration-color: #ffaf00\">Warning: `reflex.plugins.sitemap.SitemapPlugin` plugin is enabled by default, but not explicitly added to the </span>\n",
       "<span style=\"color: #ffaf00; text-decoration-color: #ffaf00\">config. If you want to use it, please add it to the `plugins` list in your config inside of `rxconfig.py`. To </span>\n",
       "<span style=\"color: #ffaf00; text-decoration-color: #ffaf00\">disable this plugin, set `disable_plugins` to `</span><span style=\"color: #ffaf00; text-decoration-color: #ffaf00; font-weight: bold\">[</span><span style=\"color: #ffaf00; text-decoration-color: #ffaf00\">'reflex.plugins.sitemap.SitemapPlugin'</span><span style=\"color: #ffaf00; text-decoration-color: #ffaf00; font-weight: bold\">]</span><span style=\"color: #ffaf00; text-decoration-color: #ffaf00\">`.</span>\n",
       "</pre>\n"
      ],
      "text/plain": [
       "\u001b[38;5;214mWarning: `reflex.plugins.sitemap.SitemapPlugin` plugin is enabled by default, but not explicitly added to the \u001b[0m\n",
       "\u001b[38;5;214mconfig. If you want to use it, please add it to the `plugins` list in your config inside of `rxconfig.py`. To \u001b[0m\n",
       "\u001b[38;5;214mdisable this plugin, set `disable_plugins` to `\u001b[0m\u001b[1;38;5;214m[\u001b[0m\u001b[38;5;214m'reflex.plugins.sitemap.SitemapPlugin'\u001b[0m\u001b[1;38;5;214m]\u001b[0m\u001b[38;5;214m`.\u001b[0m\n"
      ]
     },
     "metadata": {},
     "output_type": "display_data"
    },
    {
     "data": {
      "text/html": [
       "<pre style=\"white-space:pre;overflow-x:auto;line-height:normal;font-family:Menlo,'DejaVu Sans Mono',consolas,'Courier New',monospace\"><span style=\"color: #ffaf00; text-decoration-color: #ffaf00\">Warning: `reflex.plugins.sitemap.SitemapPlugin` plugin is enabled by default, but not explicitly added to the </span>\n",
       "<span style=\"color: #ffaf00; text-decoration-color: #ffaf00\">config. If you want to use it, please add it to the `plugins` list in your config inside of `rxconfig.py`. To </span>\n",
       "<span style=\"color: #ffaf00; text-decoration-color: #ffaf00\">disable this plugin, set `disable_plugins` to `</span><span style=\"color: #ffaf00; text-decoration-color: #ffaf00; font-weight: bold\">[</span><span style=\"color: #ffaf00; text-decoration-color: #ffaf00\">'reflex.plugins.sitemap.SitemapPlugin'</span><span style=\"color: #ffaf00; text-decoration-color: #ffaf00; font-weight: bold\">]</span><span style=\"color: #ffaf00; text-decoration-color: #ffaf00\">`.</span>\n",
       "</pre>\n"
      ],
      "text/plain": [
       "\u001b[38;5;214mWarning: `reflex.plugins.sitemap.SitemapPlugin` plugin is enabled by default, but not explicitly added to the \u001b[0m\n",
       "\u001b[38;5;214mconfig. If you want to use it, please add it to the `plugins` list in your config inside of `rxconfig.py`. To \u001b[0m\n",
       "\u001b[38;5;214mdisable this plugin, set `disable_plugins` to `\u001b[0m\u001b[1;38;5;214m[\u001b[0m\u001b[38;5;214m'reflex.plugins.sitemap.SitemapPlugin'\u001b[0m\u001b[1;38;5;214m]\u001b[0m\u001b[38;5;214m`.\u001b[0m\n"
      ]
     },
     "metadata": {},
     "output_type": "display_data"
    },
    {
     "data": {
      "text/html": [
       "<pre style=\"white-space:pre;overflow-x:auto;line-height:normal;font-family:Menlo,'DejaVu Sans Mono',consolas,'Courier New',monospace\"><span style=\"color: #ffaf00; text-decoration-color: #ffaf00\">Warning: `reflex.plugins.sitemap.SitemapPlugin` plugin is enabled by default, but not explicitly added to the </span>\n",
       "<span style=\"color: #ffaf00; text-decoration-color: #ffaf00\">config. If you want to use it, please add it to the `plugins` list in your config inside of `rxconfig.py`. To </span>\n",
       "<span style=\"color: #ffaf00; text-decoration-color: #ffaf00\">disable this plugin, set `disable_plugins` to `</span><span style=\"color: #ffaf00; text-decoration-color: #ffaf00; font-weight: bold\">[</span><span style=\"color: #ffaf00; text-decoration-color: #ffaf00\">'reflex.plugins.sitemap.SitemapPlugin'</span><span style=\"color: #ffaf00; text-decoration-color: #ffaf00; font-weight: bold\">]</span><span style=\"color: #ffaf00; text-decoration-color: #ffaf00\">`.</span>\n",
       "</pre>\n"
      ],
      "text/plain": [
       "\u001b[38;5;214mWarning: `reflex.plugins.sitemap.SitemapPlugin` plugin is enabled by default, but not explicitly added to the \u001b[0m\n",
       "\u001b[38;5;214mconfig. If you want to use it, please add it to the `plugins` list in your config inside of `rxconfig.py`. To \u001b[0m\n",
       "\u001b[38;5;214mdisable this plugin, set `disable_plugins` to `\u001b[0m\u001b[1;38;5;214m[\u001b[0m\u001b[38;5;214m'reflex.plugins.sitemap.SitemapPlugin'\u001b[0m\u001b[1;38;5;214m]\u001b[0m\u001b[38;5;214m`.\u001b[0m\n"
      ]
     },
     "metadata": {},
     "output_type": "display_data"
    },
    {
     "data": {
      "text/html": [
       "<pre style=\"white-space:pre;overflow-x:auto;line-height:normal;font-family:Menlo,'DejaVu Sans Mono',consolas,'Courier New',monospace\"><span style=\"color: #ffaf00; text-decoration-color: #ffaf00\">Warning: `reflex.plugins.sitemap.SitemapPlugin` plugin is enabled by default, but not explicitly added to the </span>\n",
       "<span style=\"color: #ffaf00; text-decoration-color: #ffaf00\">config. If you want to use it, please add it to the `plugins` list in your config inside of `rxconfig.py`. To </span>\n",
       "<span style=\"color: #ffaf00; text-decoration-color: #ffaf00\">disable this plugin, set `disable_plugins` to `</span><span style=\"color: #ffaf00; text-decoration-color: #ffaf00; font-weight: bold\">[</span><span style=\"color: #ffaf00; text-decoration-color: #ffaf00\">'reflex.plugins.sitemap.SitemapPlugin'</span><span style=\"color: #ffaf00; text-decoration-color: #ffaf00; font-weight: bold\">]</span><span style=\"color: #ffaf00; text-decoration-color: #ffaf00\">`.</span>\n",
       "</pre>\n"
      ],
      "text/plain": [
       "\u001b[38;5;214mWarning: `reflex.plugins.sitemap.SitemapPlugin` plugin is enabled by default, but not explicitly added to the \u001b[0m\n",
       "\u001b[38;5;214mconfig. If you want to use it, please add it to the `plugins` list in your config inside of `rxconfig.py`. To \u001b[0m\n",
       "\u001b[38;5;214mdisable this plugin, set `disable_plugins` to `\u001b[0m\u001b[1;38;5;214m[\u001b[0m\u001b[38;5;214m'reflex.plugins.sitemap.SitemapPlugin'\u001b[0m\u001b[1;38;5;214m]\u001b[0m\u001b[38;5;214m`.\u001b[0m\n"
      ]
     },
     "metadata": {},
     "output_type": "display_data"
    },
    {
     "data": {
      "text/html": [
       "<pre style=\"white-space:pre;overflow-x:auto;line-height:normal;font-family:Menlo,'DejaVu Sans Mono',consolas,'Courier New',monospace\"><span style=\"color: #ffaf00; text-decoration-color: #ffaf00\">Warning: `reflex.plugins.sitemap.SitemapPlugin` plugin is enabled by default, but not explicitly added to the </span>\n",
       "<span style=\"color: #ffaf00; text-decoration-color: #ffaf00\">config. If you want to use it, please add it to the `plugins` list in your config inside of `rxconfig.py`. To </span>\n",
       "<span style=\"color: #ffaf00; text-decoration-color: #ffaf00\">disable this plugin, set `disable_plugins` to `</span><span style=\"color: #ffaf00; text-decoration-color: #ffaf00; font-weight: bold\">[</span><span style=\"color: #ffaf00; text-decoration-color: #ffaf00\">'reflex.plugins.sitemap.SitemapPlugin'</span><span style=\"color: #ffaf00; text-decoration-color: #ffaf00; font-weight: bold\">]</span><span style=\"color: #ffaf00; text-decoration-color: #ffaf00\">`.</span>\n",
       "</pre>\n"
      ],
      "text/plain": [
       "\u001b[38;5;214mWarning: `reflex.plugins.sitemap.SitemapPlugin` plugin is enabled by default, but not explicitly added to the \u001b[0m\n",
       "\u001b[38;5;214mconfig. If you want to use it, please add it to the `plugins` list in your config inside of `rxconfig.py`. To \u001b[0m\n",
       "\u001b[38;5;214mdisable this plugin, set `disable_plugins` to `\u001b[0m\u001b[1;38;5;214m[\u001b[0m\u001b[38;5;214m'reflex.plugins.sitemap.SitemapPlugin'\u001b[0m\u001b[1;38;5;214m]\u001b[0m\u001b[38;5;214m`.\u001b[0m\n"
      ]
     },
     "metadata": {},
     "output_type": "display_data"
    },
    {
     "data": {
      "text/html": [
       "<pre style=\"white-space:pre;overflow-x:auto;line-height:normal;font-family:Menlo,'DejaVu Sans Mono',consolas,'Courier New',monospace\"><span style=\"color: #ffaf00; text-decoration-color: #ffaf00\">Warning: `reflex.plugins.sitemap.SitemapPlugin` plugin is enabled by default, but not explicitly added to the </span>\n",
       "<span style=\"color: #ffaf00; text-decoration-color: #ffaf00\">config. If you want to use it, please add it to the `plugins` list in your config inside of `rxconfig.py`. To </span>\n",
       "<span style=\"color: #ffaf00; text-decoration-color: #ffaf00\">disable this plugin, set `disable_plugins` to `</span><span style=\"color: #ffaf00; text-decoration-color: #ffaf00; font-weight: bold\">[</span><span style=\"color: #ffaf00; text-decoration-color: #ffaf00\">'reflex.plugins.sitemap.SitemapPlugin'</span><span style=\"color: #ffaf00; text-decoration-color: #ffaf00; font-weight: bold\">]</span><span style=\"color: #ffaf00; text-decoration-color: #ffaf00\">`.</span>\n",
       "</pre>\n"
      ],
      "text/plain": [
       "\u001b[38;5;214mWarning: `reflex.plugins.sitemap.SitemapPlugin` plugin is enabled by default, but not explicitly added to the \u001b[0m\n",
       "\u001b[38;5;214mconfig. If you want to use it, please add it to the `plugins` list in your config inside of `rxconfig.py`. To \u001b[0m\n",
       "\u001b[38;5;214mdisable this plugin, set `disable_plugins` to `\u001b[0m\u001b[1;38;5;214m[\u001b[0m\u001b[38;5;214m'reflex.plugins.sitemap.SitemapPlugin'\u001b[0m\u001b[1;38;5;214m]\u001b[0m\u001b[38;5;214m`.\u001b[0m\n"
      ]
     },
     "metadata": {},
     "output_type": "display_data"
    },
    {
     "data": {
      "text/html": [
       "<pre style=\"white-space:pre;overflow-x:auto;line-height:normal;font-family:Menlo,'DejaVu Sans Mono',consolas,'Courier New',monospace\"><span style=\"color: #ffaf00; text-decoration-color: #ffaf00\">Warning: `reflex.plugins.sitemap.SitemapPlugin` plugin is enabled by default, but not explicitly added to the </span>\n",
       "<span style=\"color: #ffaf00; text-decoration-color: #ffaf00\">config. If you want to use it, please add it to the `plugins` list in your config inside of `rxconfig.py`. To </span>\n",
       "<span style=\"color: #ffaf00; text-decoration-color: #ffaf00\">disable this plugin, set `disable_plugins` to `</span><span style=\"color: #ffaf00; text-decoration-color: #ffaf00; font-weight: bold\">[</span><span style=\"color: #ffaf00; text-decoration-color: #ffaf00\">'reflex.plugins.sitemap.SitemapPlugin'</span><span style=\"color: #ffaf00; text-decoration-color: #ffaf00; font-weight: bold\">]</span><span style=\"color: #ffaf00; text-decoration-color: #ffaf00\">`.</span>\n",
       "</pre>\n"
      ],
      "text/plain": [
       "\u001b[38;5;214mWarning: `reflex.plugins.sitemap.SitemapPlugin` plugin is enabled by default, but not explicitly added to the \u001b[0m\n",
       "\u001b[38;5;214mconfig. If you want to use it, please add it to the `plugins` list in your config inside of `rxconfig.py`. To \u001b[0m\n",
       "\u001b[38;5;214mdisable this plugin, set `disable_plugins` to `\u001b[0m\u001b[1;38;5;214m[\u001b[0m\u001b[38;5;214m'reflex.plugins.sitemap.SitemapPlugin'\u001b[0m\u001b[1;38;5;214m]\u001b[0m\u001b[38;5;214m`.\u001b[0m\n"
      ]
     },
     "metadata": {},
     "output_type": "display_data"
    },
    {
     "data": {
      "text/html": [
       "<pre style=\"white-space:pre;overflow-x:auto;line-height:normal;font-family:Menlo,'DejaVu Sans Mono',consolas,'Courier New',monospace\"><span style=\"color: #ffaf00; text-decoration-color: #ffaf00\">Warning: `reflex.plugins.sitemap.SitemapPlugin` plugin is enabled by default, but not explicitly added to the </span>\n",
       "<span style=\"color: #ffaf00; text-decoration-color: #ffaf00\">config. If you want to use it, please add it to the `plugins` list in your config inside of `rxconfig.py`. To </span>\n",
       "<span style=\"color: #ffaf00; text-decoration-color: #ffaf00\">disable this plugin, set `disable_plugins` to `</span><span style=\"color: #ffaf00; text-decoration-color: #ffaf00; font-weight: bold\">[</span><span style=\"color: #ffaf00; text-decoration-color: #ffaf00\">'reflex.plugins.sitemap.SitemapPlugin'</span><span style=\"color: #ffaf00; text-decoration-color: #ffaf00; font-weight: bold\">]</span><span style=\"color: #ffaf00; text-decoration-color: #ffaf00\">`.</span>\n",
       "</pre>\n"
      ],
      "text/plain": [
       "\u001b[38;5;214mWarning: `reflex.plugins.sitemap.SitemapPlugin` plugin is enabled by default, but not explicitly added to the \u001b[0m\n",
       "\u001b[38;5;214mconfig. If you want to use it, please add it to the `plugins` list in your config inside of `rxconfig.py`. To \u001b[0m\n",
       "\u001b[38;5;214mdisable this plugin, set `disable_plugins` to `\u001b[0m\u001b[1;38;5;214m[\u001b[0m\u001b[38;5;214m'reflex.plugins.sitemap.SitemapPlugin'\u001b[0m\u001b[1;38;5;214m]\u001b[0m\u001b[38;5;214m`.\u001b[0m\n"
      ]
     },
     "metadata": {},
     "output_type": "display_data"
    },
    {
     "data": {
      "text/html": [
       "<pre style=\"white-space:pre;overflow-x:auto;line-height:normal;font-family:Menlo,'DejaVu Sans Mono',consolas,'Courier New',monospace\"><span style=\"color: #ffaf00; text-decoration-color: #ffaf00\">Warning: `reflex.plugins.sitemap.SitemapPlugin` plugin is enabled by default, but not explicitly added to the </span>\n",
       "<span style=\"color: #ffaf00; text-decoration-color: #ffaf00\">config. If you want to use it, please add it to the `plugins` list in your config inside of `rxconfig.py`. To </span>\n",
       "<span style=\"color: #ffaf00; text-decoration-color: #ffaf00\">disable this plugin, set `disable_plugins` to `</span><span style=\"color: #ffaf00; text-decoration-color: #ffaf00; font-weight: bold\">[</span><span style=\"color: #ffaf00; text-decoration-color: #ffaf00\">'reflex.plugins.sitemap.SitemapPlugin'</span><span style=\"color: #ffaf00; text-decoration-color: #ffaf00; font-weight: bold\">]</span><span style=\"color: #ffaf00; text-decoration-color: #ffaf00\">`.</span>\n",
       "</pre>\n"
      ],
      "text/plain": [
       "\u001b[38;5;214mWarning: `reflex.plugins.sitemap.SitemapPlugin` plugin is enabled by default, but not explicitly added to the \u001b[0m\n",
       "\u001b[38;5;214mconfig. If you want to use it, please add it to the `plugins` list in your config inside of `rxconfig.py`. To \u001b[0m\n",
       "\u001b[38;5;214mdisable this plugin, set `disable_plugins` to `\u001b[0m\u001b[1;38;5;214m[\u001b[0m\u001b[38;5;214m'reflex.plugins.sitemap.SitemapPlugin'\u001b[0m\u001b[1;38;5;214m]\u001b[0m\u001b[38;5;214m`.\u001b[0m\n"
      ]
     },
     "metadata": {},
     "output_type": "display_data"
    },
    {
     "data": {
      "text/html": [
       "<pre style=\"white-space:pre;overflow-x:auto;line-height:normal;font-family:Menlo,'DejaVu Sans Mono',consolas,'Courier New',monospace\"><span style=\"color: #ffaf00; text-decoration-color: #ffaf00\">Warning: `reflex.plugins.sitemap.SitemapPlugin` plugin is enabled by default, but not explicitly added to the </span>\n",
       "<span style=\"color: #ffaf00; text-decoration-color: #ffaf00\">config. If you want to use it, please add it to the `plugins` list in your config inside of `rxconfig.py`. To </span>\n",
       "<span style=\"color: #ffaf00; text-decoration-color: #ffaf00\">disable this plugin, set `disable_plugins` to `</span><span style=\"color: #ffaf00; text-decoration-color: #ffaf00; font-weight: bold\">[</span><span style=\"color: #ffaf00; text-decoration-color: #ffaf00\">'reflex.plugins.sitemap.SitemapPlugin'</span><span style=\"color: #ffaf00; text-decoration-color: #ffaf00; font-weight: bold\">]</span><span style=\"color: #ffaf00; text-decoration-color: #ffaf00\">`.</span>\n",
       "</pre>\n"
      ],
      "text/plain": [
       "\u001b[38;5;214mWarning: `reflex.plugins.sitemap.SitemapPlugin` plugin is enabled by default, but not explicitly added to the \u001b[0m\n",
       "\u001b[38;5;214mconfig. If you want to use it, please add it to the `plugins` list in your config inside of `rxconfig.py`. To \u001b[0m\n",
       "\u001b[38;5;214mdisable this plugin, set `disable_plugins` to `\u001b[0m\u001b[1;38;5;214m[\u001b[0m\u001b[38;5;214m'reflex.plugins.sitemap.SitemapPlugin'\u001b[0m\u001b[1;38;5;214m]\u001b[0m\u001b[38;5;214m`.\u001b[0m\n"
      ]
     },
     "metadata": {},
     "output_type": "display_data"
    },
    {
     "data": {
      "text/html": [
       "<pre style=\"white-space:pre;overflow-x:auto;line-height:normal;font-family:Menlo,'DejaVu Sans Mono',consolas,'Courier New',monospace\"><span style=\"color: #ffaf00; text-decoration-color: #ffaf00\">Warning: `reflex.plugins.sitemap.SitemapPlugin` plugin is enabled by default, but not explicitly added to the </span>\n",
       "<span style=\"color: #ffaf00; text-decoration-color: #ffaf00\">config. If you want to use it, please add it to the `plugins` list in your config inside of `rxconfig.py`. To </span>\n",
       "<span style=\"color: #ffaf00; text-decoration-color: #ffaf00\">disable this plugin, set `disable_plugins` to `</span><span style=\"color: #ffaf00; text-decoration-color: #ffaf00; font-weight: bold\">[</span><span style=\"color: #ffaf00; text-decoration-color: #ffaf00\">'reflex.plugins.sitemap.SitemapPlugin'</span><span style=\"color: #ffaf00; text-decoration-color: #ffaf00; font-weight: bold\">]</span><span style=\"color: #ffaf00; text-decoration-color: #ffaf00\">`.</span>\n",
       "</pre>\n"
      ],
      "text/plain": [
       "\u001b[38;5;214mWarning: `reflex.plugins.sitemap.SitemapPlugin` plugin is enabled by default, but not explicitly added to the \u001b[0m\n",
       "\u001b[38;5;214mconfig. If you want to use it, please add it to the `plugins` list in your config inside of `rxconfig.py`. To \u001b[0m\n",
       "\u001b[38;5;214mdisable this plugin, set `disable_plugins` to `\u001b[0m\u001b[1;38;5;214m[\u001b[0m\u001b[38;5;214m'reflex.plugins.sitemap.SitemapPlugin'\u001b[0m\u001b[1;38;5;214m]\u001b[0m\u001b[38;5;214m`.\u001b[0m\n"
      ]
     },
     "metadata": {},
     "output_type": "display_data"
    },
    {
     "data": {
      "text/html": [
       "<pre style=\"white-space:pre;overflow-x:auto;line-height:normal;font-family:Menlo,'DejaVu Sans Mono',consolas,'Courier New',monospace\"><span style=\"color: #ffaf00; text-decoration-color: #ffaf00\">Warning: `reflex.plugins.sitemap.SitemapPlugin` plugin is enabled by default, but not explicitly added to the </span>\n",
       "<span style=\"color: #ffaf00; text-decoration-color: #ffaf00\">config. If you want to use it, please add it to the `plugins` list in your config inside of `rxconfig.py`. To </span>\n",
       "<span style=\"color: #ffaf00; text-decoration-color: #ffaf00\">disable this plugin, set `disable_plugins` to `</span><span style=\"color: #ffaf00; text-decoration-color: #ffaf00; font-weight: bold\">[</span><span style=\"color: #ffaf00; text-decoration-color: #ffaf00\">'reflex.plugins.sitemap.SitemapPlugin'</span><span style=\"color: #ffaf00; text-decoration-color: #ffaf00; font-weight: bold\">]</span><span style=\"color: #ffaf00; text-decoration-color: #ffaf00\">`.</span>\n",
       "</pre>\n"
      ],
      "text/plain": [
       "\u001b[38;5;214mWarning: `reflex.plugins.sitemap.SitemapPlugin` plugin is enabled by default, but not explicitly added to the \u001b[0m\n",
       "\u001b[38;5;214mconfig. If you want to use it, please add it to the `plugins` list in your config inside of `rxconfig.py`. To \u001b[0m\n",
       "\u001b[38;5;214mdisable this plugin, set `disable_plugins` to `\u001b[0m\u001b[1;38;5;214m[\u001b[0m\u001b[38;5;214m'reflex.plugins.sitemap.SitemapPlugin'\u001b[0m\u001b[1;38;5;214m]\u001b[0m\u001b[38;5;214m`.\u001b[0m\n"
      ]
     },
     "metadata": {},
     "output_type": "display_data"
    },
    {
     "data": {
      "text/html": [
       "<pre style=\"white-space:pre;overflow-x:auto;line-height:normal;font-family:Menlo,'DejaVu Sans Mono',consolas,'Courier New',monospace\"><span style=\"color: #ffaf00; text-decoration-color: #ffaf00\">Warning: `reflex.plugins.sitemap.SitemapPlugin` plugin is enabled by default, but not explicitly added to the </span>\n",
       "<span style=\"color: #ffaf00; text-decoration-color: #ffaf00\">config. If you want to use it, please add it to the `plugins` list in your config inside of `rxconfig.py`. To </span>\n",
       "<span style=\"color: #ffaf00; text-decoration-color: #ffaf00\">disable this plugin, set `disable_plugins` to `</span><span style=\"color: #ffaf00; text-decoration-color: #ffaf00; font-weight: bold\">[</span><span style=\"color: #ffaf00; text-decoration-color: #ffaf00\">'reflex.plugins.sitemap.SitemapPlugin'</span><span style=\"color: #ffaf00; text-decoration-color: #ffaf00; font-weight: bold\">]</span><span style=\"color: #ffaf00; text-decoration-color: #ffaf00\">`.</span>\n",
       "</pre>\n"
      ],
      "text/plain": [
       "\u001b[38;5;214mWarning: `reflex.plugins.sitemap.SitemapPlugin` plugin is enabled by default, but not explicitly added to the \u001b[0m\n",
       "\u001b[38;5;214mconfig. If you want to use it, please add it to the `plugins` list in your config inside of `rxconfig.py`. To \u001b[0m\n",
       "\u001b[38;5;214mdisable this plugin, set `disable_plugins` to `\u001b[0m\u001b[1;38;5;214m[\u001b[0m\u001b[38;5;214m'reflex.plugins.sitemap.SitemapPlugin'\u001b[0m\u001b[1;38;5;214m]\u001b[0m\u001b[38;5;214m`.\u001b[0m\n"
      ]
     },
     "metadata": {},
     "output_type": "display_data"
    },
    {
     "data": {
      "text/html": [
       "<pre style=\"white-space:pre;overflow-x:auto;line-height:normal;font-family:Menlo,'DejaVu Sans Mono',consolas,'Courier New',monospace\"><span style=\"color: #ffaf00; text-decoration-color: #ffaf00\">Warning: `reflex.plugins.sitemap.SitemapPlugin` plugin is enabled by default, but not explicitly added to the </span>\n",
       "<span style=\"color: #ffaf00; text-decoration-color: #ffaf00\">config. If you want to use it, please add it to the `plugins` list in your config inside of `rxconfig.py`. To </span>\n",
       "<span style=\"color: #ffaf00; text-decoration-color: #ffaf00\">disable this plugin, set `disable_plugins` to `</span><span style=\"color: #ffaf00; text-decoration-color: #ffaf00; font-weight: bold\">[</span><span style=\"color: #ffaf00; text-decoration-color: #ffaf00\">'reflex.plugins.sitemap.SitemapPlugin'</span><span style=\"color: #ffaf00; text-decoration-color: #ffaf00; font-weight: bold\">]</span><span style=\"color: #ffaf00; text-decoration-color: #ffaf00\">`.</span>\n",
       "</pre>\n"
      ],
      "text/plain": [
       "\u001b[38;5;214mWarning: `reflex.plugins.sitemap.SitemapPlugin` plugin is enabled by default, but not explicitly added to the \u001b[0m\n",
       "\u001b[38;5;214mconfig. If you want to use it, please add it to the `plugins` list in your config inside of `rxconfig.py`. To \u001b[0m\n",
       "\u001b[38;5;214mdisable this plugin, set `disable_plugins` to `\u001b[0m\u001b[1;38;5;214m[\u001b[0m\u001b[38;5;214m'reflex.plugins.sitemap.SitemapPlugin'\u001b[0m\u001b[1;38;5;214m]\u001b[0m\u001b[38;5;214m`.\u001b[0m\n"
      ]
     },
     "metadata": {},
     "output_type": "display_data"
    },
    {
     "data": {
      "text/html": [
       "<pre style=\"white-space:pre;overflow-x:auto;line-height:normal;font-family:Menlo,'DejaVu Sans Mono',consolas,'Courier New',monospace\"><span style=\"color: #ffaf00; text-decoration-color: #ffaf00\">Warning: `reflex.plugins.sitemap.SitemapPlugin` plugin is enabled by default, but not explicitly added to the </span>\n",
       "<span style=\"color: #ffaf00; text-decoration-color: #ffaf00\">config. If you want to use it, please add it to the `plugins` list in your config inside of `rxconfig.py`. To </span>\n",
       "<span style=\"color: #ffaf00; text-decoration-color: #ffaf00\">disable this plugin, set `disable_plugins` to `</span><span style=\"color: #ffaf00; text-decoration-color: #ffaf00; font-weight: bold\">[</span><span style=\"color: #ffaf00; text-decoration-color: #ffaf00\">'reflex.plugins.sitemap.SitemapPlugin'</span><span style=\"color: #ffaf00; text-decoration-color: #ffaf00; font-weight: bold\">]</span><span style=\"color: #ffaf00; text-decoration-color: #ffaf00\">`.</span>\n",
       "</pre>\n"
      ],
      "text/plain": [
       "\u001b[38;5;214mWarning: `reflex.plugins.sitemap.SitemapPlugin` plugin is enabled by default, but not explicitly added to the \u001b[0m\n",
       "\u001b[38;5;214mconfig. If you want to use it, please add it to the `plugins` list in your config inside of `rxconfig.py`. To \u001b[0m\n",
       "\u001b[38;5;214mdisable this plugin, set `disable_plugins` to `\u001b[0m\u001b[1;38;5;214m[\u001b[0m\u001b[38;5;214m'reflex.plugins.sitemap.SitemapPlugin'\u001b[0m\u001b[1;38;5;214m]\u001b[0m\u001b[38;5;214m`.\u001b[0m\n"
      ]
     },
     "metadata": {},
     "output_type": "display_data"
    },
    {
     "data": {
      "text/html": [
       "<pre style=\"white-space:pre;overflow-x:auto;line-height:normal;font-family:Menlo,'DejaVu Sans Mono',consolas,'Courier New',monospace\"><span style=\"color: #ffaf00; text-decoration-color: #ffaf00\">Warning: `reflex.plugins.sitemap.SitemapPlugin` plugin is enabled by default, but not explicitly added to the </span>\n",
       "<span style=\"color: #ffaf00; text-decoration-color: #ffaf00\">config. If you want to use it, please add it to the `plugins` list in your config inside of `rxconfig.py`. To </span>\n",
       "<span style=\"color: #ffaf00; text-decoration-color: #ffaf00\">disable this plugin, set `disable_plugins` to `</span><span style=\"color: #ffaf00; text-decoration-color: #ffaf00; font-weight: bold\">[</span><span style=\"color: #ffaf00; text-decoration-color: #ffaf00\">'reflex.plugins.sitemap.SitemapPlugin'</span><span style=\"color: #ffaf00; text-decoration-color: #ffaf00; font-weight: bold\">]</span><span style=\"color: #ffaf00; text-decoration-color: #ffaf00\">`.</span>\n",
       "</pre>\n"
      ],
      "text/plain": [
       "\u001b[38;5;214mWarning: `reflex.plugins.sitemap.SitemapPlugin` plugin is enabled by default, but not explicitly added to the \u001b[0m\n",
       "\u001b[38;5;214mconfig. If you want to use it, please add it to the `plugins` list in your config inside of `rxconfig.py`. To \u001b[0m\n",
       "\u001b[38;5;214mdisable this plugin, set `disable_plugins` to `\u001b[0m\u001b[1;38;5;214m[\u001b[0m\u001b[38;5;214m'reflex.plugins.sitemap.SitemapPlugin'\u001b[0m\u001b[1;38;5;214m]\u001b[0m\u001b[38;5;214m`.\u001b[0m\n"
      ]
     },
     "metadata": {},
     "output_type": "display_data"
    },
    {
     "data": {
      "text/html": [
       "<pre style=\"white-space:pre;overflow-x:auto;line-height:normal;font-family:Menlo,'DejaVu Sans Mono',consolas,'Courier New',monospace\"><span style=\"color: #ffaf00; text-decoration-color: #ffaf00\">Warning: `reflex.plugins.sitemap.SitemapPlugin` plugin is enabled by default, but not explicitly added to the </span>\n",
       "<span style=\"color: #ffaf00; text-decoration-color: #ffaf00\">config. If you want to use it, please add it to the `plugins` list in your config inside of `rxconfig.py`. To </span>\n",
       "<span style=\"color: #ffaf00; text-decoration-color: #ffaf00\">disable this plugin, set `disable_plugins` to `</span><span style=\"color: #ffaf00; text-decoration-color: #ffaf00; font-weight: bold\">[</span><span style=\"color: #ffaf00; text-decoration-color: #ffaf00\">'reflex.plugins.sitemap.SitemapPlugin'</span><span style=\"color: #ffaf00; text-decoration-color: #ffaf00; font-weight: bold\">]</span><span style=\"color: #ffaf00; text-decoration-color: #ffaf00\">`.</span>\n",
       "</pre>\n"
      ],
      "text/plain": [
       "\u001b[38;5;214mWarning: `reflex.plugins.sitemap.SitemapPlugin` plugin is enabled by default, but not explicitly added to the \u001b[0m\n",
       "\u001b[38;5;214mconfig. If you want to use it, please add it to the `plugins` list in your config inside of `rxconfig.py`. To \u001b[0m\n",
       "\u001b[38;5;214mdisable this plugin, set `disable_plugins` to `\u001b[0m\u001b[1;38;5;214m[\u001b[0m\u001b[38;5;214m'reflex.plugins.sitemap.SitemapPlugin'\u001b[0m\u001b[1;38;5;214m]\u001b[0m\u001b[38;5;214m`.\u001b[0m\n"
      ]
     },
     "metadata": {},
     "output_type": "display_data"
    },
    {
     "data": {
      "text/html": [
       "<pre style=\"white-space:pre;overflow-x:auto;line-height:normal;font-family:Menlo,'DejaVu Sans Mono',consolas,'Courier New',monospace\"><span style=\"color: #ffaf00; text-decoration-color: #ffaf00\">Warning: `reflex.plugins.sitemap.SitemapPlugin` plugin is enabled by default, but not explicitly added to the </span>\n",
       "<span style=\"color: #ffaf00; text-decoration-color: #ffaf00\">config. If you want to use it, please add it to the `plugins` list in your config inside of `rxconfig.py`. To </span>\n",
       "<span style=\"color: #ffaf00; text-decoration-color: #ffaf00\">disable this plugin, set `disable_plugins` to `</span><span style=\"color: #ffaf00; text-decoration-color: #ffaf00; font-weight: bold\">[</span><span style=\"color: #ffaf00; text-decoration-color: #ffaf00\">'reflex.plugins.sitemap.SitemapPlugin'</span><span style=\"color: #ffaf00; text-decoration-color: #ffaf00; font-weight: bold\">]</span><span style=\"color: #ffaf00; text-decoration-color: #ffaf00\">`.</span>\n",
       "</pre>\n"
      ],
      "text/plain": [
       "\u001b[38;5;214mWarning: `reflex.plugins.sitemap.SitemapPlugin` plugin is enabled by default, but not explicitly added to the \u001b[0m\n",
       "\u001b[38;5;214mconfig. If you want to use it, please add it to the `plugins` list in your config inside of `rxconfig.py`. To \u001b[0m\n",
       "\u001b[38;5;214mdisable this plugin, set `disable_plugins` to `\u001b[0m\u001b[1;38;5;214m[\u001b[0m\u001b[38;5;214m'reflex.plugins.sitemap.SitemapPlugin'\u001b[0m\u001b[1;38;5;214m]\u001b[0m\u001b[38;5;214m`.\u001b[0m\n"
      ]
     },
     "metadata": {},
     "output_type": "display_data"
    },
    {
     "data": {
      "text/html": [
       "<pre style=\"white-space:pre;overflow-x:auto;line-height:normal;font-family:Menlo,'DejaVu Sans Mono',consolas,'Courier New',monospace\"><span style=\"color: #ffaf00; text-decoration-color: #ffaf00\">Warning: `reflex.plugins.sitemap.SitemapPlugin` plugin is enabled by default, but not explicitly added to the </span>\n",
       "<span style=\"color: #ffaf00; text-decoration-color: #ffaf00\">config. If you want to use it, please add it to the `plugins` list in your config inside of `rxconfig.py`. To </span>\n",
       "<span style=\"color: #ffaf00; text-decoration-color: #ffaf00\">disable this plugin, set `disable_plugins` to `</span><span style=\"color: #ffaf00; text-decoration-color: #ffaf00; font-weight: bold\">[</span><span style=\"color: #ffaf00; text-decoration-color: #ffaf00\">'reflex.plugins.sitemap.SitemapPlugin'</span><span style=\"color: #ffaf00; text-decoration-color: #ffaf00; font-weight: bold\">]</span><span style=\"color: #ffaf00; text-decoration-color: #ffaf00\">`.</span>\n",
       "</pre>\n"
      ],
      "text/plain": [
       "\u001b[38;5;214mWarning: `reflex.plugins.sitemap.SitemapPlugin` plugin is enabled by default, but not explicitly added to the \u001b[0m\n",
       "\u001b[38;5;214mconfig. If you want to use it, please add it to the `plugins` list in your config inside of `rxconfig.py`. To \u001b[0m\n",
       "\u001b[38;5;214mdisable this plugin, set `disable_plugins` to `\u001b[0m\u001b[1;38;5;214m[\u001b[0m\u001b[38;5;214m'reflex.plugins.sitemap.SitemapPlugin'\u001b[0m\u001b[1;38;5;214m]\u001b[0m\u001b[38;5;214m`.\u001b[0m\n"
      ]
     },
     "metadata": {},
     "output_type": "display_data"
    },
    {
     "data": {
      "text/html": [
       "<pre style=\"white-space:pre;overflow-x:auto;line-height:normal;font-family:Menlo,'DejaVu Sans Mono',consolas,'Courier New',monospace\"><span style=\"color: #ffaf00; text-decoration-color: #ffaf00\">Warning: `reflex.plugins.sitemap.SitemapPlugin` plugin is enabled by default, but not explicitly added to the </span>\n",
       "<span style=\"color: #ffaf00; text-decoration-color: #ffaf00\">config. If you want to use it, please add it to the `plugins` list in your config inside of `rxconfig.py`. To </span>\n",
       "<span style=\"color: #ffaf00; text-decoration-color: #ffaf00\">disable this plugin, set `disable_plugins` to `</span><span style=\"color: #ffaf00; text-decoration-color: #ffaf00; font-weight: bold\">[</span><span style=\"color: #ffaf00; text-decoration-color: #ffaf00\">'reflex.plugins.sitemap.SitemapPlugin'</span><span style=\"color: #ffaf00; text-decoration-color: #ffaf00; font-weight: bold\">]</span><span style=\"color: #ffaf00; text-decoration-color: #ffaf00\">`.</span>\n",
       "</pre>\n"
      ],
      "text/plain": [
       "\u001b[38;5;214mWarning: `reflex.plugins.sitemap.SitemapPlugin` plugin is enabled by default, but not explicitly added to the \u001b[0m\n",
       "\u001b[38;5;214mconfig. If you want to use it, please add it to the `plugins` list in your config inside of `rxconfig.py`. To \u001b[0m\n",
       "\u001b[38;5;214mdisable this plugin, set `disable_plugins` to `\u001b[0m\u001b[1;38;5;214m[\u001b[0m\u001b[38;5;214m'reflex.plugins.sitemap.SitemapPlugin'\u001b[0m\u001b[1;38;5;214m]\u001b[0m\u001b[38;5;214m`.\u001b[0m\n"
      ]
     },
     "metadata": {},
     "output_type": "display_data"
    },
    {
     "data": {
      "text/html": [
       "<pre style=\"white-space:pre;overflow-x:auto;line-height:normal;font-family:Menlo,'DejaVu Sans Mono',consolas,'Courier New',monospace\"><span style=\"color: #ffaf00; text-decoration-color: #ffaf00\">Warning: `reflex.plugins.sitemap.SitemapPlugin` plugin is enabled by default, but not explicitly added to the </span>\n",
       "<span style=\"color: #ffaf00; text-decoration-color: #ffaf00\">config. If you want to use it, please add it to the `plugins` list in your config inside of `rxconfig.py`. To </span>\n",
       "<span style=\"color: #ffaf00; text-decoration-color: #ffaf00\">disable this plugin, set `disable_plugins` to `</span><span style=\"color: #ffaf00; text-decoration-color: #ffaf00; font-weight: bold\">[</span><span style=\"color: #ffaf00; text-decoration-color: #ffaf00\">'reflex.plugins.sitemap.SitemapPlugin'</span><span style=\"color: #ffaf00; text-decoration-color: #ffaf00; font-weight: bold\">]</span><span style=\"color: #ffaf00; text-decoration-color: #ffaf00\">`.</span>\n",
       "</pre>\n"
      ],
      "text/plain": [
       "\u001b[38;5;214mWarning: `reflex.plugins.sitemap.SitemapPlugin` plugin is enabled by default, but not explicitly added to the \u001b[0m\n",
       "\u001b[38;5;214mconfig. If you want to use it, please add it to the `plugins` list in your config inside of `rxconfig.py`. To \u001b[0m\n",
       "\u001b[38;5;214mdisable this plugin, set `disable_plugins` to `\u001b[0m\u001b[1;38;5;214m[\u001b[0m\u001b[38;5;214m'reflex.plugins.sitemap.SitemapPlugin'\u001b[0m\u001b[1;38;5;214m]\u001b[0m\u001b[38;5;214m`.\u001b[0m\n"
      ]
     },
     "metadata": {},
     "output_type": "display_data"
    },
    {
     "data": {
      "text/html": [
       "<pre style=\"white-space:pre;overflow-x:auto;line-height:normal;font-family:Menlo,'DejaVu Sans Mono',consolas,'Courier New',monospace\"><span style=\"color: #ffaf00; text-decoration-color: #ffaf00\">Warning: `reflex.plugins.sitemap.SitemapPlugin` plugin is enabled by default, but not explicitly added to the </span>\n",
       "<span style=\"color: #ffaf00; text-decoration-color: #ffaf00\">config. If you want to use it, please add it to the `plugins` list in your config inside of `rxconfig.py`. To </span>\n",
       "<span style=\"color: #ffaf00; text-decoration-color: #ffaf00\">disable this plugin, set `disable_plugins` to `</span><span style=\"color: #ffaf00; text-decoration-color: #ffaf00; font-weight: bold\">[</span><span style=\"color: #ffaf00; text-decoration-color: #ffaf00\">'reflex.plugins.sitemap.SitemapPlugin'</span><span style=\"color: #ffaf00; text-decoration-color: #ffaf00; font-weight: bold\">]</span><span style=\"color: #ffaf00; text-decoration-color: #ffaf00\">`.</span>\n",
       "</pre>\n"
      ],
      "text/plain": [
       "\u001b[38;5;214mWarning: `reflex.plugins.sitemap.SitemapPlugin` plugin is enabled by default, but not explicitly added to the \u001b[0m\n",
       "\u001b[38;5;214mconfig. If you want to use it, please add it to the `plugins` list in your config inside of `rxconfig.py`. To \u001b[0m\n",
       "\u001b[38;5;214mdisable this plugin, set `disable_plugins` to `\u001b[0m\u001b[1;38;5;214m[\u001b[0m\u001b[38;5;214m'reflex.plugins.sitemap.SitemapPlugin'\u001b[0m\u001b[1;38;5;214m]\u001b[0m\u001b[38;5;214m`.\u001b[0m\n"
      ]
     },
     "metadata": {},
     "output_type": "display_data"
    },
    {
     "data": {
      "text/html": [
       "<pre style=\"white-space:pre;overflow-x:auto;line-height:normal;font-family:Menlo,'DejaVu Sans Mono',consolas,'Courier New',monospace\"><span style=\"color: #ffaf00; text-decoration-color: #ffaf00\">Warning: `reflex.plugins.sitemap.SitemapPlugin` plugin is enabled by default, but not explicitly added to the </span>\n",
       "<span style=\"color: #ffaf00; text-decoration-color: #ffaf00\">config. If you want to use it, please add it to the `plugins` list in your config inside of `rxconfig.py`. To </span>\n",
       "<span style=\"color: #ffaf00; text-decoration-color: #ffaf00\">disable this plugin, set `disable_plugins` to `</span><span style=\"color: #ffaf00; text-decoration-color: #ffaf00; font-weight: bold\">[</span><span style=\"color: #ffaf00; text-decoration-color: #ffaf00\">'reflex.plugins.sitemap.SitemapPlugin'</span><span style=\"color: #ffaf00; text-decoration-color: #ffaf00; font-weight: bold\">]</span><span style=\"color: #ffaf00; text-decoration-color: #ffaf00\">`.</span>\n",
       "</pre>\n"
      ],
      "text/plain": [
       "\u001b[38;5;214mWarning: `reflex.plugins.sitemap.SitemapPlugin` plugin is enabled by default, but not explicitly added to the \u001b[0m\n",
       "\u001b[38;5;214mconfig. If you want to use it, please add it to the `plugins` list in your config inside of `rxconfig.py`. To \u001b[0m\n",
       "\u001b[38;5;214mdisable this plugin, set `disable_plugins` to `\u001b[0m\u001b[1;38;5;214m[\u001b[0m\u001b[38;5;214m'reflex.plugins.sitemap.SitemapPlugin'\u001b[0m\u001b[1;38;5;214m]\u001b[0m\u001b[38;5;214m`.\u001b[0m\n"
      ]
     },
     "metadata": {},
     "output_type": "display_data"
    },
    {
     "data": {
      "text/html": [
       "<pre style=\"white-space:pre;overflow-x:auto;line-height:normal;font-family:Menlo,'DejaVu Sans Mono',consolas,'Courier New',monospace\"><span style=\"color: #ffaf00; text-decoration-color: #ffaf00\">Warning: `reflex.plugins.sitemap.SitemapPlugin` plugin is enabled by default, but not explicitly added to the </span>\n",
       "<span style=\"color: #ffaf00; text-decoration-color: #ffaf00\">config. If you want to use it, please add it to the `plugins` list in your config inside of `rxconfig.py`. To </span>\n",
       "<span style=\"color: #ffaf00; text-decoration-color: #ffaf00\">disable this plugin, set `disable_plugins` to `</span><span style=\"color: #ffaf00; text-decoration-color: #ffaf00; font-weight: bold\">[</span><span style=\"color: #ffaf00; text-decoration-color: #ffaf00\">'reflex.plugins.sitemap.SitemapPlugin'</span><span style=\"color: #ffaf00; text-decoration-color: #ffaf00; font-weight: bold\">]</span><span style=\"color: #ffaf00; text-decoration-color: #ffaf00\">`.</span>\n",
       "</pre>\n"
      ],
      "text/plain": [
       "\u001b[38;5;214mWarning: `reflex.plugins.sitemap.SitemapPlugin` plugin is enabled by default, but not explicitly added to the \u001b[0m\n",
       "\u001b[38;5;214mconfig. If you want to use it, please add it to the `plugins` list in your config inside of `rxconfig.py`. To \u001b[0m\n",
       "\u001b[38;5;214mdisable this plugin, set `disable_plugins` to `\u001b[0m\u001b[1;38;5;214m[\u001b[0m\u001b[38;5;214m'reflex.plugins.sitemap.SitemapPlugin'\u001b[0m\u001b[1;38;5;214m]\u001b[0m\u001b[38;5;214m`.\u001b[0m\n"
      ]
     },
     "metadata": {},
     "output_type": "display_data"
    },
    {
     "data": {
      "text/html": [
       "<pre style=\"white-space:pre;overflow-x:auto;line-height:normal;font-family:Menlo,'DejaVu Sans Mono',consolas,'Courier New',monospace\"><span style=\"color: #ffaf00; text-decoration-color: #ffaf00\">Warning: `reflex.plugins.sitemap.SitemapPlugin` plugin is enabled by default, but not explicitly added to the </span>\n",
       "<span style=\"color: #ffaf00; text-decoration-color: #ffaf00\">config. If you want to use it, please add it to the `plugins` list in your config inside of `rxconfig.py`. To </span>\n",
       "<span style=\"color: #ffaf00; text-decoration-color: #ffaf00\">disable this plugin, set `disable_plugins` to `</span><span style=\"color: #ffaf00; text-decoration-color: #ffaf00; font-weight: bold\">[</span><span style=\"color: #ffaf00; text-decoration-color: #ffaf00\">'reflex.plugins.sitemap.SitemapPlugin'</span><span style=\"color: #ffaf00; text-decoration-color: #ffaf00; font-weight: bold\">]</span><span style=\"color: #ffaf00; text-decoration-color: #ffaf00\">`.</span>\n",
       "</pre>\n"
      ],
      "text/plain": [
       "\u001b[38;5;214mWarning: `reflex.plugins.sitemap.SitemapPlugin` plugin is enabled by default, but not explicitly added to the \u001b[0m\n",
       "\u001b[38;5;214mconfig. If you want to use it, please add it to the `plugins` list in your config inside of `rxconfig.py`. To \u001b[0m\n",
       "\u001b[38;5;214mdisable this plugin, set `disable_plugins` to `\u001b[0m\u001b[1;38;5;214m[\u001b[0m\u001b[38;5;214m'reflex.plugins.sitemap.SitemapPlugin'\u001b[0m\u001b[1;38;5;214m]\u001b[0m\u001b[38;5;214m`.\u001b[0m\n"
      ]
     },
     "metadata": {},
     "output_type": "display_data"
    },
    {
     "data": {
      "text/html": [
       "<pre style=\"white-space:pre;overflow-x:auto;line-height:normal;font-family:Menlo,'DejaVu Sans Mono',consolas,'Courier New',monospace\"><span style=\"color: #ffaf00; text-decoration-color: #ffaf00\">Warning: `reflex.plugins.sitemap.SitemapPlugin` plugin is enabled by default, but not explicitly added to the </span>\n",
       "<span style=\"color: #ffaf00; text-decoration-color: #ffaf00\">config. If you want to use it, please add it to the `plugins` list in your config inside of `rxconfig.py`. To </span>\n",
       "<span style=\"color: #ffaf00; text-decoration-color: #ffaf00\">disable this plugin, set `disable_plugins` to `</span><span style=\"color: #ffaf00; text-decoration-color: #ffaf00; font-weight: bold\">[</span><span style=\"color: #ffaf00; text-decoration-color: #ffaf00\">'reflex.plugins.sitemap.SitemapPlugin'</span><span style=\"color: #ffaf00; text-decoration-color: #ffaf00; font-weight: bold\">]</span><span style=\"color: #ffaf00; text-decoration-color: #ffaf00\">`.</span>\n",
       "</pre>\n"
      ],
      "text/plain": [
       "\u001b[38;5;214mWarning: `reflex.plugins.sitemap.SitemapPlugin` plugin is enabled by default, but not explicitly added to the \u001b[0m\n",
       "\u001b[38;5;214mconfig. If you want to use it, please add it to the `plugins` list in your config inside of `rxconfig.py`. To \u001b[0m\n",
       "\u001b[38;5;214mdisable this plugin, set `disable_plugins` to `\u001b[0m\u001b[1;38;5;214m[\u001b[0m\u001b[38;5;214m'reflex.plugins.sitemap.SitemapPlugin'\u001b[0m\u001b[1;38;5;214m]\u001b[0m\u001b[38;5;214m`.\u001b[0m\n"
      ]
     },
     "metadata": {},
     "output_type": "display_data"
    },
    {
     "data": {
      "text/html": [
       "<pre style=\"white-space:pre;overflow-x:auto;line-height:normal;font-family:Menlo,'DejaVu Sans Mono',consolas,'Courier New',monospace\"><span style=\"color: #ffaf00; text-decoration-color: #ffaf00\">Warning: `reflex.plugins.sitemap.SitemapPlugin` plugin is enabled by default, but not explicitly added to the </span>\n",
       "<span style=\"color: #ffaf00; text-decoration-color: #ffaf00\">config. If you want to use it, please add it to the `plugins` list in your config inside of `rxconfig.py`. To </span>\n",
       "<span style=\"color: #ffaf00; text-decoration-color: #ffaf00\">disable this plugin, set `disable_plugins` to `</span><span style=\"color: #ffaf00; text-decoration-color: #ffaf00; font-weight: bold\">[</span><span style=\"color: #ffaf00; text-decoration-color: #ffaf00\">'reflex.plugins.sitemap.SitemapPlugin'</span><span style=\"color: #ffaf00; text-decoration-color: #ffaf00; font-weight: bold\">]</span><span style=\"color: #ffaf00; text-decoration-color: #ffaf00\">`.</span>\n",
       "</pre>\n"
      ],
      "text/plain": [
       "\u001b[38;5;214mWarning: `reflex.plugins.sitemap.SitemapPlugin` plugin is enabled by default, but not explicitly added to the \u001b[0m\n",
       "\u001b[38;5;214mconfig. If you want to use it, please add it to the `plugins` list in your config inside of `rxconfig.py`. To \u001b[0m\n",
       "\u001b[38;5;214mdisable this plugin, set `disable_plugins` to `\u001b[0m\u001b[1;38;5;214m[\u001b[0m\u001b[38;5;214m'reflex.plugins.sitemap.SitemapPlugin'\u001b[0m\u001b[1;38;5;214m]\u001b[0m\u001b[38;5;214m`.\u001b[0m\n"
      ]
     },
     "metadata": {},
     "output_type": "display_data"
    },
    {
     "data": {
      "text/html": [
       "<pre style=\"white-space:pre;overflow-x:auto;line-height:normal;font-family:Menlo,'DejaVu Sans Mono',consolas,'Courier New',monospace\"><span style=\"color: #ffaf00; text-decoration-color: #ffaf00\">Warning: `reflex.plugins.sitemap.SitemapPlugin` plugin is enabled by default, but not explicitly added to the </span>\n",
       "<span style=\"color: #ffaf00; text-decoration-color: #ffaf00\">config. If you want to use it, please add it to the `plugins` list in your config inside of `rxconfig.py`. To </span>\n",
       "<span style=\"color: #ffaf00; text-decoration-color: #ffaf00\">disable this plugin, set `disable_plugins` to `</span><span style=\"color: #ffaf00; text-decoration-color: #ffaf00; font-weight: bold\">[</span><span style=\"color: #ffaf00; text-decoration-color: #ffaf00\">'reflex.plugins.sitemap.SitemapPlugin'</span><span style=\"color: #ffaf00; text-decoration-color: #ffaf00; font-weight: bold\">]</span><span style=\"color: #ffaf00; text-decoration-color: #ffaf00\">`.</span>\n",
       "</pre>\n"
      ],
      "text/plain": [
       "\u001b[38;5;214mWarning: `reflex.plugins.sitemap.SitemapPlugin` plugin is enabled by default, but not explicitly added to the \u001b[0m\n",
       "\u001b[38;5;214mconfig. If you want to use it, please add it to the `plugins` list in your config inside of `rxconfig.py`. To \u001b[0m\n",
       "\u001b[38;5;214mdisable this plugin, set `disable_plugins` to `\u001b[0m\u001b[1;38;5;214m[\u001b[0m\u001b[38;5;214m'reflex.plugins.sitemap.SitemapPlugin'\u001b[0m\u001b[1;38;5;214m]\u001b[0m\u001b[38;5;214m`.\u001b[0m\n"
      ]
     },
     "metadata": {},
     "output_type": "display_data"
    },
    {
     "data": {
      "text/html": [
       "<pre style=\"white-space:pre;overflow-x:auto;line-height:normal;font-family:Menlo,'DejaVu Sans Mono',consolas,'Courier New',monospace\"><span style=\"color: #ffaf00; text-decoration-color: #ffaf00\">Warning: `reflex.plugins.sitemap.SitemapPlugin` plugin is enabled by default, but not explicitly added to the </span>\n",
       "<span style=\"color: #ffaf00; text-decoration-color: #ffaf00\">config. If you want to use it, please add it to the `plugins` list in your config inside of `rxconfig.py`. To </span>\n",
       "<span style=\"color: #ffaf00; text-decoration-color: #ffaf00\">disable this plugin, set `disable_plugins` to `</span><span style=\"color: #ffaf00; text-decoration-color: #ffaf00; font-weight: bold\">[</span><span style=\"color: #ffaf00; text-decoration-color: #ffaf00\">'reflex.plugins.sitemap.SitemapPlugin'</span><span style=\"color: #ffaf00; text-decoration-color: #ffaf00; font-weight: bold\">]</span><span style=\"color: #ffaf00; text-decoration-color: #ffaf00\">`.</span>\n",
       "</pre>\n"
      ],
      "text/plain": [
       "\u001b[38;5;214mWarning: `reflex.plugins.sitemap.SitemapPlugin` plugin is enabled by default, but not explicitly added to the \u001b[0m\n",
       "\u001b[38;5;214mconfig. If you want to use it, please add it to the `plugins` list in your config inside of `rxconfig.py`. To \u001b[0m\n",
       "\u001b[38;5;214mdisable this plugin, set `disable_plugins` to `\u001b[0m\u001b[1;38;5;214m[\u001b[0m\u001b[38;5;214m'reflex.plugins.sitemap.SitemapPlugin'\u001b[0m\u001b[1;38;5;214m]\u001b[0m\u001b[38;5;214m`.\u001b[0m\n"
      ]
     },
     "metadata": {},
     "output_type": "display_data"
    },
    {
     "data": {
      "text/html": [
       "<pre style=\"white-space:pre;overflow-x:auto;line-height:normal;font-family:Menlo,'DejaVu Sans Mono',consolas,'Courier New',monospace\"><span style=\"color: #ffaf00; text-decoration-color: #ffaf00\">Warning: `reflex.plugins.sitemap.SitemapPlugin` plugin is enabled by default, but not explicitly added to the </span>\n",
       "<span style=\"color: #ffaf00; text-decoration-color: #ffaf00\">config. If you want to use it, please add it to the `plugins` list in your config inside of `rxconfig.py`. To </span>\n",
       "<span style=\"color: #ffaf00; text-decoration-color: #ffaf00\">disable this plugin, set `disable_plugins` to `</span><span style=\"color: #ffaf00; text-decoration-color: #ffaf00; font-weight: bold\">[</span><span style=\"color: #ffaf00; text-decoration-color: #ffaf00\">'reflex.plugins.sitemap.SitemapPlugin'</span><span style=\"color: #ffaf00; text-decoration-color: #ffaf00; font-weight: bold\">]</span><span style=\"color: #ffaf00; text-decoration-color: #ffaf00\">`.</span>\n",
       "</pre>\n"
      ],
      "text/plain": [
       "\u001b[38;5;214mWarning: `reflex.plugins.sitemap.SitemapPlugin` plugin is enabled by default, but not explicitly added to the \u001b[0m\n",
       "\u001b[38;5;214mconfig. If you want to use it, please add it to the `plugins` list in your config inside of `rxconfig.py`. To \u001b[0m\n",
       "\u001b[38;5;214mdisable this plugin, set `disable_plugins` to `\u001b[0m\u001b[1;38;5;214m[\u001b[0m\u001b[38;5;214m'reflex.plugins.sitemap.SitemapPlugin'\u001b[0m\u001b[1;38;5;214m]\u001b[0m\u001b[38;5;214m`.\u001b[0m\n"
      ]
     },
     "metadata": {},
     "output_type": "display_data"
    },
    {
     "data": {
      "text/html": [
       "<pre style=\"white-space:pre;overflow-x:auto;line-height:normal;font-family:Menlo,'DejaVu Sans Mono',consolas,'Courier New',monospace\"><span style=\"color: #ffaf00; text-decoration-color: #ffaf00\">Warning: `reflex.plugins.sitemap.SitemapPlugin` plugin is enabled by default, but not explicitly added to the </span>\n",
       "<span style=\"color: #ffaf00; text-decoration-color: #ffaf00\">config. If you want to use it, please add it to the `plugins` list in your config inside of `rxconfig.py`. To </span>\n",
       "<span style=\"color: #ffaf00; text-decoration-color: #ffaf00\">disable this plugin, set `disable_plugins` to `</span><span style=\"color: #ffaf00; text-decoration-color: #ffaf00; font-weight: bold\">[</span><span style=\"color: #ffaf00; text-decoration-color: #ffaf00\">'reflex.plugins.sitemap.SitemapPlugin'</span><span style=\"color: #ffaf00; text-decoration-color: #ffaf00; font-weight: bold\">]</span><span style=\"color: #ffaf00; text-decoration-color: #ffaf00\">`.</span>\n",
       "</pre>\n"
      ],
      "text/plain": [
       "\u001b[38;5;214mWarning: `reflex.plugins.sitemap.SitemapPlugin` plugin is enabled by default, but not explicitly added to the \u001b[0m\n",
       "\u001b[38;5;214mconfig. If you want to use it, please add it to the `plugins` list in your config inside of `rxconfig.py`. To \u001b[0m\n",
       "\u001b[38;5;214mdisable this plugin, set `disable_plugins` to `\u001b[0m\u001b[1;38;5;214m[\u001b[0m\u001b[38;5;214m'reflex.plugins.sitemap.SitemapPlugin'\u001b[0m\u001b[1;38;5;214m]\u001b[0m\u001b[38;5;214m`.\u001b[0m\n"
      ]
     },
     "metadata": {},
     "output_type": "display_data"
    },
    {
     "data": {
      "text/html": [
       "<pre style=\"white-space:pre;overflow-x:auto;line-height:normal;font-family:Menlo,'DejaVu Sans Mono',consolas,'Courier New',monospace\"><span style=\"color: #ffaf00; text-decoration-color: #ffaf00\">Warning: `reflex.plugins.sitemap.SitemapPlugin` plugin is enabled by default, but not explicitly added to the </span>\n",
       "<span style=\"color: #ffaf00; text-decoration-color: #ffaf00\">config. If you want to use it, please add it to the `plugins` list in your config inside of `rxconfig.py`. To </span>\n",
       "<span style=\"color: #ffaf00; text-decoration-color: #ffaf00\">disable this plugin, set `disable_plugins` to `</span><span style=\"color: #ffaf00; text-decoration-color: #ffaf00; font-weight: bold\">[</span><span style=\"color: #ffaf00; text-decoration-color: #ffaf00\">'reflex.plugins.sitemap.SitemapPlugin'</span><span style=\"color: #ffaf00; text-decoration-color: #ffaf00; font-weight: bold\">]</span><span style=\"color: #ffaf00; text-decoration-color: #ffaf00\">`.</span>\n",
       "</pre>\n"
      ],
      "text/plain": [
       "\u001b[38;5;214mWarning: `reflex.plugins.sitemap.SitemapPlugin` plugin is enabled by default, but not explicitly added to the \u001b[0m\n",
       "\u001b[38;5;214mconfig. If you want to use it, please add it to the `plugins` list in your config inside of `rxconfig.py`. To \u001b[0m\n",
       "\u001b[38;5;214mdisable this plugin, set `disable_plugins` to `\u001b[0m\u001b[1;38;5;214m[\u001b[0m\u001b[38;5;214m'reflex.plugins.sitemap.SitemapPlugin'\u001b[0m\u001b[1;38;5;214m]\u001b[0m\u001b[38;5;214m`.\u001b[0m\n"
      ]
     },
     "metadata": {},
     "output_type": "display_data"
    },
    {
     "data": {
      "text/html": [
       "<pre style=\"white-space:pre;overflow-x:auto;line-height:normal;font-family:Menlo,'DejaVu Sans Mono',consolas,'Courier New',monospace\"><span style=\"color: #ffaf00; text-decoration-color: #ffaf00\">Warning: `reflex.plugins.sitemap.SitemapPlugin` plugin is enabled by default, but not explicitly added to the </span>\n",
       "<span style=\"color: #ffaf00; text-decoration-color: #ffaf00\">config. If you want to use it, please add it to the `plugins` list in your config inside of `rxconfig.py`. To </span>\n",
       "<span style=\"color: #ffaf00; text-decoration-color: #ffaf00\">disable this plugin, set `disable_plugins` to `</span><span style=\"color: #ffaf00; text-decoration-color: #ffaf00; font-weight: bold\">[</span><span style=\"color: #ffaf00; text-decoration-color: #ffaf00\">'reflex.plugins.sitemap.SitemapPlugin'</span><span style=\"color: #ffaf00; text-decoration-color: #ffaf00; font-weight: bold\">]</span><span style=\"color: #ffaf00; text-decoration-color: #ffaf00\">`.</span>\n",
       "</pre>\n"
      ],
      "text/plain": [
       "\u001b[38;5;214mWarning: `reflex.plugins.sitemap.SitemapPlugin` plugin is enabled by default, but not explicitly added to the \u001b[0m\n",
       "\u001b[38;5;214mconfig. If you want to use it, please add it to the `plugins` list in your config inside of `rxconfig.py`. To \u001b[0m\n",
       "\u001b[38;5;214mdisable this plugin, set `disable_plugins` to `\u001b[0m\u001b[1;38;5;214m[\u001b[0m\u001b[38;5;214m'reflex.plugins.sitemap.SitemapPlugin'\u001b[0m\u001b[1;38;5;214m]\u001b[0m\u001b[38;5;214m`.\u001b[0m\n"
      ]
     },
     "metadata": {},
     "output_type": "display_data"
    },
    {
     "data": {
      "text/html": [
       "<pre style=\"white-space:pre;overflow-x:auto;line-height:normal;font-family:Menlo,'DejaVu Sans Mono',consolas,'Courier New',monospace\"><span style=\"color: #ffaf00; text-decoration-color: #ffaf00\">Warning: `reflex.plugins.sitemap.SitemapPlugin` plugin is enabled by default, but not explicitly added to the </span>\n",
       "<span style=\"color: #ffaf00; text-decoration-color: #ffaf00\">config. If you want to use it, please add it to the `plugins` list in your config inside of `rxconfig.py`. To </span>\n",
       "<span style=\"color: #ffaf00; text-decoration-color: #ffaf00\">disable this plugin, set `disable_plugins` to `</span><span style=\"color: #ffaf00; text-decoration-color: #ffaf00; font-weight: bold\">[</span><span style=\"color: #ffaf00; text-decoration-color: #ffaf00\">'reflex.plugins.sitemap.SitemapPlugin'</span><span style=\"color: #ffaf00; text-decoration-color: #ffaf00; font-weight: bold\">]</span><span style=\"color: #ffaf00; text-decoration-color: #ffaf00\">`.</span>\n",
       "</pre>\n"
      ],
      "text/plain": [
       "\u001b[38;5;214mWarning: `reflex.plugins.sitemap.SitemapPlugin` plugin is enabled by default, but not explicitly added to the \u001b[0m\n",
       "\u001b[38;5;214mconfig. If you want to use it, please add it to the `plugins` list in your config inside of `rxconfig.py`. To \u001b[0m\n",
       "\u001b[38;5;214mdisable this plugin, set `disable_plugins` to `\u001b[0m\u001b[1;38;5;214m[\u001b[0m\u001b[38;5;214m'reflex.plugins.sitemap.SitemapPlugin'\u001b[0m\u001b[1;38;5;214m]\u001b[0m\u001b[38;5;214m`.\u001b[0m\n"
      ]
     },
     "metadata": {},
     "output_type": "display_data"
    },
    {
     "data": {
      "text/html": [
       "<pre style=\"white-space:pre;overflow-x:auto;line-height:normal;font-family:Menlo,'DejaVu Sans Mono',consolas,'Courier New',monospace\"><span style=\"color: #ffaf00; text-decoration-color: #ffaf00\">Warning: `reflex.plugins.sitemap.SitemapPlugin` plugin is enabled by default, but not explicitly added to the </span>\n",
       "<span style=\"color: #ffaf00; text-decoration-color: #ffaf00\">config. If you want to use it, please add it to the `plugins` list in your config inside of `rxconfig.py`. To </span>\n",
       "<span style=\"color: #ffaf00; text-decoration-color: #ffaf00\">disable this plugin, set `disable_plugins` to `</span><span style=\"color: #ffaf00; text-decoration-color: #ffaf00; font-weight: bold\">[</span><span style=\"color: #ffaf00; text-decoration-color: #ffaf00\">'reflex.plugins.sitemap.SitemapPlugin'</span><span style=\"color: #ffaf00; text-decoration-color: #ffaf00; font-weight: bold\">]</span><span style=\"color: #ffaf00; text-decoration-color: #ffaf00\">`.</span>\n",
       "</pre>\n"
      ],
      "text/plain": [
       "\u001b[38;5;214mWarning: `reflex.plugins.sitemap.SitemapPlugin` plugin is enabled by default, but not explicitly added to the \u001b[0m\n",
       "\u001b[38;5;214mconfig. If you want to use it, please add it to the `plugins` list in your config inside of `rxconfig.py`. To \u001b[0m\n",
       "\u001b[38;5;214mdisable this plugin, set `disable_plugins` to `\u001b[0m\u001b[1;38;5;214m[\u001b[0m\u001b[38;5;214m'reflex.plugins.sitemap.SitemapPlugin'\u001b[0m\u001b[1;38;5;214m]\u001b[0m\u001b[38;5;214m`.\u001b[0m\n"
      ]
     },
     "metadata": {},
     "output_type": "display_data"
    },
    {
     "data": {
      "text/html": [
       "<pre style=\"white-space:pre;overflow-x:auto;line-height:normal;font-family:Menlo,'DejaVu Sans Mono',consolas,'Courier New',monospace\"><span style=\"color: #ffaf00; text-decoration-color: #ffaf00\">Warning: `reflex.plugins.sitemap.SitemapPlugin` plugin is enabled by default, but not explicitly added to the </span>\n",
       "<span style=\"color: #ffaf00; text-decoration-color: #ffaf00\">config. If you want to use it, please add it to the `plugins` list in your config inside of `rxconfig.py`. To </span>\n",
       "<span style=\"color: #ffaf00; text-decoration-color: #ffaf00\">disable this plugin, set `disable_plugins` to `</span><span style=\"color: #ffaf00; text-decoration-color: #ffaf00; font-weight: bold\">[</span><span style=\"color: #ffaf00; text-decoration-color: #ffaf00\">'reflex.plugins.sitemap.SitemapPlugin'</span><span style=\"color: #ffaf00; text-decoration-color: #ffaf00; font-weight: bold\">]</span><span style=\"color: #ffaf00; text-decoration-color: #ffaf00\">`.</span>\n",
       "</pre>\n"
      ],
      "text/plain": [
       "\u001b[38;5;214mWarning: `reflex.plugins.sitemap.SitemapPlugin` plugin is enabled by default, but not explicitly added to the \u001b[0m\n",
       "\u001b[38;5;214mconfig. If you want to use it, please add it to the `plugins` list in your config inside of `rxconfig.py`. To \u001b[0m\n",
       "\u001b[38;5;214mdisable this plugin, set `disable_plugins` to `\u001b[0m\u001b[1;38;5;214m[\u001b[0m\u001b[38;5;214m'reflex.plugins.sitemap.SitemapPlugin'\u001b[0m\u001b[1;38;5;214m]\u001b[0m\u001b[38;5;214m`.\u001b[0m\n"
      ]
     },
     "metadata": {},
     "output_type": "display_data"
    },
    {
     "data": {
      "text/html": [
       "<pre style=\"white-space:pre;overflow-x:auto;line-height:normal;font-family:Menlo,'DejaVu Sans Mono',consolas,'Courier New',monospace\"><span style=\"color: #ffaf00; text-decoration-color: #ffaf00\">Warning: `reflex.plugins.sitemap.SitemapPlugin` plugin is enabled by default, but not explicitly added to the </span>\n",
       "<span style=\"color: #ffaf00; text-decoration-color: #ffaf00\">config. If you want to use it, please add it to the `plugins` list in your config inside of `rxconfig.py`. To </span>\n",
       "<span style=\"color: #ffaf00; text-decoration-color: #ffaf00\">disable this plugin, set `disable_plugins` to `</span><span style=\"color: #ffaf00; text-decoration-color: #ffaf00; font-weight: bold\">[</span><span style=\"color: #ffaf00; text-decoration-color: #ffaf00\">'reflex.plugins.sitemap.SitemapPlugin'</span><span style=\"color: #ffaf00; text-decoration-color: #ffaf00; font-weight: bold\">]</span><span style=\"color: #ffaf00; text-decoration-color: #ffaf00\">`.</span>\n",
       "</pre>\n"
      ],
      "text/plain": [
       "\u001b[38;5;214mWarning: `reflex.plugins.sitemap.SitemapPlugin` plugin is enabled by default, but not explicitly added to the \u001b[0m\n",
       "\u001b[38;5;214mconfig. If you want to use it, please add it to the `plugins` list in your config inside of `rxconfig.py`. To \u001b[0m\n",
       "\u001b[38;5;214mdisable this plugin, set `disable_plugins` to `\u001b[0m\u001b[1;38;5;214m[\u001b[0m\u001b[38;5;214m'reflex.plugins.sitemap.SitemapPlugin'\u001b[0m\u001b[1;38;5;214m]\u001b[0m\u001b[38;5;214m`.\u001b[0m\n"
      ]
     },
     "metadata": {},
     "output_type": "display_data"
    },
    {
     "data": {
      "text/html": [
       "<pre style=\"white-space:pre;overflow-x:auto;line-height:normal;font-family:Menlo,'DejaVu Sans Mono',consolas,'Courier New',monospace\"><span style=\"color: #ffaf00; text-decoration-color: #ffaf00\">Warning: `reflex.plugins.sitemap.SitemapPlugin` plugin is enabled by default, but not explicitly added to the </span>\n",
       "<span style=\"color: #ffaf00; text-decoration-color: #ffaf00\">config. If you want to use it, please add it to the `plugins` list in your config inside of `rxconfig.py`. To </span>\n",
       "<span style=\"color: #ffaf00; text-decoration-color: #ffaf00\">disable this plugin, set `disable_plugins` to `</span><span style=\"color: #ffaf00; text-decoration-color: #ffaf00; font-weight: bold\">[</span><span style=\"color: #ffaf00; text-decoration-color: #ffaf00\">'reflex.plugins.sitemap.SitemapPlugin'</span><span style=\"color: #ffaf00; text-decoration-color: #ffaf00; font-weight: bold\">]</span><span style=\"color: #ffaf00; text-decoration-color: #ffaf00\">`.</span>\n",
       "</pre>\n"
      ],
      "text/plain": [
       "\u001b[38;5;214mWarning: `reflex.plugins.sitemap.SitemapPlugin` plugin is enabled by default, but not explicitly added to the \u001b[0m\n",
       "\u001b[38;5;214mconfig. If you want to use it, please add it to the `plugins` list in your config inside of `rxconfig.py`. To \u001b[0m\n",
       "\u001b[38;5;214mdisable this plugin, set `disable_plugins` to `\u001b[0m\u001b[1;38;5;214m[\u001b[0m\u001b[38;5;214m'reflex.plugins.sitemap.SitemapPlugin'\u001b[0m\u001b[1;38;5;214m]\u001b[0m\u001b[38;5;214m`.\u001b[0m\n"
      ]
     },
     "metadata": {},
     "output_type": "display_data"
    },
    {
     "data": {
      "text/html": [
       "<pre style=\"white-space:pre;overflow-x:auto;line-height:normal;font-family:Menlo,'DejaVu Sans Mono',consolas,'Courier New',monospace\"><span style=\"color: #ffaf00; text-decoration-color: #ffaf00\">Warning: `reflex.plugins.sitemap.SitemapPlugin` plugin is enabled by default, but not explicitly added to the </span>\n",
       "<span style=\"color: #ffaf00; text-decoration-color: #ffaf00\">config. If you want to use it, please add it to the `plugins` list in your config inside of `rxconfig.py`. To </span>\n",
       "<span style=\"color: #ffaf00; text-decoration-color: #ffaf00\">disable this plugin, set `disable_plugins` to `</span><span style=\"color: #ffaf00; text-decoration-color: #ffaf00; font-weight: bold\">[</span><span style=\"color: #ffaf00; text-decoration-color: #ffaf00\">'reflex.plugins.sitemap.SitemapPlugin'</span><span style=\"color: #ffaf00; text-decoration-color: #ffaf00; font-weight: bold\">]</span><span style=\"color: #ffaf00; text-decoration-color: #ffaf00\">`.</span>\n",
       "</pre>\n"
      ],
      "text/plain": [
       "\u001b[38;5;214mWarning: `reflex.plugins.sitemap.SitemapPlugin` plugin is enabled by default, but not explicitly added to the \u001b[0m\n",
       "\u001b[38;5;214mconfig. If you want to use it, please add it to the `plugins` list in your config inside of `rxconfig.py`. To \u001b[0m\n",
       "\u001b[38;5;214mdisable this plugin, set `disable_plugins` to `\u001b[0m\u001b[1;38;5;214m[\u001b[0m\u001b[38;5;214m'reflex.plugins.sitemap.SitemapPlugin'\u001b[0m\u001b[1;38;5;214m]\u001b[0m\u001b[38;5;214m`.\u001b[0m\n"
      ]
     },
     "metadata": {},
     "output_type": "display_data"
    },
    {
     "data": {
      "text/html": [
       "<pre style=\"white-space:pre;overflow-x:auto;line-height:normal;font-family:Menlo,'DejaVu Sans Mono',consolas,'Courier New',monospace\"><span style=\"color: #ffaf00; text-decoration-color: #ffaf00\">Warning: `reflex.plugins.sitemap.SitemapPlugin` plugin is enabled by default, but not explicitly added to the </span>\n",
       "<span style=\"color: #ffaf00; text-decoration-color: #ffaf00\">config. If you want to use it, please add it to the `plugins` list in your config inside of `rxconfig.py`. To </span>\n",
       "<span style=\"color: #ffaf00; text-decoration-color: #ffaf00\">disable this plugin, set `disable_plugins` to `</span><span style=\"color: #ffaf00; text-decoration-color: #ffaf00; font-weight: bold\">[</span><span style=\"color: #ffaf00; text-decoration-color: #ffaf00\">'reflex.plugins.sitemap.SitemapPlugin'</span><span style=\"color: #ffaf00; text-decoration-color: #ffaf00; font-weight: bold\">]</span><span style=\"color: #ffaf00; text-decoration-color: #ffaf00\">`.</span>\n",
       "</pre>\n"
      ],
      "text/plain": [
       "\u001b[38;5;214mWarning: `reflex.plugins.sitemap.SitemapPlugin` plugin is enabled by default, but not explicitly added to the \u001b[0m\n",
       "\u001b[38;5;214mconfig. If you want to use it, please add it to the `plugins` list in your config inside of `rxconfig.py`. To \u001b[0m\n",
       "\u001b[38;5;214mdisable this plugin, set `disable_plugins` to `\u001b[0m\u001b[1;38;5;214m[\u001b[0m\u001b[38;5;214m'reflex.plugins.sitemap.SitemapPlugin'\u001b[0m\u001b[1;38;5;214m]\u001b[0m\u001b[38;5;214m`.\u001b[0m\n"
      ]
     },
     "metadata": {},
     "output_type": "display_data"
    },
    {
     "data": {
      "application/vnd.microsoft.datawrangler.viewer.v0+json": {
       "columns": [
        {
         "name": "index",
         "rawType": "int64",
         "type": "integer"
        },
        {
         "name": "symbol",
         "rawType": "object",
         "type": "string"
        },
        {
         "name": "holding_name",
         "rawType": "object",
         "type": "string"
        },
        {
         "name": "sector",
         "rawType": "object",
         "type": "string"
        },
        {
         "name": "asset_class",
         "rawType": "object",
         "type": "string"
        },
        {
         "name": "market_value",
         "rawType": "float64",
         "type": "float"
        },
        {
         "name": "weight",
         "rawType": "float64",
         "type": "float"
        },
        {
         "name": "shares",
         "rawType": "float64",
         "type": "float"
        },
        {
         "name": "price",
         "rawType": "float64",
         "type": "float"
        },
        {
         "name": "country",
         "rawType": "object",
         "type": "string"
        },
        {
         "name": "exchange",
         "rawType": "object",
         "type": "string"
        },
        {
         "name": "market_currency",
         "rawType": "object",
         "type": "string"
        },
        {
         "name": "ticker",
         "rawType": "object",
         "type": "string"
        }
       ],
       "ref": "32bfd338-206d-4804-bc0c-c8845b72da88",
       "rows": [
        [
         "0",
         "ASML",
         "ASML HOLDING NV",
         "Information Technology",
         "Equity",
         null,
         "2.17",
         null,
         "633.9",
         "Netherlands",
         "Euronext Amsterdam",
         "EUR",
         "EXSA"
        ],
        [
         "1",
         "SAP",
         "SAP",
         "Information Technology",
         "Equity",
         null,
         "2.06",
         null,
         "232.0",
         "Germany",
         "Xetra",
         "EUR",
         "EXSA"
        ],
        [
         "2",
         "AZN",
         "ASTRAZENECA PLC",
         "Health Care",
         "Equity",
         null,
         "1.73",
         null,
         "128.25",
         "United Kingdom",
         "London Stock Exchange",
         "GBP",
         "EXSA"
        ],
        [
         "3",
         "NOVN",
         "NOVARTIS AG",
         "Health Care",
         "Equity",
         null,
         "1.73",
         null,
         "102.0",
         "Switzerland",
         "SIX Swiss Exchange",
         "CHF",
         "EXSA"
        ],
        [
         "4",
         "NESN",
         "NESTLE SA",
         "Consumer Staples",
         "Equity",
         null,
         "1.7",
         null,
         "75.99",
         "Switzerland",
         "SIX Swiss Exchange",
         "CHF",
         "EXSA"
        ],
        [
         "5",
         "HSBA",
         "HSBC HOLDINGS PLC",
         "Financials",
         "Equity",
         null,
         "1.69",
         null,
         "11.04",
         "United Kingdom",
         "London Stock Exchange",
         "GBP",
         "EXSA"
        ],
        [
         "6",
         "SHELL",
         "SHELL PLC",
         "Energy",
         "Equity",
         null,
         "1.62",
         null,
         "31.14",
         "United Kingdom",
         "Euronext Amsterdam",
         "EUR",
         "EXSA"
        ],
        [
         "7",
         "ROG",
         "ROCHE HOLDING PAR AG",
         "Health Care",
         "Equity",
         null,
         "1.6",
         null,
         "261.17",
         "Switzerland",
         "SIX Swiss Exchange",
         "CHF",
         "EXSA"
        ],
        [
         "8",
         "SIE",
         "SIEMENS N AG",
         "Industrials",
         "Equity",
         null,
         "1.51",
         null,
         "231.1",
         "Germany",
         "Xetra",
         "EUR",
         "EXSA"
        ],
        [
         "9",
         "ALV",
         "ALLIANZ",
         "Financials",
         "Equity",
         null,
         "1.22",
         null,
         "363.8",
         "Germany",
         "Xetra",
         "EUR",
         "EXSA"
        ],
        [
         "10",
         "NOVO B",
         "NOVO NORDISK CLASS B",
         "Health Care",
         "Equity",
         null,
         "1.2",
         null,
         "42.95",
         "Denmark",
         "Omx Nordic Exchange Copenhagen A/S",
         "DKK",
         "EXSA"
        ],
        [
         "11",
         "ULVR",
         "UNILEVER PLC",
         "Consumer Staples",
         "Equity",
         null,
         "1.15",
         null,
         "51.94",
         "United Kingdom",
         "London Stock Exchange",
         "GBP",
         "EXSA"
        ],
        [
         "12",
         "SU",
         "SCHNEIDER ELECTRIC",
         "Industrials",
         "Equity",
         null,
         "1.11",
         null,
         "222.2",
         "France",
         "Nyse Euronext - Euronext Paris",
         "EUR",
         "EXSA"
        ],
        [
         "13",
         "SAN",
         "BANCO SANTANDER SA",
         "Financials",
         "Equity",
         null,
         "1.05",
         null,
         "8.02",
         "Spain",
         "Bolsa De Madrid",
         "EUR",
         "EXSA"
        ],
        [
         "15",
         "MC",
         "LVMH",
         "Consumer Discretionary",
         "Equity",
         null,
         "1.01",
         null,
         "457.15",
         "France",
         "Nyse Euronext - Euronext Paris",
         "EUR",
         "EXSA"
        ],
        [
         "16",
         "UBSG",
         "UBS GROUP AG",
         "Financials",
         "Equity",
         null,
         "0.98",
         null,
         "33.77",
         "Switzerland",
         "SIX Swiss Exchange",
         "CHF",
         "EXSA"
        ],
        [
         "17",
         "DTE",
         "DEUTSCHE TELEKOM N AG",
         "Communication",
         "Equity",
         null,
         "0.95",
         null,
         "30.32",
         "Germany",
         "Xetra",
         "EUR",
         "EXSA"
        ],
        [
         "18",
         "BATS",
         "BRITISH AMERICAN TOBACCO",
         "Consumer Staples",
         "Equity",
         null,
         "0.95",
         null,
         "49.61",
         "United Kingdom",
         "London Stock Exchange",
         "GBP",
         "EXSA"
        ],
        [
         "19",
         "SAF",
         "SAFRAN SA",
         "Industrials",
         "Equity",
         null,
         "0.95",
         null,
         "290.6",
         "France",
         "Nyse Euronext - Euronext Paris",
         "EUR",
         "EXSA"
        ],
        [
         "20",
         "RR.",
         "ROLLS-ROYCE HOLDINGS PLC",
         "Industrials",
         "Equity",
         null,
         "0.93",
         null,
         "12.62",
         "United Kingdom",
         "London Stock Exchange",
         "GBP",
         "EXSA"
        ],
        [
         "21",
         "UCG",
         "UNICREDIT",
         "Financials",
         "Equity",
         null,
         "0.93",
         null,
         "68.41",
         "Italy",
         "Borsa Italiana",
         "EUR",
         "EXSA"
        ],
        [
         "22",
         "AIR",
         "AIRBUS GROUP",
         "Industrials",
         "Equity",
         null,
         "0.93",
         null,
         "180.86",
         "France",
         "Nyse Euronext - Euronext Paris",
         "EUR",
         "EXSA"
        ],
        [
         "23",
         "AI",
         "LAIR LIQUIDE SOCIETE ANONYME POUR",
         "Materials",
         "Equity",
         null,
         "0.87",
         null,
         "173.68",
         "France",
         "Nyse Euronext - Euronext Paris",
         "EUR",
         "EXSA"
        ],
        [
         "24",
         "IBE",
         "IBERDROLA SA",
         "Utilities",
         "Equity",
         null,
         "0.81",
         null,
         "15.62",
         "Spain",
         "Bolsa De Madrid",
         "EUR",
         "EXSA"
        ],
        [
         "25",
         "SAN",
         "SANOFI SA",
         "Health Care",
         "Equity",
         null,
         "0.81",
         null,
         "81.65",
         "France",
         "Nyse Euronext - Euronext Paris",
         "EUR",
         "EXSA"
        ],
        [
         "26",
         "OR",
         "LOREAL SA",
         "Consumer Staples",
         "Equity",
         null,
         "0.79",
         null,
         "379.35",
         "France",
         "Nyse Euronext - Euronext Paris",
         "EUR",
         "EXSA"
        ],
        [
         "27",
         "BBVA",
         "BANCO BILBAO VIZCAYA ARGENTARIA SA",
         "Financials",
         "Equity",
         null,
         "0.79",
         null,
         "15.76",
         "Spain",
         "Bolsa De Madrid",
         "EUR",
         "EXSA"
        ],
        [
         "28",
         "ABBN",
         "ABB LTD",
         "Industrials",
         "Equity",
         null,
         "0.79",
         null,
         "57.36",
         "Switzerland",
         "SIX Swiss Exchange",
         "CHF",
         "EXSA"
        ],
        [
         "29",
         "ZURN",
         "ZURICH INSURANCE GROUP AG",
         "Financials",
         "Equity",
         null,
         "0.77",
         null,
         "607.97",
         "Switzerland",
         "SIX Swiss Exchange",
         "CHF",
         "EXSA"
        ],
        [
         "30",
         "BNP",
         "BNP PARIBAS SA",
         "Financials",
         "Equity",
         null,
         "0.76",
         null,
         "81.75",
         "France",
         "Nyse Euronext - Euronext Paris",
         "EUR",
         "EXSA"
        ],
        [
         "31",
         "BP.",
         "BP PLC",
         "Energy",
         "Equity",
         null,
         "0.7",
         null,
         "4.91",
         "United Kingdom",
         "London Stock Exchange",
         "GBP",
         "EXSA"
        ],
        [
         "32",
         "CS",
         "AXA SA",
         "Financials",
         "Equity",
         null,
         "0.68",
         null,
         "42.12",
         "France",
         "Nyse Euronext - Euronext Paris",
         "EUR",
         "EXSA"
        ],
        [
         "33",
         "EL",
         "ESSILORLUXOTTICA SA",
         "Health Care",
         "Equity",
         null,
         "0.68",
         null,
         "253.8",
         "France",
         "Nyse Euronext - Euronext Paris",
         "EUR",
         "EXSA"
        ],
        [
         "34",
         "ISP",
         "INTESA SANPAOLO",
         "Financials",
         "Equity",
         null,
         "0.68",
         null,
         "5.34",
         "Italy",
         "Borsa Italiana",
         "EUR",
         "EXSA"
        ],
        [
         "35",
         "REL",
         "RELX PLC",
         "Industrials",
         "Equity",
         null,
         "0.67",
         null,
         "40.88",
         "United Kingdom",
         "London Stock Exchange",
         "GBP",
         "EXSA"
        ],
        [
         "36",
         "CFR",
         "COMPAGNIE FINANCIERE RICHEMONT SA",
         "Consumer Discretionary",
         "Equity",
         null,
         "0.64",
         null,
         "137.95",
         "Switzerland",
         "SIX Swiss Exchange",
         "CHF",
         "EXSA"
        ],
        [
         "37",
         "DG",
         "VINCI SA",
         "Industrials",
         "Equity",
         null,
         "0.63",
         null,
         "125.0",
         "France",
         "Nyse Euronext - Euronext Paris",
         "EUR",
         "EXSA"
        ],
        [
         "38",
         "MUV2",
         "MUENCHENER RUECKVERSICHERUNGS-GESE",
         "Financials",
         "Equity",
         null,
         "0.63",
         null,
         "552.2",
         "Germany",
         "Xetra",
         "EUR",
         "EXSA"
        ],
        [
         "39",
         "RMS",
         "HERMES INTERNATIONAL",
         "Consumer Discretionary",
         "Equity",
         null,
         "0.62",
         null,
         null,
         "France",
         "Nyse Euronext - Euronext Paris",
         "EUR",
         "EXSA"
        ],
        [
         "40",
         "RHM",
         "RHEINMETALL AG",
         "Industrials",
         "Equity",
         null,
         "0.62",
         null,
         null,
         "Germany",
         "Xetra",
         "EUR",
         "EXSA"
        ],
        [
         "41",
         "ENR",
         "SIEMENS ENERGY N AG",
         "Industrials",
         "Equity",
         null,
         "0.61",
         null,
         "103.7",
         "Germany",
         "Xetra",
         "EUR",
         "EXSA"
        ],
        [
         "42",
         "GSK",
         "GLAXOSMITHKLINE",
         "Health Care",
         "Equity",
         null,
         "0.61",
         null,
         "16.25",
         "United Kingdom",
         "London Stock Exchange",
         "GBP",
         "EXSA"
        ],
        [
         "43",
         "INGA",
         "ING GROEP NV",
         "Financials",
         "Equity",
         null,
         "0.57",
         null,
         "20.89",
         "Netherlands",
         "Euronext Amsterdam",
         "EUR",
         "EXSA"
        ],
        [
         "44",
         "PRX",
         "PROSUS NV CLASS N",
         "Consumer Discretionary",
         "Equity",
         null,
         "0.56",
         null,
         "50.75",
         "Netherlands",
         "Euronext Amsterdam",
         "EUR",
         "EXSA"
        ],
        [
         "45",
         "BARC",
         "BARCLAYS PLC",
         "Financials",
         "Equity",
         null,
         "0.54",
         null,
         "4.33",
         "United Kingdom",
         "London Stock Exchange",
         "GBP",
         "EXSA"
        ],
        [
         "46",
         "ENEL",
         "ENEL",
         "Utilities",
         "Equity",
         null,
         "0.53",
         null,
         "7.84",
         "Italy",
         "Borsa Italiana",
         "EUR",
         "EXSA"
        ],
        [
         "47",
         "NG.",
         "NATIONAL GRID PLC",
         "Utilities",
         "Equity",
         null,
         "0.53",
         null,
         "11.96",
         "United Kingdom",
         "London Stock Exchange",
         "GBP",
         "EXSA"
        ],
        [
         "48",
         "BA.",
         "BAE SYSTEMS PLC",
         "Industrials",
         "Equity",
         null,
         "0.52",
         null,
         "19.99",
         "United Kingdom",
         "London Stock Exchange",
         "GBP",
         "EXSA"
        ],
        [
         "49",
         "DBK",
         "DEUTSCHE BANK AG",
         "Financials",
         "Equity",
         null,
         "0.52",
         null,
         "31.0",
         "Germany",
         "Xetra",
         "EUR",
         "EXSA"
        ],
        [
         "50",
         "RIO",
         "RIO TINTO PLC",
         "Materials",
         "Equity",
         null,
         "0.5",
         null,
         "53.83",
         "United Kingdom",
         "London Stock Exchange",
         "GBP",
         "EXSA"
        ]
       ],
       "shape": {
        "columns": 12,
        "rows": 611
       }
      },
      "text/html": [
       "<div>\n",
       "<style scoped>\n",
       "    .dataframe tbody tr th:only-of-type {\n",
       "        vertical-align: middle;\n",
       "    }\n",
       "\n",
       "    .dataframe tbody tr th {\n",
       "        vertical-align: top;\n",
       "    }\n",
       "\n",
       "    .dataframe thead th {\n",
       "        text-align: right;\n",
       "    }\n",
       "</style>\n",
       "<table border=\"1\" class=\"dataframe\">\n",
       "  <thead>\n",
       "    <tr style=\"text-align: right;\">\n",
       "      <th></th>\n",
       "      <th>symbol</th>\n",
       "      <th>holding_name</th>\n",
       "      <th>sector</th>\n",
       "      <th>asset_class</th>\n",
       "      <th>market_value</th>\n",
       "      <th>weight</th>\n",
       "      <th>shares</th>\n",
       "      <th>price</th>\n",
       "      <th>country</th>\n",
       "      <th>exchange</th>\n",
       "      <th>market_currency</th>\n",
       "      <th>ticker</th>\n",
       "    </tr>\n",
       "  </thead>\n",
       "  <tbody>\n",
       "    <tr>\n",
       "      <th>0</th>\n",
       "      <td>ASML</td>\n",
       "      <td>ASML HOLDING NV</td>\n",
       "      <td>Information Technology</td>\n",
       "      <td>Equity</td>\n",
       "      <td>NaN</td>\n",
       "      <td>2.17</td>\n",
       "      <td>NaN</td>\n",
       "      <td>633.90</td>\n",
       "      <td>Netherlands</td>\n",
       "      <td>Euronext Amsterdam</td>\n",
       "      <td>EUR</td>\n",
       "      <td>EXSA</td>\n",
       "    </tr>\n",
       "    <tr>\n",
       "      <th>1</th>\n",
       "      <td>SAP</td>\n",
       "      <td>SAP</td>\n",
       "      <td>Information Technology</td>\n",
       "      <td>Equity</td>\n",
       "      <td>NaN</td>\n",
       "      <td>2.06</td>\n",
       "      <td>NaN</td>\n",
       "      <td>232.00</td>\n",
       "      <td>Germany</td>\n",
       "      <td>Xetra</td>\n",
       "      <td>EUR</td>\n",
       "      <td>EXSA</td>\n",
       "    </tr>\n",
       "    <tr>\n",
       "      <th>2</th>\n",
       "      <td>AZN</td>\n",
       "      <td>ASTRAZENECA PLC</td>\n",
       "      <td>Health Care</td>\n",
       "      <td>Equity</td>\n",
       "      <td>NaN</td>\n",
       "      <td>1.73</td>\n",
       "      <td>NaN</td>\n",
       "      <td>128.25</td>\n",
       "      <td>United Kingdom</td>\n",
       "      <td>London Stock Exchange</td>\n",
       "      <td>GBP</td>\n",
       "      <td>EXSA</td>\n",
       "    </tr>\n",
       "    <tr>\n",
       "      <th>3</th>\n",
       "      <td>NOVN</td>\n",
       "      <td>NOVARTIS AG</td>\n",
       "      <td>Health Care</td>\n",
       "      <td>Equity</td>\n",
       "      <td>NaN</td>\n",
       "      <td>1.73</td>\n",
       "      <td>NaN</td>\n",
       "      <td>102.00</td>\n",
       "      <td>Switzerland</td>\n",
       "      <td>SIX Swiss Exchange</td>\n",
       "      <td>CHF</td>\n",
       "      <td>EXSA</td>\n",
       "    </tr>\n",
       "    <tr>\n",
       "      <th>4</th>\n",
       "      <td>NESN</td>\n",
       "      <td>NESTLE SA</td>\n",
       "      <td>Consumer Staples</td>\n",
       "      <td>Equity</td>\n",
       "      <td>NaN</td>\n",
       "      <td>1.70</td>\n",
       "      <td>NaN</td>\n",
       "      <td>75.99</td>\n",
       "      <td>Switzerland</td>\n",
       "      <td>SIX Swiss Exchange</td>\n",
       "      <td>CHF</td>\n",
       "      <td>EXSA</td>\n",
       "    </tr>\n",
       "    <tr>\n",
       "      <th>...</th>\n",
       "      <td>...</td>\n",
       "      <td>...</td>\n",
       "      <td>...</td>\n",
       "      <td>...</td>\n",
       "      <td>...</td>\n",
       "      <td>...</td>\n",
       "      <td>...</td>\n",
       "      <td>...</td>\n",
       "      <td>...</td>\n",
       "      <td>...</td>\n",
       "      <td>...</td>\n",
       "      <td>...</td>\n",
       "    </tr>\n",
       "    <tr>\n",
       "      <th>607</th>\n",
       "      <td>CHF</td>\n",
       "      <td>CHF CASH</td>\n",
       "      <td>Cash and/or Derivatives</td>\n",
       "      <td>Cash</td>\n",
       "      <td>NaN</td>\n",
       "      <td>0.00</td>\n",
       "      <td>NaN</td>\n",
       "      <td>105.99</td>\n",
       "      <td>Switzerland</td>\n",
       "      <td>-</td>\n",
       "      <td>CHF</td>\n",
       "      <td>EXSA</td>\n",
       "    </tr>\n",
       "    <tr>\n",
       "      <th>608</th>\n",
       "      <td>SEK</td>\n",
       "      <td>SEK CASH</td>\n",
       "      <td>Cash and/or Derivatives</td>\n",
       "      <td>Cash</td>\n",
       "      <td>NaN</td>\n",
       "      <td>0.00</td>\n",
       "      <td>NaN</td>\n",
       "      <td>8.96</td>\n",
       "      <td>Sweden</td>\n",
       "      <td>-</td>\n",
       "      <td>SEK</td>\n",
       "      <td>EXSA</td>\n",
       "    </tr>\n",
       "    <tr>\n",
       "      <th>609</th>\n",
       "      <td>MARGIN_EUR</td>\n",
       "      <td>FUTURES EUR MARGIN BALANCE</td>\n",
       "      <td>Cash and/or Derivatives</td>\n",
       "      <td>Cash Collateral and Margins</td>\n",
       "      <td>0.00</td>\n",
       "      <td>0.00</td>\n",
       "      <td>0.0</td>\n",
       "      <td>100.00</td>\n",
       "      <td>European Union</td>\n",
       "      <td>-</td>\n",
       "      <td>EUR</td>\n",
       "      <td>EXSA</td>\n",
       "    </tr>\n",
       "    <tr>\n",
       "      <th>610</th>\n",
       "      <td>2587224D</td>\n",
       "      <td>TELECOM ITALIA SPA</td>\n",
       "      <td>Communication</td>\n",
       "      <td>Equity</td>\n",
       "      <td>115.76</td>\n",
       "      <td>0.00</td>\n",
       "      <td>NaN</td>\n",
       "      <td>0.00</td>\n",
       "      <td>Italy</td>\n",
       "      <td>Borsa Italiana</td>\n",
       "      <td>EUR</td>\n",
       "      <td>EXSA</td>\n",
       "    </tr>\n",
       "    <tr>\n",
       "      <th>611</th>\n",
       "      <td>SXOU5</td>\n",
       "      <td>STOXX EUROPE 600 SEP 25</td>\n",
       "      <td>Cash and/or Derivatives</td>\n",
       "      <td>Futures</td>\n",
       "      <td>0.00</td>\n",
       "      <td>0.00</td>\n",
       "      <td>NaN</td>\n",
       "      <td>548.50</td>\n",
       "      <td>European Union</td>\n",
       "      <td>Eurex Deutschland</td>\n",
       "      <td>EUR</td>\n",
       "      <td>EXSA</td>\n",
       "    </tr>\n",
       "  </tbody>\n",
       "</table>\n",
       "<p>611 rows × 12 columns</p>\n",
       "</div>"
      ],
      "text/plain": [
       "         symbol                holding_name                   sector  \\\n",
       "0          ASML             ASML HOLDING NV   Information Technology   \n",
       "1           SAP                         SAP   Information Technology   \n",
       "2           AZN             ASTRAZENECA PLC              Health Care   \n",
       "3          NOVN                 NOVARTIS AG              Health Care   \n",
       "4          NESN                   NESTLE SA         Consumer Staples   \n",
       "..          ...                         ...                      ...   \n",
       "607         CHF                    CHF CASH  Cash and/or Derivatives   \n",
       "608         SEK                    SEK CASH  Cash and/or Derivatives   \n",
       "609  MARGIN_EUR  FUTURES EUR MARGIN BALANCE  Cash and/or Derivatives   \n",
       "610    2587224D          TELECOM ITALIA SPA            Communication   \n",
       "611       SXOU5     STOXX EUROPE 600 SEP 25  Cash and/or Derivatives   \n",
       "\n",
       "                     asset_class  market_value  weight  shares   price  \\\n",
       "0                         Equity           NaN    2.17     NaN  633.90   \n",
       "1                         Equity           NaN    2.06     NaN  232.00   \n",
       "2                         Equity           NaN    1.73     NaN  128.25   \n",
       "3                         Equity           NaN    1.73     NaN  102.00   \n",
       "4                         Equity           NaN    1.70     NaN   75.99   \n",
       "..                           ...           ...     ...     ...     ...   \n",
       "607                         Cash           NaN    0.00     NaN  105.99   \n",
       "608                         Cash           NaN    0.00     NaN    8.96   \n",
       "609  Cash Collateral and Margins          0.00    0.00     0.0  100.00   \n",
       "610                       Equity        115.76    0.00     NaN    0.00   \n",
       "611                      Futures          0.00    0.00     NaN  548.50   \n",
       "\n",
       "            country               exchange market_currency ticker  \n",
       "0       Netherlands     Euronext Amsterdam             EUR   EXSA  \n",
       "1           Germany                  Xetra             EUR   EXSA  \n",
       "2    United Kingdom  London Stock Exchange             GBP   EXSA  \n",
       "3       Switzerland     SIX Swiss Exchange             CHF   EXSA  \n",
       "4       Switzerland     SIX Swiss Exchange             CHF   EXSA  \n",
       "..              ...                    ...             ...    ...  \n",
       "607     Switzerland                      -             CHF   EXSA  \n",
       "608          Sweden                      -             SEK   EXSA  \n",
       "609  European Union                      -             EUR   EXSA  \n",
       "610           Italy         Borsa Italiana             EUR   EXSA  \n",
       "611  European Union      Eurex Deutschland             EUR   EXSA  \n",
       "\n",
       "[611 rows x 12 columns]"
      ]
     },
     "execution_count": 5,
     "metadata": {},
     "output_type": "execute_result"
    }
   ],
   "source": [
    "from app.models.blackrock import create_blackrock_holdings_provider\n",
    "\n",
    "provider = create_blackrock_holdings_provider()\n",
    "# provider.get_data_sync(\"CSNDX\").data # Nasdaq 100\n",
    "# provider.get_data_sync(\"CSPX\").data  # S&P 500\n",
    "provider.get_data_sync(\"EXSA\").data    # STOXX 600 \n",
    "# provider.get_data_sync(\"IWLE\").data  # MSCI World"
   ]
  },
  {
   "cell_type": "markdown",
   "id": "e76724c0",
   "metadata": {},
   "source": [
    "## Tipranks Providers"
   ]
  },
  {
   "cell_type": "markdown",
   "id": "613f9cd6",
   "metadata": {},
   "source": [
    "### TipranksDataProviders"
   ]
  },
  {
   "cell_type": "code",
   "execution_count": 6,
   "id": "c3f834ba",
   "metadata": {},
   "outputs": [
    {
     "name": "stdout",
     "output_type": "stream",
     "text": [
      "{'analyst_count': 9948,\n",
      " 'buy_count': 34,\n",
      " 'company_name': 'Microsoft',\n",
      " 'consensus_rating': 5,\n",
      " 'hold_count': 1,\n",
      " 'market_cap': 3933928967938,\n",
      " 'price_target': 622.54,\n",
      " 'price_target_high': 675.0,\n",
      " 'price_target_low': 550.0,\n",
      " 'sell_count': 0,\n",
      " 'smart_score': 7,\n",
      " 'ticker': 'MSFT'}\n"
     ]
    }
   ],
   "source": [
    "from app.models.tipranks import create_tipranks_data_provider\n",
    "\n",
    "provider = create_tipranks_data_provider()\n",
    "pprint(provider.get_data_sync(ticker).data.model_dump())"
   ]
  },
  {
   "cell_type": "code",
   "execution_count": 11,
   "id": "facc5237",
   "metadata": {},
   "outputs": [
    {
     "name": "stdout",
     "output_type": "stream",
     "text": [
      "{'articles_last_week': 84,\n",
      " 'bearish_percent': 0.0,\n",
      " 'bullish_percent': 1.0,\n",
      " 'buzz_score': 0.6351,\n",
      " 'company_name': 'Microsoft',\n",
      " 'sector_avg_bullish_percent': 0.5872,\n",
      " 'sentiment_score': 0.7352,\n",
      " 'ticker': 'MSFT',\n",
      " 'weekly_average': 132.25,\n",
      " 'word_cloud_count': 6}\n"
     ]
    }
   ],
   "source": [
    "from app.models.tipranks import create_tipranks_news_sentiment_provider\n",
    "\n",
    "provider = create_tipranks_news_sentiment_provider()\n",
    "pprint(provider.get_data_sync(ticker).data.model_dump())"
   ]
  },
  {
   "cell_type": "markdown",
   "id": "e982b92d",
   "metadata": {},
   "source": [
    "## Yahoo Providers"
   ]
  },
  {
   "cell_type": "markdown",
   "id": "c4d002fe",
   "metadata": {},
   "source": [
    "### YahooHistoryProvider"
   ]
  },
  {
   "cell_type": "code",
   "execution_count": 8,
   "id": "147f32af",
   "metadata": {},
   "outputs": [
    {
     "data": {
      "application/vnd.microsoft.datawrangler.viewer.v0+json": {
       "columns": [
        {
         "name": "Date",
         "rawType": "datetime64[ns, America/New_York]",
         "type": "unknown"
        },
        {
         "name": "Open",
         "rawType": "float64",
         "type": "float"
        },
        {
         "name": "High",
         "rawType": "float64",
         "type": "float"
        },
        {
         "name": "Low",
         "rawType": "float64",
         "type": "float"
        },
        {
         "name": "Close",
         "rawType": "float64",
         "type": "float"
        },
        {
         "name": "Volume",
         "rawType": "int64",
         "type": "integer"
        },
        {
         "name": "Dividends",
         "rawType": "float64",
         "type": "float"
        },
        {
         "name": "Stock Splits",
         "rawType": "float64",
         "type": "float"
        }
       ],
       "ref": "e4cb934c-17db-4090-8c3f-da27952ca09c",
       "rows": [
        [
         "2024-08-13 00:00:00-04:00",
         "406.47",
         "411.79",
         "406.45",
         "410.86",
         "19414300",
         "0.0",
         "0.0"
        ],
        [
         "2024-08-14 00:00:00-04:00",
         "411.64",
         "414.54",
         "409.31",
         "413.69",
         "18267000",
         "0.0",
         "0.0"
        ],
        [
         "2024-08-15 00:00:00-04:00",
         "417.36",
         "418.66",
         "415.23",
         "418.58",
         "20752100",
         "0.75",
         "0.0"
        ],
        [
         "2024-08-16 00:00:00-04:00",
         "418.15",
         "418.89",
         "414.87",
         "416.03",
         "22775600",
         "0.0",
         "0.0"
        ],
        [
         "2024-08-19 00:00:00-04:00",
         "416.52",
         "419.3",
         "414.04",
         "419.08",
         "15234000",
         "0.0",
         "0.0"
        ],
        [
         "2024-08-20 00:00:00-04:00",
         "419.25",
         "423.38",
         "419.19",
         "422.33",
         "16387600",
         "0.0",
         "0.0"
        ],
        [
         "2024-08-21 00:00:00-04:00",
         "421.61",
         "423.92",
         "419.27",
         "421.67",
         "16067300",
         "0.0",
         "0.0"
        ],
        [
         "2024-08-22 00:00:00-04:00",
         "421.89",
         "424.31",
         "412.2",
         "413.13",
         "19361900",
         "0.0",
         "0.0"
        ],
        [
         "2024-08-23 00:00:00-04:00",
         "414.55",
         "416.82",
         "409.69",
         "414.36",
         "18493800",
         "0.0",
         "0.0"
        ],
        [
         "2024-08-26 00:00:00-04:00",
         "413.95",
         "414.85",
         "408.95",
         "411.08",
         "13152800",
         "0.0",
         "0.0"
        ],
        [
         "2024-08-27 00:00:00-04:00",
         "410.46",
         "411.95",
         "407.86",
         "411.43",
         "13492900",
         "0.0",
         "0.0"
        ],
        [
         "2024-08-28 00:00:00-04:00",
         "412.47",
         "412.58",
         "404.94",
         "408.21",
         "14882700",
         "0.0",
         "0.0"
        ],
        [
         "2024-08-29 00:00:00-04:00",
         "412.53",
         "419.59",
         "408.21",
         "410.72",
         "17045200",
         "0.0",
         "0.0"
        ],
        [
         "2024-08-30 00:00:00-04:00",
         "413.18",
         "415.06",
         "409.73",
         "414.71",
         "24308300",
         "0.0",
         "0.0"
        ],
        [
         "2024-09-03 00:00:00-04:00",
         "415.48",
         "417.44",
         "404.66",
         "407.06",
         "20313600",
         "0.0",
         "0.0"
        ],
        [
         "2024-09-04 00:00:00-04:00",
         "403.55",
         "408.85",
         "402.02",
         "406.52",
         "15135800",
         "0.0",
         "0.0"
        ],
        [
         "2024-09-05 00:00:00-04:00",
         "405.25",
         "410.7",
         "403.77",
         "406.01",
         "14195500",
         "0.0",
         "0.0"
        ],
        [
         "2024-09-06 00:00:00-04:00",
         "406.68",
         "408.26",
         "398.47",
         "399.36",
         "19609500",
         "0.0",
         "0.0"
        ],
        [
         "2024-09-09 00:00:00-04:00",
         "404.87",
         "406.27",
         "399.81",
         "403.36",
         "15295100",
         "0.0",
         "0.0"
        ],
        [
         "2024-09-10 00:00:00-04:00",
         "405.82",
         "413.91",
         "405.33",
         "411.79",
         "19594300",
         "0.0",
         "0.0"
        ],
        [
         "2024-09-11 00:00:00-04:00",
         "413.08",
         "421.52",
         "407.2",
         "420.58",
         "19266900",
         "0.0",
         "0.0"
        ],
        [
         "2024-09-12 00:00:00-04:00",
         "420.85",
         "424.88",
         "417.31",
         "424.51",
         "17395700",
         "0.0",
         "0.0"
        ],
        [
         "2024-09-13 00:00:00-04:00",
         "423.35",
         "429.32",
         "422.98",
         "428.08",
         "15874600",
         "0.0",
         "0.0"
        ],
        [
         "2024-09-16 00:00:00-04:00",
         "428.09",
         "431.01",
         "425.73",
         "428.83",
         "13834700",
         "0.0",
         "0.0"
        ],
        [
         "2024-09-17 00:00:00-04:00",
         "437.67",
         "439.28",
         "429.75",
         "432.62",
         "18874200",
         "0.0",
         "0.0"
        ],
        [
         "2024-09-18 00:00:00-04:00",
         "432.47",
         "433.49",
         "427.91",
         "428.3",
         "18898000",
         "0.0",
         "0.0"
        ],
        [
         "2024-09-19 00:00:00-04:00",
         "438.66",
         "438.93",
         "434.36",
         "436.14",
         "21706600",
         "0.0",
         "0.0"
        ],
        [
         "2024-09-20 00:00:00-04:00",
         "434.68",
         "436.68",
         "431.69",
         "432.74",
         "55167100",
         "0.0",
         "0.0"
        ],
        [
         "2024-09-23 00:00:00-04:00",
         "431.75",
         "433.92",
         "427.89",
         "430.99",
         "15128900",
         "0.0",
         "0.0"
        ],
        [
         "2024-09-24 00:00:00-04:00",
         "430.48",
         "430.83",
         "423.62",
         "426.67",
         "17015800",
         "0.0",
         "0.0"
        ],
        [
         "2024-09-25 00:00:00-04:00",
         "427.33",
         "430.6",
         "426.08",
         "429.6",
         "13396400",
         "0.0",
         "0.0"
        ],
        [
         "2024-09-26 00:00:00-04:00",
         "432.56",
         "432.77",
         "426.63",
         "428.8",
         "14492000",
         "0.0",
         "0.0"
        ],
        [
         "2024-09-27 00:00:00-04:00",
         "429.01",
         "429.34",
         "424.98",
         "425.53",
         "14896100",
         "0.0",
         "0.0"
        ],
        [
         "2024-09-30 00:00:00-04:00",
         "425.72",
         "427.92",
         "422.89",
         "427.8",
         "16807300",
         "0.0",
         "0.0"
        ],
        [
         "2024-10-01 00:00:00-04:00",
         "425.96",
         "425.99",
         "416.37",
         "418.24",
         "19092900",
         "0.0",
         "0.0"
        ],
        [
         "2024-10-02 00:00:00-04:00",
         "420.12",
         "420.36",
         "414.28",
         "414.7",
         "16582300",
         "0.0",
         "0.0"
        ],
        [
         "2024-10-03 00:00:00-04:00",
         "415.2",
         "417.11",
         "411.88",
         "414.12",
         "13686400",
         "0.0",
         "0.0"
        ],
        [
         "2024-10-04 00:00:00-04:00",
         "415.81",
         "417.31",
         "412.55",
         "413.64",
         "19169700",
         "0.0",
         "0.0"
        ],
        [
         "2024-10-07 00:00:00-04:00",
         "413.58",
         "414.68",
         "406.62",
         "407.16",
         "20919800",
         "0.0",
         "0.0"
        ],
        [
         "2024-10-08 00:00:00-04:00",
         "408.51",
         "413.24",
         "405.79",
         "412.3",
         "19229300",
         "0.0",
         "0.0"
        ],
        [
         "2024-10-09 00:00:00-04:00",
         "413.44",
         "417.93",
         "411.89",
         "415.03",
         "14974300",
         "0.0",
         "0.0"
        ],
        [
         "2024-10-10 00:00:00-04:00",
         "412.81",
         "414.92",
         "410.75",
         "413.42",
         "13848400",
         "0.0",
         "0.0"
        ],
        [
         "2024-10-11 00:00:00-04:00",
         "413.72",
         "414.7",
         "410.84",
         "413.9",
         "14144900",
         "0.0",
         "0.0"
        ],
        [
         "2024-10-14 00:00:00-04:00",
         "415.34",
         "421.57",
         "415.09",
         "416.7",
         "16653100",
         "0.0",
         "0.0"
        ],
        [
         "2024-10-15 00:00:00-04:00",
         "419.72",
         "420.02",
         "412.84",
         "416.3",
         "18900200",
         "0.0",
         "0.0"
        ],
        [
         "2024-10-16 00:00:00-04:00",
         "412.75",
         "413.94",
         "408.09",
         "413.7",
         "15508900",
         "0.0",
         "0.0"
        ],
        [
         "2024-10-17 00:00:00-04:00",
         "419.9",
         "420.04",
         "413.17",
         "414.29",
         "14820000",
         "0.0",
         "0.0"
        ],
        [
         "2024-10-18 00:00:00-04:00",
         "414.71",
         "417.21",
         "413.84",
         "415.73",
         "17145300",
         "0.0",
         "0.0"
        ],
        [
         "2024-10-21 00:00:00-04:00",
         "413.7",
         "416.52",
         "411.34",
         "416.34",
         "14206100",
         "0.0",
         "0.0"
        ],
        [
         "2024-10-22 00:00:00-04:00",
         "416.05",
         "428.07",
         "415.61",
         "425.02",
         "25482200",
         "0.0",
         "0.0"
        ]
       ],
       "shape": {
        "columns": 7,
        "rows": 251
       }
      },
      "text/html": [
       "<div>\n",
       "<style scoped>\n",
       "    .dataframe tbody tr th:only-of-type {\n",
       "        vertical-align: middle;\n",
       "    }\n",
       "\n",
       "    .dataframe tbody tr th {\n",
       "        vertical-align: top;\n",
       "    }\n",
       "\n",
       "    .dataframe thead th {\n",
       "        text-align: right;\n",
       "    }\n",
       "</style>\n",
       "<table border=\"1\" class=\"dataframe\">\n",
       "  <thead>\n",
       "    <tr style=\"text-align: right;\">\n",
       "      <th></th>\n",
       "      <th>Open</th>\n",
       "      <th>High</th>\n",
       "      <th>Low</th>\n",
       "      <th>Close</th>\n",
       "      <th>Volume</th>\n",
       "      <th>Dividends</th>\n",
       "      <th>Stock Splits</th>\n",
       "    </tr>\n",
       "    <tr>\n",
       "      <th>Date</th>\n",
       "      <th></th>\n",
       "      <th></th>\n",
       "      <th></th>\n",
       "      <th></th>\n",
       "      <th></th>\n",
       "      <th></th>\n",
       "      <th></th>\n",
       "    </tr>\n",
       "  </thead>\n",
       "  <tbody>\n",
       "    <tr>\n",
       "      <th>2024-08-13 00:00:00-04:00</th>\n",
       "      <td>406.47</td>\n",
       "      <td>411.79</td>\n",
       "      <td>406.45</td>\n",
       "      <td>410.86</td>\n",
       "      <td>19414300</td>\n",
       "      <td>0.00</td>\n",
       "      <td>0.0</td>\n",
       "    </tr>\n",
       "    <tr>\n",
       "      <th>2024-08-14 00:00:00-04:00</th>\n",
       "      <td>411.64</td>\n",
       "      <td>414.54</td>\n",
       "      <td>409.31</td>\n",
       "      <td>413.69</td>\n",
       "      <td>18267000</td>\n",
       "      <td>0.00</td>\n",
       "      <td>0.0</td>\n",
       "    </tr>\n",
       "    <tr>\n",
       "      <th>2024-08-15 00:00:00-04:00</th>\n",
       "      <td>417.36</td>\n",
       "      <td>418.66</td>\n",
       "      <td>415.23</td>\n",
       "      <td>418.58</td>\n",
       "      <td>20752100</td>\n",
       "      <td>0.75</td>\n",
       "      <td>0.0</td>\n",
       "    </tr>\n",
       "    <tr>\n",
       "      <th>2024-08-16 00:00:00-04:00</th>\n",
       "      <td>418.15</td>\n",
       "      <td>418.89</td>\n",
       "      <td>414.87</td>\n",
       "      <td>416.03</td>\n",
       "      <td>22775600</td>\n",
       "      <td>0.00</td>\n",
       "      <td>0.0</td>\n",
       "    </tr>\n",
       "    <tr>\n",
       "      <th>2024-08-19 00:00:00-04:00</th>\n",
       "      <td>416.52</td>\n",
       "      <td>419.30</td>\n",
       "      <td>414.04</td>\n",
       "      <td>419.08</td>\n",
       "      <td>15234000</td>\n",
       "      <td>0.00</td>\n",
       "      <td>0.0</td>\n",
       "    </tr>\n",
       "    <tr>\n",
       "      <th>...</th>\n",
       "      <td>...</td>\n",
       "      <td>...</td>\n",
       "      <td>...</td>\n",
       "      <td>...</td>\n",
       "      <td>...</td>\n",
       "      <td>...</td>\n",
       "      <td>...</td>\n",
       "    </tr>\n",
       "    <tr>\n",
       "      <th>2025-08-07 00:00:00-04:00</th>\n",
       "      <td>526.80</td>\n",
       "      <td>528.09</td>\n",
       "      <td>517.55</td>\n",
       "      <td>520.84</td>\n",
       "      <td>16079100</td>\n",
       "      <td>0.00</td>\n",
       "      <td>0.0</td>\n",
       "    </tr>\n",
       "    <tr>\n",
       "      <th>2025-08-08 00:00:00-04:00</th>\n",
       "      <td>522.60</td>\n",
       "      <td>524.66</td>\n",
       "      <td>519.41</td>\n",
       "      <td>522.04</td>\n",
       "      <td>15531000</td>\n",
       "      <td>0.00</td>\n",
       "      <td>0.0</td>\n",
       "    </tr>\n",
       "    <tr>\n",
       "      <th>2025-08-11 00:00:00-04:00</th>\n",
       "      <td>522.30</td>\n",
       "      <td>527.59</td>\n",
       "      <td>519.72</td>\n",
       "      <td>521.77</td>\n",
       "      <td>20194400</td>\n",
       "      <td>0.00</td>\n",
       "      <td>0.0</td>\n",
       "    </tr>\n",
       "    <tr>\n",
       "      <th>2025-08-12 00:00:00-04:00</th>\n",
       "      <td>523.75</td>\n",
       "      <td>530.98</td>\n",
       "      <td>522.70</td>\n",
       "      <td>529.24</td>\n",
       "      <td>18667000</td>\n",
       "      <td>0.00</td>\n",
       "      <td>0.0</td>\n",
       "    </tr>\n",
       "    <tr>\n",
       "      <th>2025-08-13 00:00:00-04:00</th>\n",
       "      <td>532.18</td>\n",
       "      <td>532.70</td>\n",
       "      <td>522.35</td>\n",
       "      <td>522.87</td>\n",
       "      <td>10945588</td>\n",
       "      <td>0.00</td>\n",
       "      <td>0.0</td>\n",
       "    </tr>\n",
       "  </tbody>\n",
       "</table>\n",
       "<p>251 rows × 7 columns</p>\n",
       "</div>"
      ],
      "text/plain": [
       "                             Open    High     Low   Close    Volume  \\\n",
       "Date                                                                  \n",
       "2024-08-13 00:00:00-04:00  406.47  411.79  406.45  410.86  19414300   \n",
       "2024-08-14 00:00:00-04:00  411.64  414.54  409.31  413.69  18267000   \n",
       "2024-08-15 00:00:00-04:00  417.36  418.66  415.23  418.58  20752100   \n",
       "2024-08-16 00:00:00-04:00  418.15  418.89  414.87  416.03  22775600   \n",
       "2024-08-19 00:00:00-04:00  416.52  419.30  414.04  419.08  15234000   \n",
       "...                           ...     ...     ...     ...       ...   \n",
       "2025-08-07 00:00:00-04:00  526.80  528.09  517.55  520.84  16079100   \n",
       "2025-08-08 00:00:00-04:00  522.60  524.66  519.41  522.04  15531000   \n",
       "2025-08-11 00:00:00-04:00  522.30  527.59  519.72  521.77  20194400   \n",
       "2025-08-12 00:00:00-04:00  523.75  530.98  522.70  529.24  18667000   \n",
       "2025-08-13 00:00:00-04:00  532.18  532.70  522.35  522.87  10945588   \n",
       "\n",
       "                           Dividends  Stock Splits  \n",
       "Date                                                \n",
       "2024-08-13 00:00:00-04:00       0.00           0.0  \n",
       "2024-08-14 00:00:00-04:00       0.00           0.0  \n",
       "2024-08-15 00:00:00-04:00       0.75           0.0  \n",
       "2024-08-16 00:00:00-04:00       0.00           0.0  \n",
       "2024-08-19 00:00:00-04:00       0.00           0.0  \n",
       "...                              ...           ...  \n",
       "2025-08-07 00:00:00-04:00       0.00           0.0  \n",
       "2025-08-08 00:00:00-04:00       0.00           0.0  \n",
       "2025-08-11 00:00:00-04:00       0.00           0.0  \n",
       "2025-08-12 00:00:00-04:00       0.00           0.0  \n",
       "2025-08-13 00:00:00-04:00       0.00           0.0  \n",
       "\n",
       "[251 rows x 7 columns]"
      ]
     },
     "execution_count": 8,
     "metadata": {},
     "output_type": "execute_result"
    }
   ],
   "source": [
    "from app.models.yahoo import YahooHistoryProvider\n",
    "\n",
    "provider = YahooHistoryProvider()\n",
    "provider.get_data_sync(ticker).data"
   ]
  },
  {
   "cell_type": "markdown",
   "id": "74dbcdf7",
   "metadata": {},
   "source": [
    "### YahooInfoProvider"
   ]
  },
  {
   "cell_type": "code",
   "execution_count": 9,
   "id": "333e31cd",
   "metadata": {},
   "outputs": [
    {
     "name": "stdout",
     "output_type": "stream",
     "text": [
      "{'beta': 1.055,\n",
      " 'change': -8.659973,\n",
      " 'company_name': 'Microsoft Corporation',\n",
      " 'currency': 'USD',\n",
      " 'dividend_yield': 0.63,\n",
      " 'exchange': 'NMS',\n",
      " 'industry': 'Software - Infrastructure',\n",
      " 'market_cap': 3869559750656,\n",
      " 'pe_ratio': 38.13773,\n",
      " 'percent_change': -1.6363035,\n",
      " 'price': 520.58,\n",
      " 'sector': 'Technology',\n",
      " 'ticker': 'MSFT',\n",
      " 'volume': 18966459,\n",
      " 'week_52_high': 555.45,\n",
      " 'week_52_low': 344.79}\n"
     ]
    }
   ],
   "source": [
    "from app.models.yahoo import YahooInfoProvider\n",
    "\n",
    "provider = YahooInfoProvider()\n",
    "pprint(provider.get_data_sync(ticker).data.model_dump())"
   ]
  },
  {
   "cell_type": "markdown",
   "id": "3c761378",
   "metadata": {},
   "source": [
    "## Zacks Providers"
   ]
  },
  {
   "cell_type": "markdown",
   "id": "02a344a6",
   "metadata": {},
   "source": [
    "### ZacksProvider"
   ]
  },
  {
   "cell_type": "code",
   "execution_count": 12,
   "id": "b3e56878",
   "metadata": {},
   "outputs": [
    {
     "name": "stderr",
     "output_type": "stream",
     "text": [
      "Error fetching MSFT (attempt 1): 16 validation errors for ZacksModel\n",
      "ticker\n",
      "  Field required [type=missing, input_value={'MSFT': {'source': {'sun...se_date': '08/13/2025'}}, input_type=dict]\n",
      "    For further information visit https://errors.pydantic.dev/2.11/v/missing\n",
      "price\n",
      "  Field required [type=missing, input_value={'MSFT': {'source': {'sun...se_date': '08/13/2025'}}, input_type=dict]\n",
      "    For further information visit https://errors.pydantic.dev/2.11/v/missing\n",
      "change\n",
      "  Field required [type=missing, input_value={'MSFT': {'source': {'sun...se_date': '08/13/2025'}}, input_type=dict]\n",
      "    For further information visit https://errors.pydantic.dev/2.11/v/missing\n",
      "percentChange\n",
      "  Field required [type=missing, input_value={'MSFT': {'source': {'sun...se_date': '08/13/2025'}}, input_type=dict]\n",
      "    For further information visit https://errors.pydantic.dev/2.11/v/missing\n",
      "volume\n",
      "  Field required [type=missing, input_value={'MSFT': {'source': {'sun...se_date': '08/13/2025'}}, input_type=dict]\n",
      "    For further information visit https://errors.pydantic.dev/2.11/v/missing\n",
      "high\n",
      "  Field required [type=missing, input_value={'MSFT': {'source': {'sun...se_date': '08/13/2025'}}, input_type=dict]\n",
      "    For further information visit https://errors.pydantic.dev/2.11/v/missing\n",
      "low\n",
      "  Field required [type=missing, input_value={'MSFT': {'source': {'sun...se_date': '08/13/2025'}}, input_type=dict]\n",
      "    For further information visit https://errors.pydantic.dev/2.11/v/missing\n",
      "open\n",
      "  Field required [type=missing, input_value={'MSFT': {'source': {'sun...se_date': '08/13/2025'}}, input_type=dict]\n",
      "    For further information visit https://errors.pydantic.dev/2.11/v/missing\n",
      "previousClose\n",
      "  Field required [type=missing, input_value={'MSFT': {'source': {'sun...se_date': '08/13/2025'}}, input_type=dict]\n",
      "    For further information visit https://errors.pydantic.dev/2.11/v/missing\n",
      "marketCap\n",
      "  Field required [type=missing, input_value={'MSFT': {'source': {'sun...se_date': '08/13/2025'}}, input_type=dict]\n",
      "    For further information visit https://errors.pydantic.dev/2.11/v/missing\n",
      "peRatio\n",
      "  Field required [type=missing, input_value={'MSFT': {'source': {'sun...se_date': '08/13/2025'}}, input_type=dict]\n",
      "    For further information visit https://errors.pydantic.dev/2.11/v/missing\n",
      "zacksRank\n",
      "  Field required [type=missing, input_value={'MSFT': {'source': {'sun...se_date': '08/13/2025'}}, input_type=dict]\n",
      "    For further information visit https://errors.pydantic.dev/2.11/v/missing\n",
      "valueScore\n",
      "  Field required [type=missing, input_value={'MSFT': {'source': {'sun...se_date': '08/13/2025'}}, input_type=dict]\n",
      "    For further information visit https://errors.pydantic.dev/2.11/v/missing\n",
      "growthScore\n",
      "  Field required [type=missing, input_value={'MSFT': {'source': {'sun...se_date': '08/13/2025'}}, input_type=dict]\n",
      "    For further information visit https://errors.pydantic.dev/2.11/v/missing\n",
      "momentumScore\n",
      "  Field required [type=missing, input_value={'MSFT': {'source': {'sun...se_date': '08/13/2025'}}, input_type=dict]\n",
      "    For further information visit https://errors.pydantic.dev/2.11/v/missing\n",
      "vgmScore\n",
      "  Field required [type=missing, input_value={'MSFT': {'source': {'sun...se_date': '08/13/2025'}}, input_type=dict]\n",
      "    For further information visit https://errors.pydantic.dev/2.11/v/missing\n",
      "Error fetching MSFT (attempt 2): 16 validation errors for ZacksModel\n",
      "ticker\n",
      "  Field required [type=missing, input_value={'MSFT': {'source': {'sun...se_date': '08/13/2025'}}, input_type=dict]\n",
      "    For further information visit https://errors.pydantic.dev/2.11/v/missing\n",
      "price\n",
      "  Field required [type=missing, input_value={'MSFT': {'source': {'sun...se_date': '08/13/2025'}}, input_type=dict]\n",
      "    For further information visit https://errors.pydantic.dev/2.11/v/missing\n",
      "change\n",
      "  Field required [type=missing, input_value={'MSFT': {'source': {'sun...se_date': '08/13/2025'}}, input_type=dict]\n",
      "    For further information visit https://errors.pydantic.dev/2.11/v/missing\n",
      "percentChange\n",
      "  Field required [type=missing, input_value={'MSFT': {'source': {'sun...se_date': '08/13/2025'}}, input_type=dict]\n",
      "    For further information visit https://errors.pydantic.dev/2.11/v/missing\n",
      "volume\n",
      "  Field required [type=missing, input_value={'MSFT': {'source': {'sun...se_date': '08/13/2025'}}, input_type=dict]\n",
      "    For further information visit https://errors.pydantic.dev/2.11/v/missing\n",
      "high\n",
      "  Field required [type=missing, input_value={'MSFT': {'source': {'sun...se_date': '08/13/2025'}}, input_type=dict]\n",
      "    For further information visit https://errors.pydantic.dev/2.11/v/missing\n",
      "low\n",
      "  Field required [type=missing, input_value={'MSFT': {'source': {'sun...se_date': '08/13/2025'}}, input_type=dict]\n",
      "    For further information visit https://errors.pydantic.dev/2.11/v/missing\n",
      "open\n",
      "  Field required [type=missing, input_value={'MSFT': {'source': {'sun...se_date': '08/13/2025'}}, input_type=dict]\n",
      "    For further information visit https://errors.pydantic.dev/2.11/v/missing\n",
      "previousClose\n",
      "  Field required [type=missing, input_value={'MSFT': {'source': {'sun...se_date': '08/13/2025'}}, input_type=dict]\n",
      "    For further information visit https://errors.pydantic.dev/2.11/v/missing\n",
      "marketCap\n",
      "  Field required [type=missing, input_value={'MSFT': {'source': {'sun...se_date': '08/13/2025'}}, input_type=dict]\n",
      "    For further information visit https://errors.pydantic.dev/2.11/v/missing\n",
      "peRatio\n",
      "  Field required [type=missing, input_value={'MSFT': {'source': {'sun...se_date': '08/13/2025'}}, input_type=dict]\n",
      "    For further information visit https://errors.pydantic.dev/2.11/v/missing\n",
      "zacksRank\n",
      "  Field required [type=missing, input_value={'MSFT': {'source': {'sun...se_date': '08/13/2025'}}, input_type=dict]\n",
      "    For further information visit https://errors.pydantic.dev/2.11/v/missing\n",
      "valueScore\n",
      "  Field required [type=missing, input_value={'MSFT': {'source': {'sun...se_date': '08/13/2025'}}, input_type=dict]\n",
      "    For further information visit https://errors.pydantic.dev/2.11/v/missing\n",
      "growthScore\n",
      "  Field required [type=missing, input_value={'MSFT': {'source': {'sun...se_date': '08/13/2025'}}, input_type=dict]\n",
      "    For further information visit https://errors.pydantic.dev/2.11/v/missing\n",
      "momentumScore\n",
      "  Field required [type=missing, input_value={'MSFT': {'source': {'sun...se_date': '08/13/2025'}}, input_type=dict]\n",
      "    For further information visit https://errors.pydantic.dev/2.11/v/missing\n",
      "vgmScore\n",
      "  Field required [type=missing, input_value={'MSFT': {'source': {'sun...se_date': '08/13/2025'}}, input_type=dict]\n",
      "    For further information visit https://errors.pydantic.dev/2.11/v/missing\n",
      "Error fetching MSFT (attempt 3): 16 validation errors for ZacksModel\n",
      "ticker\n",
      "  Field required [type=missing, input_value={'MSFT': {'source': {'sun...se_date': '08/13/2025'}}, input_type=dict]\n",
      "    For further information visit https://errors.pydantic.dev/2.11/v/missing\n",
      "price\n",
      "  Field required [type=missing, input_value={'MSFT': {'source': {'sun...se_date': '08/13/2025'}}, input_type=dict]\n",
      "    For further information visit https://errors.pydantic.dev/2.11/v/missing\n",
      "change\n",
      "  Field required [type=missing, input_value={'MSFT': {'source': {'sun...se_date': '08/13/2025'}}, input_type=dict]\n",
      "    For further information visit https://errors.pydantic.dev/2.11/v/missing\n",
      "percentChange\n",
      "  Field required [type=missing, input_value={'MSFT': {'source': {'sun...se_date': '08/13/2025'}}, input_type=dict]\n",
      "    For further information visit https://errors.pydantic.dev/2.11/v/missing\n",
      "volume\n",
      "  Field required [type=missing, input_value={'MSFT': {'source': {'sun...se_date': '08/13/2025'}}, input_type=dict]\n",
      "    For further information visit https://errors.pydantic.dev/2.11/v/missing\n",
      "high\n",
      "  Field required [type=missing, input_value={'MSFT': {'source': {'sun...se_date': '08/13/2025'}}, input_type=dict]\n",
      "    For further information visit https://errors.pydantic.dev/2.11/v/missing\n",
      "low\n",
      "  Field required [type=missing, input_value={'MSFT': {'source': {'sun...se_date': '08/13/2025'}}, input_type=dict]\n",
      "    For further information visit https://errors.pydantic.dev/2.11/v/missing\n",
      "open\n",
      "  Field required [type=missing, input_value={'MSFT': {'source': {'sun...se_date': '08/13/2025'}}, input_type=dict]\n",
      "    For further information visit https://errors.pydantic.dev/2.11/v/missing\n",
      "previousClose\n",
      "  Field required [type=missing, input_value={'MSFT': {'source': {'sun...se_date': '08/13/2025'}}, input_type=dict]\n",
      "    For further information visit https://errors.pydantic.dev/2.11/v/missing\n",
      "marketCap\n",
      "  Field required [type=missing, input_value={'MSFT': {'source': {'sun...se_date': '08/13/2025'}}, input_type=dict]\n",
      "    For further information visit https://errors.pydantic.dev/2.11/v/missing\n",
      "peRatio\n",
      "  Field required [type=missing, input_value={'MSFT': {'source': {'sun...se_date': '08/13/2025'}}, input_type=dict]\n",
      "    For further information visit https://errors.pydantic.dev/2.11/v/missing\n",
      "zacksRank\n",
      "  Field required [type=missing, input_value={'MSFT': {'source': {'sun...se_date': '08/13/2025'}}, input_type=dict]\n",
      "    For further information visit https://errors.pydantic.dev/2.11/v/missing\n",
      "valueScore\n",
      "  Field required [type=missing, input_value={'MSFT': {'source': {'sun...se_date': '08/13/2025'}}, input_type=dict]\n",
      "    For further information visit https://errors.pydantic.dev/2.11/v/missing\n",
      "growthScore\n",
      "  Field required [type=missing, input_value={'MSFT': {'source': {'sun...se_date': '08/13/2025'}}, input_type=dict]\n",
      "    For further information visit https://errors.pydantic.dev/2.11/v/missing\n",
      "momentumScore\n",
      "  Field required [type=missing, input_value={'MSFT': {'source': {'sun...se_date': '08/13/2025'}}, input_type=dict]\n",
      "    For further information visit https://errors.pydantic.dev/2.11/v/missing\n",
      "vgmScore\n",
      "  Field required [type=missing, input_value={'MSFT': {'source': {'sun...se_date': '08/13/2025'}}, input_type=dict]\n",
      "    For further information visit https://errors.pydantic.dev/2.11/v/missing\n",
      "Error fetching MSFT (attempt 4): 16 validation errors for ZacksModel\n",
      "ticker\n",
      "  Field required [type=missing, input_value={'MSFT': {'source': {'sun...se_date': '08/13/2025'}}, input_type=dict]\n",
      "    For further information visit https://errors.pydantic.dev/2.11/v/missing\n",
      "price\n",
      "  Field required [type=missing, input_value={'MSFT': {'source': {'sun...se_date': '08/13/2025'}}, input_type=dict]\n",
      "    For further information visit https://errors.pydantic.dev/2.11/v/missing\n",
      "change\n",
      "  Field required [type=missing, input_value={'MSFT': {'source': {'sun...se_date': '08/13/2025'}}, input_type=dict]\n",
      "    For further information visit https://errors.pydantic.dev/2.11/v/missing\n",
      "percentChange\n",
      "  Field required [type=missing, input_value={'MSFT': {'source': {'sun...se_date': '08/13/2025'}}, input_type=dict]\n",
      "    For further information visit https://errors.pydantic.dev/2.11/v/missing\n",
      "volume\n",
      "  Field required [type=missing, input_value={'MSFT': {'source': {'sun...se_date': '08/13/2025'}}, input_type=dict]\n",
      "    For further information visit https://errors.pydantic.dev/2.11/v/missing\n",
      "high\n",
      "  Field required [type=missing, input_value={'MSFT': {'source': {'sun...se_date': '08/13/2025'}}, input_type=dict]\n",
      "    For further information visit https://errors.pydantic.dev/2.11/v/missing\n",
      "low\n",
      "  Field required [type=missing, input_value={'MSFT': {'source': {'sun...se_date': '08/13/2025'}}, input_type=dict]\n",
      "    For further information visit https://errors.pydantic.dev/2.11/v/missing\n",
      "open\n",
      "  Field required [type=missing, input_value={'MSFT': {'source': {'sun...se_date': '08/13/2025'}}, input_type=dict]\n",
      "    For further information visit https://errors.pydantic.dev/2.11/v/missing\n",
      "previousClose\n",
      "  Field required [type=missing, input_value={'MSFT': {'source': {'sun...se_date': '08/13/2025'}}, input_type=dict]\n",
      "    For further information visit https://errors.pydantic.dev/2.11/v/missing\n",
      "marketCap\n",
      "  Field required [type=missing, input_value={'MSFT': {'source': {'sun...se_date': '08/13/2025'}}, input_type=dict]\n",
      "    For further information visit https://errors.pydantic.dev/2.11/v/missing\n",
      "peRatio\n",
      "  Field required [type=missing, input_value={'MSFT': {'source': {'sun...se_date': '08/13/2025'}}, input_type=dict]\n",
      "    For further information visit https://errors.pydantic.dev/2.11/v/missing\n",
      "zacksRank\n",
      "  Field required [type=missing, input_value={'MSFT': {'source': {'sun...se_date': '08/13/2025'}}, input_type=dict]\n",
      "    For further information visit https://errors.pydantic.dev/2.11/v/missing\n",
      "valueScore\n",
      "  Field required [type=missing, input_value={'MSFT': {'source': {'sun...se_date': '08/13/2025'}}, input_type=dict]\n",
      "    For further information visit https://errors.pydantic.dev/2.11/v/missing\n",
      "growthScore\n",
      "  Field required [type=missing, input_value={'MSFT': {'source': {'sun...se_date': '08/13/2025'}}, input_type=dict]\n",
      "    For further information visit https://errors.pydantic.dev/2.11/v/missing\n",
      "momentumScore\n",
      "  Field required [type=missing, input_value={'MSFT': {'source': {'sun...se_date': '08/13/2025'}}, input_type=dict]\n",
      "    For further information visit https://errors.pydantic.dev/2.11/v/missing\n",
      "vgmScore\n",
      "  Field required [type=missing, input_value={'MSFT': {'source': {'sun...se_date': '08/13/2025'}}, input_type=dict]\n",
      "    For further information visit https://errors.pydantic.dev/2.11/v/missing\n"
     ]
    },
    {
     "ename": "AttributeError",
     "evalue": "'NoneType' object has no attribute 'model_dump'",
     "output_type": "error",
     "traceback": [
      "\u001b[31m---------------------------------------------------------------------------\u001b[39m",
      "\u001b[31mAttributeError\u001b[39m                            Traceback (most recent call last)",
      "\u001b[36mCell\u001b[39m\u001b[36m \u001b[39m\u001b[32mIn[12]\u001b[39m\u001b[32m, line 4\u001b[39m\n\u001b[32m      1\u001b[39m \u001b[38;5;28;01mfrom\u001b[39;00m\u001b[38;5;250m \u001b[39m\u001b[34;01mapp\u001b[39;00m\u001b[34;01m.\u001b[39;00m\u001b[34;01mmodels\u001b[39;00m\u001b[34;01m.\u001b[39;00m\u001b[34;01mzacks\u001b[39;00m\u001b[38;5;250m \u001b[39m\u001b[38;5;28;01mimport\u001b[39;00m ZacksProvider\n\u001b[32m      3\u001b[39m provider = ZacksProvider()\n\u001b[32m----> \u001b[39m\u001b[32m4\u001b[39m pprint(\u001b[43mprovider\u001b[49m\u001b[43m.\u001b[49m\u001b[43mget_data_sync\u001b[49m\u001b[43m(\u001b[49m\u001b[43mticker\u001b[49m\u001b[43m)\u001b[49m\u001b[43m.\u001b[49m\u001b[43mdata\u001b[49m\u001b[43m.\u001b[49m\u001b[43mmodel_dump\u001b[49m())\n",
      "\u001b[31mAttributeError\u001b[39m: 'NoneType' object has no attribute 'model_dump'"
     ]
    }
   ],
   "source": [
    "from app.models.zacks import ZacksProvider\n",
    "\n",
    "provider = ZacksProvider()\n",
    "pprint(provider.get_data_sync(ticker).data.model_dump())"
   ]
  }
 ],
 "metadata": {
  "kernelspec": {
   "display_name": ".venv",
   "language": "python",
   "name": "python3"
  },
  "language_info": {
   "codemirror_mode": {
    "name": "ipython",
    "version": 3
   },
   "file_extension": ".py",
   "mimetype": "text/x-python",
   "name": "python",
   "nbconvert_exporter": "python",
   "pygments_lexer": "ipython3",
   "version": "3.12.10"
  }
 },
 "nbformat": 4,
 "nbformat_minor": 5
}
