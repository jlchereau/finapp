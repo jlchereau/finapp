{
 "cells": [
  {
   "cell_type": "markdown",
   "id": "3aeb438c",
   "metadata": {},
   "source": [
    "# Models"
   ]
  },
  {
   "cell_type": "markdown",
   "id": "e316b046",
   "metadata": {},
   "source": [
    "## Install prerequisites"
   ]
  },
  {
   "cell_type": "code",
   "execution_count": 1,
   "id": "cfd18ee6",
   "metadata": {},
   "outputs": [],
   "source": [
    "# !cd .. && make install\n",
    "# !pwd"
   ]
  },
  {
   "cell_type": "code",
   "execution_count": null,
   "id": "50bc33c9",
   "metadata": {},
   "outputs": [],
   "source": [
    "import pprint as pp\n",
    "import sys\n",
    "\n",
    "sys.path.append('..')\n",
    "\n",
    "ticker = 'MSFT'\n",
    "\n",
    "%load_ext autoreload\n",
    "%autoreload 2"
   ]
  },
  {
   "cell_type": "markdown",
   "id": "e982b92d",
   "metadata": {},
   "source": [
    "## Yahoo Model"
   ]
  },
  {
   "cell_type": "code",
   "execution_count": 3,
   "id": "147f32af",
   "metadata": {},
   "outputs": [
    {
     "data": {
      "text/html": [
       "<pre style=\"white-space:pre;overflow-x:auto;line-height:normal;font-family:Menlo,'DejaVu Sans Mono',consolas,'Courier New',monospace\"><span style=\"color: #ffaf00; text-decoration-color: #ffaf00\">Warning: `reflex.plugins.sitemap.SitemapPlugin` plugin is enabled by default, but not explicitly added to the </span>\n",
       "<span style=\"color: #ffaf00; text-decoration-color: #ffaf00\">config. If you want to use it, please add it to the `plugins` list in your config inside of `rxconfig.py`. To </span>\n",
       "<span style=\"color: #ffaf00; text-decoration-color: #ffaf00\">disable this plugin, set `disable_plugins` to `</span><span style=\"color: #ffaf00; text-decoration-color: #ffaf00; font-weight: bold\">[</span><span style=\"color: #ffaf00; text-decoration-color: #ffaf00\">'reflex.plugins.sitemap.SitemapPlugin'</span><span style=\"color: #ffaf00; text-decoration-color: #ffaf00; font-weight: bold\">]</span><span style=\"color: #ffaf00; text-decoration-color: #ffaf00\">`.</span>\n",
       "</pre>\n"
      ],
      "text/plain": [
       "\u001b[38;5;214mWarning: `reflex.plugins.sitemap.SitemapPlugin` plugin is enabled by default, but not explicitly added to the \u001b[0m\n",
       "\u001b[38;5;214mconfig. If you want to use it, please add it to the `plugins` list in your config inside of `rxconfig.py`. To \u001b[0m\n",
       "\u001b[38;5;214mdisable this plugin, set `disable_plugins` to `\u001b[0m\u001b[1;38;5;214m[\u001b[0m\u001b[38;5;214m'reflex.plugins.sitemap.SitemapPlugin'\u001b[0m\u001b[1;38;5;214m]\u001b[0m\u001b[38;5;214m`.\u001b[0m\n"
      ]
     },
     "metadata": {},
     "output_type": "display_data"
    },
    {
     "data": {
      "text/html": [
       "<pre style=\"white-space:pre;overflow-x:auto;line-height:normal;font-family:Menlo,'DejaVu Sans Mono',consolas,'Courier New',monospace\"><span style=\"color: #ffaf00; text-decoration-color: #ffaf00\">Warning: `reflex.plugins.sitemap.SitemapPlugin` plugin is enabled by default, but not explicitly added to the </span>\n",
       "<span style=\"color: #ffaf00; text-decoration-color: #ffaf00\">config. If you want to use it, please add it to the `plugins` list in your config inside of `rxconfig.py`. To </span>\n",
       "<span style=\"color: #ffaf00; text-decoration-color: #ffaf00\">disable this plugin, set `disable_plugins` to `</span><span style=\"color: #ffaf00; text-decoration-color: #ffaf00; font-weight: bold\">[</span><span style=\"color: #ffaf00; text-decoration-color: #ffaf00\">'reflex.plugins.sitemap.SitemapPlugin'</span><span style=\"color: #ffaf00; text-decoration-color: #ffaf00; font-weight: bold\">]</span><span style=\"color: #ffaf00; text-decoration-color: #ffaf00\">`.</span>\n",
       "</pre>\n"
      ],
      "text/plain": [
       "\u001b[38;5;214mWarning: `reflex.plugins.sitemap.SitemapPlugin` plugin is enabled by default, but not explicitly added to the \u001b[0m\n",
       "\u001b[38;5;214mconfig. If you want to use it, please add it to the `plugins` list in your config inside of `rxconfig.py`. To \u001b[0m\n",
       "\u001b[38;5;214mdisable this plugin, set `disable_plugins` to `\u001b[0m\u001b[1;38;5;214m[\u001b[0m\u001b[38;5;214m'reflex.plugins.sitemap.SitemapPlugin'\u001b[0m\u001b[1;38;5;214m]\u001b[0m\u001b[38;5;214m`.\u001b[0m\n"
      ]
     },
     "metadata": {},
     "output_type": "display_data"
    },
    {
     "data": {
      "text/html": [
       "<pre style=\"white-space:pre;overflow-x:auto;line-height:normal;font-family:Menlo,'DejaVu Sans Mono',consolas,'Courier New',monospace\"><span style=\"color: #ffaf00; text-decoration-color: #ffaf00\">Warning: `reflex.plugins.sitemap.SitemapPlugin` plugin is enabled by default, but not explicitly added to the </span>\n",
       "<span style=\"color: #ffaf00; text-decoration-color: #ffaf00\">config. If you want to use it, please add it to the `plugins` list in your config inside of `rxconfig.py`. To </span>\n",
       "<span style=\"color: #ffaf00; text-decoration-color: #ffaf00\">disable this plugin, set `disable_plugins` to `</span><span style=\"color: #ffaf00; text-decoration-color: #ffaf00; font-weight: bold\">[</span><span style=\"color: #ffaf00; text-decoration-color: #ffaf00\">'reflex.plugins.sitemap.SitemapPlugin'</span><span style=\"color: #ffaf00; text-decoration-color: #ffaf00; font-weight: bold\">]</span><span style=\"color: #ffaf00; text-decoration-color: #ffaf00\">`.</span>\n",
       "</pre>\n"
      ],
      "text/plain": [
       "\u001b[38;5;214mWarning: `reflex.plugins.sitemap.SitemapPlugin` plugin is enabled by default, but not explicitly added to the \u001b[0m\n",
       "\u001b[38;5;214mconfig. If you want to use it, please add it to the `plugins` list in your config inside of `rxconfig.py`. To \u001b[0m\n",
       "\u001b[38;5;214mdisable this plugin, set `disable_plugins` to `\u001b[0m\u001b[1;38;5;214m[\u001b[0m\u001b[38;5;214m'reflex.plugins.sitemap.SitemapPlugin'\u001b[0m\u001b[1;38;5;214m]\u001b[0m\u001b[38;5;214m`.\u001b[0m\n"
      ]
     },
     "metadata": {},
     "output_type": "display_data"
    },
    {
     "data": {
      "text/html": [
       "<pre style=\"white-space:pre;overflow-x:auto;line-height:normal;font-family:Menlo,'DejaVu Sans Mono',consolas,'Courier New',monospace\"><span style=\"color: #ffaf00; text-decoration-color: #ffaf00\">Warning: `reflex.plugins.sitemap.SitemapPlugin` plugin is enabled by default, but not explicitly added to the </span>\n",
       "<span style=\"color: #ffaf00; text-decoration-color: #ffaf00\">config. If you want to use it, please add it to the `plugins` list in your config inside of `rxconfig.py`. To </span>\n",
       "<span style=\"color: #ffaf00; text-decoration-color: #ffaf00\">disable this plugin, set `disable_plugins` to `</span><span style=\"color: #ffaf00; text-decoration-color: #ffaf00; font-weight: bold\">[</span><span style=\"color: #ffaf00; text-decoration-color: #ffaf00\">'reflex.plugins.sitemap.SitemapPlugin'</span><span style=\"color: #ffaf00; text-decoration-color: #ffaf00; font-weight: bold\">]</span><span style=\"color: #ffaf00; text-decoration-color: #ffaf00\">`.</span>\n",
       "</pre>\n"
      ],
      "text/plain": [
       "\u001b[38;5;214mWarning: `reflex.plugins.sitemap.SitemapPlugin` plugin is enabled by default, but not explicitly added to the \u001b[0m\n",
       "\u001b[38;5;214mconfig. If you want to use it, please add it to the `plugins` list in your config inside of `rxconfig.py`. To \u001b[0m\n",
       "\u001b[38;5;214mdisable this plugin, set `disable_plugins` to `\u001b[0m\u001b[1;38;5;214m[\u001b[0m\u001b[38;5;214m'reflex.plugins.sitemap.SitemapPlugin'\u001b[0m\u001b[1;38;5;214m]\u001b[0m\u001b[38;5;214m`.\u001b[0m\n"
      ]
     },
     "metadata": {},
     "output_type": "display_data"
    },
    {
     "data": {
      "text/html": [
       "<pre style=\"white-space:pre;overflow-x:auto;line-height:normal;font-family:Menlo,'DejaVu Sans Mono',consolas,'Courier New',monospace\"><span style=\"color: #ffaf00; text-decoration-color: #ffaf00\">Warning: `reflex.plugins.sitemap.SitemapPlugin` plugin is enabled by default, but not explicitly added to the </span>\n",
       "<span style=\"color: #ffaf00; text-decoration-color: #ffaf00\">config. If you want to use it, please add it to the `plugins` list in your config inside of `rxconfig.py`. To </span>\n",
       "<span style=\"color: #ffaf00; text-decoration-color: #ffaf00\">disable this plugin, set `disable_plugins` to `</span><span style=\"color: #ffaf00; text-decoration-color: #ffaf00; font-weight: bold\">[</span><span style=\"color: #ffaf00; text-decoration-color: #ffaf00\">'reflex.plugins.sitemap.SitemapPlugin'</span><span style=\"color: #ffaf00; text-decoration-color: #ffaf00; font-weight: bold\">]</span><span style=\"color: #ffaf00; text-decoration-color: #ffaf00\">`.</span>\n",
       "</pre>\n"
      ],
      "text/plain": [
       "\u001b[38;5;214mWarning: `reflex.plugins.sitemap.SitemapPlugin` plugin is enabled by default, but not explicitly added to the \u001b[0m\n",
       "\u001b[38;5;214mconfig. If you want to use it, please add it to the `plugins` list in your config inside of `rxconfig.py`. To \u001b[0m\n",
       "\u001b[38;5;214mdisable this plugin, set `disable_plugins` to `\u001b[0m\u001b[1;38;5;214m[\u001b[0m\u001b[38;5;214m'reflex.plugins.sitemap.SitemapPlugin'\u001b[0m\u001b[1;38;5;214m]\u001b[0m\u001b[38;5;214m`.\u001b[0m\n"
      ]
     },
     "metadata": {},
     "output_type": "display_data"
    },
    {
     "data": {
      "text/html": [
       "<pre style=\"white-space:pre;overflow-x:auto;line-height:normal;font-family:Menlo,'DejaVu Sans Mono',consolas,'Courier New',monospace\"><span style=\"color: #ffaf00; text-decoration-color: #ffaf00\">Warning: `reflex.plugins.sitemap.SitemapPlugin` plugin is enabled by default, but not explicitly added to the </span>\n",
       "<span style=\"color: #ffaf00; text-decoration-color: #ffaf00\">config. If you want to use it, please add it to the `plugins` list in your config inside of `rxconfig.py`. To </span>\n",
       "<span style=\"color: #ffaf00; text-decoration-color: #ffaf00\">disable this plugin, set `disable_plugins` to `</span><span style=\"color: #ffaf00; text-decoration-color: #ffaf00; font-weight: bold\">[</span><span style=\"color: #ffaf00; text-decoration-color: #ffaf00\">'reflex.plugins.sitemap.SitemapPlugin'</span><span style=\"color: #ffaf00; text-decoration-color: #ffaf00; font-weight: bold\">]</span><span style=\"color: #ffaf00; text-decoration-color: #ffaf00\">`.</span>\n",
       "</pre>\n"
      ],
      "text/plain": [
       "\u001b[38;5;214mWarning: `reflex.plugins.sitemap.SitemapPlugin` plugin is enabled by default, but not explicitly added to the \u001b[0m\n",
       "\u001b[38;5;214mconfig. If you want to use it, please add it to the `plugins` list in your config inside of `rxconfig.py`. To \u001b[0m\n",
       "\u001b[38;5;214mdisable this plugin, set `disable_plugins` to `\u001b[0m\u001b[1;38;5;214m[\u001b[0m\u001b[38;5;214m'reflex.plugins.sitemap.SitemapPlugin'\u001b[0m\u001b[1;38;5;214m]\u001b[0m\u001b[38;5;214m`.\u001b[0m\n"
      ]
     },
     "metadata": {},
     "output_type": "display_data"
    },
    {
     "data": {
      "text/html": [
       "<pre style=\"white-space:pre;overflow-x:auto;line-height:normal;font-family:Menlo,'DejaVu Sans Mono',consolas,'Courier New',monospace\"><span style=\"color: #ffaf00; text-decoration-color: #ffaf00\">Warning: `reflex.plugins.sitemap.SitemapPlugin` plugin is enabled by default, but not explicitly added to the </span>\n",
       "<span style=\"color: #ffaf00; text-decoration-color: #ffaf00\">config. If you want to use it, please add it to the `plugins` list in your config inside of `rxconfig.py`. To </span>\n",
       "<span style=\"color: #ffaf00; text-decoration-color: #ffaf00\">disable this plugin, set `disable_plugins` to `</span><span style=\"color: #ffaf00; text-decoration-color: #ffaf00; font-weight: bold\">[</span><span style=\"color: #ffaf00; text-decoration-color: #ffaf00\">'reflex.plugins.sitemap.SitemapPlugin'</span><span style=\"color: #ffaf00; text-decoration-color: #ffaf00; font-weight: bold\">]</span><span style=\"color: #ffaf00; text-decoration-color: #ffaf00\">`.</span>\n",
       "</pre>\n"
      ],
      "text/plain": [
       "\u001b[38;5;214mWarning: `reflex.plugins.sitemap.SitemapPlugin` plugin is enabled by default, but not explicitly added to the \u001b[0m\n",
       "\u001b[38;5;214mconfig. If you want to use it, please add it to the `plugins` list in your config inside of `rxconfig.py`. To \u001b[0m\n",
       "\u001b[38;5;214mdisable this plugin, set `disable_plugins` to `\u001b[0m\u001b[1;38;5;214m[\u001b[0m\u001b[38;5;214m'reflex.plugins.sitemap.SitemapPlugin'\u001b[0m\u001b[1;38;5;214m]\u001b[0m\u001b[38;5;214m`.\u001b[0m\n"
      ]
     },
     "metadata": {},
     "output_type": "display_data"
    },
    {
     "data": {
      "text/html": [
       "<pre style=\"white-space:pre;overflow-x:auto;line-height:normal;font-family:Menlo,'DejaVu Sans Mono',consolas,'Courier New',monospace\"><span style=\"color: #ffaf00; text-decoration-color: #ffaf00\">Warning: `reflex.plugins.sitemap.SitemapPlugin` plugin is enabled by default, but not explicitly added to the </span>\n",
       "<span style=\"color: #ffaf00; text-decoration-color: #ffaf00\">config. If you want to use it, please add it to the `plugins` list in your config inside of `rxconfig.py`. To </span>\n",
       "<span style=\"color: #ffaf00; text-decoration-color: #ffaf00\">disable this plugin, set `disable_plugins` to `</span><span style=\"color: #ffaf00; text-decoration-color: #ffaf00; font-weight: bold\">[</span><span style=\"color: #ffaf00; text-decoration-color: #ffaf00\">'reflex.plugins.sitemap.SitemapPlugin'</span><span style=\"color: #ffaf00; text-decoration-color: #ffaf00; font-weight: bold\">]</span><span style=\"color: #ffaf00; text-decoration-color: #ffaf00\">`.</span>\n",
       "</pre>\n"
      ],
      "text/plain": [
       "\u001b[38;5;214mWarning: `reflex.plugins.sitemap.SitemapPlugin` plugin is enabled by default, but not explicitly added to the \u001b[0m\n",
       "\u001b[38;5;214mconfig. If you want to use it, please add it to the `plugins` list in your config inside of `rxconfig.py`. To \u001b[0m\n",
       "\u001b[38;5;214mdisable this plugin, set `disable_plugins` to `\u001b[0m\u001b[1;38;5;214m[\u001b[0m\u001b[38;5;214m'reflex.plugins.sitemap.SitemapPlugin'\u001b[0m\u001b[1;38;5;214m]\u001b[0m\u001b[38;5;214m`.\u001b[0m\n"
      ]
     },
     "metadata": {},
     "output_type": "display_data"
    },
    {
     "data": {
      "text/html": [
       "<pre style=\"white-space:pre;overflow-x:auto;line-height:normal;font-family:Menlo,'DejaVu Sans Mono',consolas,'Courier New',monospace\"><span style=\"color: #ffaf00; text-decoration-color: #ffaf00\">Warning: `reflex.plugins.sitemap.SitemapPlugin` plugin is enabled by default, but not explicitly added to the </span>\n",
       "<span style=\"color: #ffaf00; text-decoration-color: #ffaf00\">config. If you want to use it, please add it to the `plugins` list in your config inside of `rxconfig.py`. To </span>\n",
       "<span style=\"color: #ffaf00; text-decoration-color: #ffaf00\">disable this plugin, set `disable_plugins` to `</span><span style=\"color: #ffaf00; text-decoration-color: #ffaf00; font-weight: bold\">[</span><span style=\"color: #ffaf00; text-decoration-color: #ffaf00\">'reflex.plugins.sitemap.SitemapPlugin'</span><span style=\"color: #ffaf00; text-decoration-color: #ffaf00; font-weight: bold\">]</span><span style=\"color: #ffaf00; text-decoration-color: #ffaf00\">`.</span>\n",
       "</pre>\n"
      ],
      "text/plain": [
       "\u001b[38;5;214mWarning: `reflex.plugins.sitemap.SitemapPlugin` plugin is enabled by default, but not explicitly added to the \u001b[0m\n",
       "\u001b[38;5;214mconfig. If you want to use it, please add it to the `plugins` list in your config inside of `rxconfig.py`. To \u001b[0m\n",
       "\u001b[38;5;214mdisable this plugin, set `disable_plugins` to `\u001b[0m\u001b[1;38;5;214m[\u001b[0m\u001b[38;5;214m'reflex.plugins.sitemap.SitemapPlugin'\u001b[0m\u001b[1;38;5;214m]\u001b[0m\u001b[38;5;214m`.\u001b[0m\n"
      ]
     },
     "metadata": {},
     "output_type": "display_data"
    },
    {
     "data": {
      "text/html": [
       "<pre style=\"white-space:pre;overflow-x:auto;line-height:normal;font-family:Menlo,'DejaVu Sans Mono',consolas,'Courier New',monospace\"><span style=\"color: #ffaf00; text-decoration-color: #ffaf00\">Warning: `reflex.plugins.sitemap.SitemapPlugin` plugin is enabled by default, but not explicitly added to the </span>\n",
       "<span style=\"color: #ffaf00; text-decoration-color: #ffaf00\">config. If you want to use it, please add it to the `plugins` list in your config inside of `rxconfig.py`. To </span>\n",
       "<span style=\"color: #ffaf00; text-decoration-color: #ffaf00\">disable this plugin, set `disable_plugins` to `</span><span style=\"color: #ffaf00; text-decoration-color: #ffaf00; font-weight: bold\">[</span><span style=\"color: #ffaf00; text-decoration-color: #ffaf00\">'reflex.plugins.sitemap.SitemapPlugin'</span><span style=\"color: #ffaf00; text-decoration-color: #ffaf00; font-weight: bold\">]</span><span style=\"color: #ffaf00; text-decoration-color: #ffaf00\">`.</span>\n",
       "</pre>\n"
      ],
      "text/plain": [
       "\u001b[38;5;214mWarning: `reflex.plugins.sitemap.SitemapPlugin` plugin is enabled by default, but not explicitly added to the \u001b[0m\n",
       "\u001b[38;5;214mconfig. If you want to use it, please add it to the `plugins` list in your config inside of `rxconfig.py`. To \u001b[0m\n",
       "\u001b[38;5;214mdisable this plugin, set `disable_plugins` to `\u001b[0m\u001b[1;38;5;214m[\u001b[0m\u001b[38;5;214m'reflex.plugins.sitemap.SitemapPlugin'\u001b[0m\u001b[1;38;5;214m]\u001b[0m\u001b[38;5;214m`.\u001b[0m\n"
      ]
     },
     "metadata": {},
     "output_type": "display_data"
    },
    {
     "data": {
      "text/html": [
       "<pre style=\"white-space:pre;overflow-x:auto;line-height:normal;font-family:Menlo,'DejaVu Sans Mono',consolas,'Courier New',monospace\"><span style=\"color: #ffaf00; text-decoration-color: #ffaf00\">Warning: `reflex.plugins.sitemap.SitemapPlugin` plugin is enabled by default, but not explicitly added to the </span>\n",
       "<span style=\"color: #ffaf00; text-decoration-color: #ffaf00\">config. If you want to use it, please add it to the `plugins` list in your config inside of `rxconfig.py`. To </span>\n",
       "<span style=\"color: #ffaf00; text-decoration-color: #ffaf00\">disable this plugin, set `disable_plugins` to `</span><span style=\"color: #ffaf00; text-decoration-color: #ffaf00; font-weight: bold\">[</span><span style=\"color: #ffaf00; text-decoration-color: #ffaf00\">'reflex.plugins.sitemap.SitemapPlugin'</span><span style=\"color: #ffaf00; text-decoration-color: #ffaf00; font-weight: bold\">]</span><span style=\"color: #ffaf00; text-decoration-color: #ffaf00\">`.</span>\n",
       "</pre>\n"
      ],
      "text/plain": [
       "\u001b[38;5;214mWarning: `reflex.plugins.sitemap.SitemapPlugin` plugin is enabled by default, but not explicitly added to the \u001b[0m\n",
       "\u001b[38;5;214mconfig. If you want to use it, please add it to the `plugins` list in your config inside of `rxconfig.py`. To \u001b[0m\n",
       "\u001b[38;5;214mdisable this plugin, set `disable_plugins` to `\u001b[0m\u001b[1;38;5;214m[\u001b[0m\u001b[38;5;214m'reflex.plugins.sitemap.SitemapPlugin'\u001b[0m\u001b[1;38;5;214m]\u001b[0m\u001b[38;5;214m`.\u001b[0m\n"
      ]
     },
     "metadata": {},
     "output_type": "display_data"
    },
    {
     "data": {
      "text/html": [
       "<pre style=\"white-space:pre;overflow-x:auto;line-height:normal;font-family:Menlo,'DejaVu Sans Mono',consolas,'Courier New',monospace\"><span style=\"color: #ffaf00; text-decoration-color: #ffaf00\">Warning: `reflex.plugins.sitemap.SitemapPlugin` plugin is enabled by default, but not explicitly added to the </span>\n",
       "<span style=\"color: #ffaf00; text-decoration-color: #ffaf00\">config. If you want to use it, please add it to the `plugins` list in your config inside of `rxconfig.py`. To </span>\n",
       "<span style=\"color: #ffaf00; text-decoration-color: #ffaf00\">disable this plugin, set `disable_plugins` to `</span><span style=\"color: #ffaf00; text-decoration-color: #ffaf00; font-weight: bold\">[</span><span style=\"color: #ffaf00; text-decoration-color: #ffaf00\">'reflex.plugins.sitemap.SitemapPlugin'</span><span style=\"color: #ffaf00; text-decoration-color: #ffaf00; font-weight: bold\">]</span><span style=\"color: #ffaf00; text-decoration-color: #ffaf00\">`.</span>\n",
       "</pre>\n"
      ],
      "text/plain": [
       "\u001b[38;5;214mWarning: `reflex.plugins.sitemap.SitemapPlugin` plugin is enabled by default, but not explicitly added to the \u001b[0m\n",
       "\u001b[38;5;214mconfig. If you want to use it, please add it to the `plugins` list in your config inside of `rxconfig.py`. To \u001b[0m\n",
       "\u001b[38;5;214mdisable this plugin, set `disable_plugins` to `\u001b[0m\u001b[1;38;5;214m[\u001b[0m\u001b[38;5;214m'reflex.plugins.sitemap.SitemapPlugin'\u001b[0m\u001b[1;38;5;214m]\u001b[0m\u001b[38;5;214m`.\u001b[0m\n"
      ]
     },
     "metadata": {},
     "output_type": "display_data"
    },
    {
     "data": {
      "text/html": [
       "<pre style=\"white-space:pre;overflow-x:auto;line-height:normal;font-family:Menlo,'DejaVu Sans Mono',consolas,'Courier New',monospace\"><span style=\"color: #ffaf00; text-decoration-color: #ffaf00\">Warning: `reflex.plugins.sitemap.SitemapPlugin` plugin is enabled by default, but not explicitly added to the </span>\n",
       "<span style=\"color: #ffaf00; text-decoration-color: #ffaf00\">config. If you want to use it, please add it to the `plugins` list in your config inside of `rxconfig.py`. To </span>\n",
       "<span style=\"color: #ffaf00; text-decoration-color: #ffaf00\">disable this plugin, set `disable_plugins` to `</span><span style=\"color: #ffaf00; text-decoration-color: #ffaf00; font-weight: bold\">[</span><span style=\"color: #ffaf00; text-decoration-color: #ffaf00\">'reflex.plugins.sitemap.SitemapPlugin'</span><span style=\"color: #ffaf00; text-decoration-color: #ffaf00; font-weight: bold\">]</span><span style=\"color: #ffaf00; text-decoration-color: #ffaf00\">`.</span>\n",
       "</pre>\n"
      ],
      "text/plain": [
       "\u001b[38;5;214mWarning: `reflex.plugins.sitemap.SitemapPlugin` plugin is enabled by default, but not explicitly added to the \u001b[0m\n",
       "\u001b[38;5;214mconfig. If you want to use it, please add it to the `plugins` list in your config inside of `rxconfig.py`. To \u001b[0m\n",
       "\u001b[38;5;214mdisable this plugin, set `disable_plugins` to `\u001b[0m\u001b[1;38;5;214m[\u001b[0m\u001b[38;5;214m'reflex.plugins.sitemap.SitemapPlugin'\u001b[0m\u001b[1;38;5;214m]\u001b[0m\u001b[38;5;214m`.\u001b[0m\n"
      ]
     },
     "metadata": {},
     "output_type": "display_data"
    },
    {
     "data": {
      "text/html": [
       "<pre style=\"white-space:pre;overflow-x:auto;line-height:normal;font-family:Menlo,'DejaVu Sans Mono',consolas,'Courier New',monospace\"><span style=\"color: #ffaf00; text-decoration-color: #ffaf00\">Warning: `reflex.plugins.sitemap.SitemapPlugin` plugin is enabled by default, but not explicitly added to the </span>\n",
       "<span style=\"color: #ffaf00; text-decoration-color: #ffaf00\">config. If you want to use it, please add it to the `plugins` list in your config inside of `rxconfig.py`. To </span>\n",
       "<span style=\"color: #ffaf00; text-decoration-color: #ffaf00\">disable this plugin, set `disable_plugins` to `</span><span style=\"color: #ffaf00; text-decoration-color: #ffaf00; font-weight: bold\">[</span><span style=\"color: #ffaf00; text-decoration-color: #ffaf00\">'reflex.plugins.sitemap.SitemapPlugin'</span><span style=\"color: #ffaf00; text-decoration-color: #ffaf00; font-weight: bold\">]</span><span style=\"color: #ffaf00; text-decoration-color: #ffaf00\">`.</span>\n",
       "</pre>\n"
      ],
      "text/plain": [
       "\u001b[38;5;214mWarning: `reflex.plugins.sitemap.SitemapPlugin` plugin is enabled by default, but not explicitly added to the \u001b[0m\n",
       "\u001b[38;5;214mconfig. If you want to use it, please add it to the `plugins` list in your config inside of `rxconfig.py`. To \u001b[0m\n",
       "\u001b[38;5;214mdisable this plugin, set `disable_plugins` to `\u001b[0m\u001b[1;38;5;214m[\u001b[0m\u001b[38;5;214m'reflex.plugins.sitemap.SitemapPlugin'\u001b[0m\u001b[1;38;5;214m]\u001b[0m\u001b[38;5;214m`.\u001b[0m\n"
      ]
     },
     "metadata": {},
     "output_type": "display_data"
    },
    {
     "data": {
      "text/html": [
       "<pre style=\"white-space:pre;overflow-x:auto;line-height:normal;font-family:Menlo,'DejaVu Sans Mono',consolas,'Courier New',monospace\"><span style=\"color: #ffaf00; text-decoration-color: #ffaf00\">Warning: `reflex.plugins.sitemap.SitemapPlugin` plugin is enabled by default, but not explicitly added to the </span>\n",
       "<span style=\"color: #ffaf00; text-decoration-color: #ffaf00\">config. If you want to use it, please add it to the `plugins` list in your config inside of `rxconfig.py`. To </span>\n",
       "<span style=\"color: #ffaf00; text-decoration-color: #ffaf00\">disable this plugin, set `disable_plugins` to `</span><span style=\"color: #ffaf00; text-decoration-color: #ffaf00; font-weight: bold\">[</span><span style=\"color: #ffaf00; text-decoration-color: #ffaf00\">'reflex.plugins.sitemap.SitemapPlugin'</span><span style=\"color: #ffaf00; text-decoration-color: #ffaf00; font-weight: bold\">]</span><span style=\"color: #ffaf00; text-decoration-color: #ffaf00\">`.</span>\n",
       "</pre>\n"
      ],
      "text/plain": [
       "\u001b[38;5;214mWarning: `reflex.plugins.sitemap.SitemapPlugin` plugin is enabled by default, but not explicitly added to the \u001b[0m\n",
       "\u001b[38;5;214mconfig. If you want to use it, please add it to the `plugins` list in your config inside of `rxconfig.py`. To \u001b[0m\n",
       "\u001b[38;5;214mdisable this plugin, set `disable_plugins` to `\u001b[0m\u001b[1;38;5;214m[\u001b[0m\u001b[38;5;214m'reflex.plugins.sitemap.SitemapPlugin'\u001b[0m\u001b[1;38;5;214m]\u001b[0m\u001b[38;5;214m`.\u001b[0m\n"
      ]
     },
     "metadata": {},
     "output_type": "display_data"
    },
    {
     "data": {
      "text/html": [
       "<pre style=\"white-space:pre;overflow-x:auto;line-height:normal;font-family:Menlo,'DejaVu Sans Mono',consolas,'Courier New',monospace\"><span style=\"color: #ffaf00; text-decoration-color: #ffaf00\">Warning: `reflex.plugins.sitemap.SitemapPlugin` plugin is enabled by default, but not explicitly added to the </span>\n",
       "<span style=\"color: #ffaf00; text-decoration-color: #ffaf00\">config. If you want to use it, please add it to the `plugins` list in your config inside of `rxconfig.py`. To </span>\n",
       "<span style=\"color: #ffaf00; text-decoration-color: #ffaf00\">disable this plugin, set `disable_plugins` to `</span><span style=\"color: #ffaf00; text-decoration-color: #ffaf00; font-weight: bold\">[</span><span style=\"color: #ffaf00; text-decoration-color: #ffaf00\">'reflex.plugins.sitemap.SitemapPlugin'</span><span style=\"color: #ffaf00; text-decoration-color: #ffaf00; font-weight: bold\">]</span><span style=\"color: #ffaf00; text-decoration-color: #ffaf00\">`.</span>\n",
       "</pre>\n"
      ],
      "text/plain": [
       "\u001b[38;5;214mWarning: `reflex.plugins.sitemap.SitemapPlugin` plugin is enabled by default, but not explicitly added to the \u001b[0m\n",
       "\u001b[38;5;214mconfig. If you want to use it, please add it to the `plugins` list in your config inside of `rxconfig.py`. To \u001b[0m\n",
       "\u001b[38;5;214mdisable this plugin, set `disable_plugins` to `\u001b[0m\u001b[1;38;5;214m[\u001b[0m\u001b[38;5;214m'reflex.plugins.sitemap.SitemapPlugin'\u001b[0m\u001b[1;38;5;214m]\u001b[0m\u001b[38;5;214m`.\u001b[0m\n"
      ]
     },
     "metadata": {},
     "output_type": "display_data"
    },
    {
     "data": {
      "text/html": [
       "<pre style=\"white-space:pre;overflow-x:auto;line-height:normal;font-family:Menlo,'DejaVu Sans Mono',consolas,'Courier New',monospace\"><span style=\"color: #ffaf00; text-decoration-color: #ffaf00\">Warning: `reflex.plugins.sitemap.SitemapPlugin` plugin is enabled by default, but not explicitly added to the </span>\n",
       "<span style=\"color: #ffaf00; text-decoration-color: #ffaf00\">config. If you want to use it, please add it to the `plugins` list in your config inside of `rxconfig.py`. To </span>\n",
       "<span style=\"color: #ffaf00; text-decoration-color: #ffaf00\">disable this plugin, set `disable_plugins` to `</span><span style=\"color: #ffaf00; text-decoration-color: #ffaf00; font-weight: bold\">[</span><span style=\"color: #ffaf00; text-decoration-color: #ffaf00\">'reflex.plugins.sitemap.SitemapPlugin'</span><span style=\"color: #ffaf00; text-decoration-color: #ffaf00; font-weight: bold\">]</span><span style=\"color: #ffaf00; text-decoration-color: #ffaf00\">`.</span>\n",
       "</pre>\n"
      ],
      "text/plain": [
       "\u001b[38;5;214mWarning: `reflex.plugins.sitemap.SitemapPlugin` plugin is enabled by default, but not explicitly added to the \u001b[0m\n",
       "\u001b[38;5;214mconfig. If you want to use it, please add it to the `plugins` list in your config inside of `rxconfig.py`. To \u001b[0m\n",
       "\u001b[38;5;214mdisable this plugin, set `disable_plugins` to `\u001b[0m\u001b[1;38;5;214m[\u001b[0m\u001b[38;5;214m'reflex.plugins.sitemap.SitemapPlugin'\u001b[0m\u001b[1;38;5;214m]\u001b[0m\u001b[38;5;214m`.\u001b[0m\n"
      ]
     },
     "metadata": {},
     "output_type": "display_data"
    },
    {
     "data": {
      "text/html": [
       "<pre style=\"white-space:pre;overflow-x:auto;line-height:normal;font-family:Menlo,'DejaVu Sans Mono',consolas,'Courier New',monospace\"><span style=\"color: #ffaf00; text-decoration-color: #ffaf00\">Warning: `reflex.plugins.sitemap.SitemapPlugin` plugin is enabled by default, but not explicitly added to the </span>\n",
       "<span style=\"color: #ffaf00; text-decoration-color: #ffaf00\">config. If you want to use it, please add it to the `plugins` list in your config inside of `rxconfig.py`. To </span>\n",
       "<span style=\"color: #ffaf00; text-decoration-color: #ffaf00\">disable this plugin, set `disable_plugins` to `</span><span style=\"color: #ffaf00; text-decoration-color: #ffaf00; font-weight: bold\">[</span><span style=\"color: #ffaf00; text-decoration-color: #ffaf00\">'reflex.plugins.sitemap.SitemapPlugin'</span><span style=\"color: #ffaf00; text-decoration-color: #ffaf00; font-weight: bold\">]</span><span style=\"color: #ffaf00; text-decoration-color: #ffaf00\">`.</span>\n",
       "</pre>\n"
      ],
      "text/plain": [
       "\u001b[38;5;214mWarning: `reflex.plugins.sitemap.SitemapPlugin` plugin is enabled by default, but not explicitly added to the \u001b[0m\n",
       "\u001b[38;5;214mconfig. If you want to use it, please add it to the `plugins` list in your config inside of `rxconfig.py`. To \u001b[0m\n",
       "\u001b[38;5;214mdisable this plugin, set `disable_plugins` to `\u001b[0m\u001b[1;38;5;214m[\u001b[0m\u001b[38;5;214m'reflex.plugins.sitemap.SitemapPlugin'\u001b[0m\u001b[1;38;5;214m]\u001b[0m\u001b[38;5;214m`.\u001b[0m\n"
      ]
     },
     "metadata": {},
     "output_type": "display_data"
    },
    {
     "data": {
      "text/html": [
       "<pre style=\"white-space:pre;overflow-x:auto;line-height:normal;font-family:Menlo,'DejaVu Sans Mono',consolas,'Courier New',monospace\"><span style=\"color: #ffaf00; text-decoration-color: #ffaf00\">Warning: `reflex.plugins.sitemap.SitemapPlugin` plugin is enabled by default, but not explicitly added to the </span>\n",
       "<span style=\"color: #ffaf00; text-decoration-color: #ffaf00\">config. If you want to use it, please add it to the `plugins` list in your config inside of `rxconfig.py`. To </span>\n",
       "<span style=\"color: #ffaf00; text-decoration-color: #ffaf00\">disable this plugin, set `disable_plugins` to `</span><span style=\"color: #ffaf00; text-decoration-color: #ffaf00; font-weight: bold\">[</span><span style=\"color: #ffaf00; text-decoration-color: #ffaf00\">'reflex.plugins.sitemap.SitemapPlugin'</span><span style=\"color: #ffaf00; text-decoration-color: #ffaf00; font-weight: bold\">]</span><span style=\"color: #ffaf00; text-decoration-color: #ffaf00\">`.</span>\n",
       "</pre>\n"
      ],
      "text/plain": [
       "\u001b[38;5;214mWarning: `reflex.plugins.sitemap.SitemapPlugin` plugin is enabled by default, but not explicitly added to the \u001b[0m\n",
       "\u001b[38;5;214mconfig. If you want to use it, please add it to the `plugins` list in your config inside of `rxconfig.py`. To \u001b[0m\n",
       "\u001b[38;5;214mdisable this plugin, set `disable_plugins` to `\u001b[0m\u001b[1;38;5;214m[\u001b[0m\u001b[38;5;214m'reflex.plugins.sitemap.SitemapPlugin'\u001b[0m\u001b[1;38;5;214m]\u001b[0m\u001b[38;5;214m`.\u001b[0m\n"
      ]
     },
     "metadata": {},
     "output_type": "display_data"
    },
    {
     "data": {
      "text/html": [
       "<pre style=\"white-space:pre;overflow-x:auto;line-height:normal;font-family:Menlo,'DejaVu Sans Mono',consolas,'Courier New',monospace\"><span style=\"color: #ffaf00; text-decoration-color: #ffaf00\">Warning: `reflex.plugins.sitemap.SitemapPlugin` plugin is enabled by default, but not explicitly added to the </span>\n",
       "<span style=\"color: #ffaf00; text-decoration-color: #ffaf00\">config. If you want to use it, please add it to the `plugins` list in your config inside of `rxconfig.py`. To </span>\n",
       "<span style=\"color: #ffaf00; text-decoration-color: #ffaf00\">disable this plugin, set `disable_plugins` to `</span><span style=\"color: #ffaf00; text-decoration-color: #ffaf00; font-weight: bold\">[</span><span style=\"color: #ffaf00; text-decoration-color: #ffaf00\">'reflex.plugins.sitemap.SitemapPlugin'</span><span style=\"color: #ffaf00; text-decoration-color: #ffaf00; font-weight: bold\">]</span><span style=\"color: #ffaf00; text-decoration-color: #ffaf00\">`.</span>\n",
       "</pre>\n"
      ],
      "text/plain": [
       "\u001b[38;5;214mWarning: `reflex.plugins.sitemap.SitemapPlugin` plugin is enabled by default, but not explicitly added to the \u001b[0m\n",
       "\u001b[38;5;214mconfig. If you want to use it, please add it to the `plugins` list in your config inside of `rxconfig.py`. To \u001b[0m\n",
       "\u001b[38;5;214mdisable this plugin, set `disable_plugins` to `\u001b[0m\u001b[1;38;5;214m[\u001b[0m\u001b[38;5;214m'reflex.plugins.sitemap.SitemapPlugin'\u001b[0m\u001b[1;38;5;214m]\u001b[0m\u001b[38;5;214m`.\u001b[0m\n"
      ]
     },
     "metadata": {},
     "output_type": "display_data"
    },
    {
     "data": {
      "text/html": [
       "<pre style=\"white-space:pre;overflow-x:auto;line-height:normal;font-family:Menlo,'DejaVu Sans Mono',consolas,'Courier New',monospace\"><span style=\"color: #ffaf00; text-decoration-color: #ffaf00\">Warning: `reflex.plugins.sitemap.SitemapPlugin` plugin is enabled by default, but not explicitly added to the </span>\n",
       "<span style=\"color: #ffaf00; text-decoration-color: #ffaf00\">config. If you want to use it, please add it to the `plugins` list in your config inside of `rxconfig.py`. To </span>\n",
       "<span style=\"color: #ffaf00; text-decoration-color: #ffaf00\">disable this plugin, set `disable_plugins` to `</span><span style=\"color: #ffaf00; text-decoration-color: #ffaf00; font-weight: bold\">[</span><span style=\"color: #ffaf00; text-decoration-color: #ffaf00\">'reflex.plugins.sitemap.SitemapPlugin'</span><span style=\"color: #ffaf00; text-decoration-color: #ffaf00; font-weight: bold\">]</span><span style=\"color: #ffaf00; text-decoration-color: #ffaf00\">`.</span>\n",
       "</pre>\n"
      ],
      "text/plain": [
       "\u001b[38;5;214mWarning: `reflex.plugins.sitemap.SitemapPlugin` plugin is enabled by default, but not explicitly added to the \u001b[0m\n",
       "\u001b[38;5;214mconfig. If you want to use it, please add it to the `plugins` list in your config inside of `rxconfig.py`. To \u001b[0m\n",
       "\u001b[38;5;214mdisable this plugin, set `disable_plugins` to `\u001b[0m\u001b[1;38;5;214m[\u001b[0m\u001b[38;5;214m'reflex.plugins.sitemap.SitemapPlugin'\u001b[0m\u001b[1;38;5;214m]\u001b[0m\u001b[38;5;214m`.\u001b[0m\n"
      ]
     },
     "metadata": {},
     "output_type": "display_data"
    },
    {
     "data": {
      "text/html": [
       "<pre style=\"white-space:pre;overflow-x:auto;line-height:normal;font-family:Menlo,'DejaVu Sans Mono',consolas,'Courier New',monospace\"><span style=\"color: #ffaf00; text-decoration-color: #ffaf00\">Warning: `reflex.plugins.sitemap.SitemapPlugin` plugin is enabled by default, but not explicitly added to the </span>\n",
       "<span style=\"color: #ffaf00; text-decoration-color: #ffaf00\">config. If you want to use it, please add it to the `plugins` list in your config inside of `rxconfig.py`. To </span>\n",
       "<span style=\"color: #ffaf00; text-decoration-color: #ffaf00\">disable this plugin, set `disable_plugins` to `</span><span style=\"color: #ffaf00; text-decoration-color: #ffaf00; font-weight: bold\">[</span><span style=\"color: #ffaf00; text-decoration-color: #ffaf00\">'reflex.plugins.sitemap.SitemapPlugin'</span><span style=\"color: #ffaf00; text-decoration-color: #ffaf00; font-weight: bold\">]</span><span style=\"color: #ffaf00; text-decoration-color: #ffaf00\">`.</span>\n",
       "</pre>\n"
      ],
      "text/plain": [
       "\u001b[38;5;214mWarning: `reflex.plugins.sitemap.SitemapPlugin` plugin is enabled by default, but not explicitly added to the \u001b[0m\n",
       "\u001b[38;5;214mconfig. If you want to use it, please add it to the `plugins` list in your config inside of `rxconfig.py`. To \u001b[0m\n",
       "\u001b[38;5;214mdisable this plugin, set `disable_plugins` to `\u001b[0m\u001b[1;38;5;214m[\u001b[0m\u001b[38;5;214m'reflex.plugins.sitemap.SitemapPlugin'\u001b[0m\u001b[1;38;5;214m]\u001b[0m\u001b[38;5;214m`.\u001b[0m\n"
      ]
     },
     "metadata": {},
     "output_type": "display_data"
    },
    {
     "data": {
      "text/html": [
       "<pre style=\"white-space:pre;overflow-x:auto;line-height:normal;font-family:Menlo,'DejaVu Sans Mono',consolas,'Courier New',monospace\"><span style=\"color: #ffaf00; text-decoration-color: #ffaf00\">Warning: `reflex.plugins.sitemap.SitemapPlugin` plugin is enabled by default, but not explicitly added to the </span>\n",
       "<span style=\"color: #ffaf00; text-decoration-color: #ffaf00\">config. If you want to use it, please add it to the `plugins` list in your config inside of `rxconfig.py`. To </span>\n",
       "<span style=\"color: #ffaf00; text-decoration-color: #ffaf00\">disable this plugin, set `disable_plugins` to `</span><span style=\"color: #ffaf00; text-decoration-color: #ffaf00; font-weight: bold\">[</span><span style=\"color: #ffaf00; text-decoration-color: #ffaf00\">'reflex.plugins.sitemap.SitemapPlugin'</span><span style=\"color: #ffaf00; text-decoration-color: #ffaf00; font-weight: bold\">]</span><span style=\"color: #ffaf00; text-decoration-color: #ffaf00\">`.</span>\n",
       "</pre>\n"
      ],
      "text/plain": [
       "\u001b[38;5;214mWarning: `reflex.plugins.sitemap.SitemapPlugin` plugin is enabled by default, but not explicitly added to the \u001b[0m\n",
       "\u001b[38;5;214mconfig. If you want to use it, please add it to the `plugins` list in your config inside of `rxconfig.py`. To \u001b[0m\n",
       "\u001b[38;5;214mdisable this plugin, set `disable_plugins` to `\u001b[0m\u001b[1;38;5;214m[\u001b[0m\u001b[38;5;214m'reflex.plugins.sitemap.SitemapPlugin'\u001b[0m\u001b[1;38;5;214m]\u001b[0m\u001b[38;5;214m`.\u001b[0m\n"
      ]
     },
     "metadata": {},
     "output_type": "display_data"
    },
    {
     "data": {
      "text/html": [
       "<pre style=\"white-space:pre;overflow-x:auto;line-height:normal;font-family:Menlo,'DejaVu Sans Mono',consolas,'Courier New',monospace\"><span style=\"color: #ffaf00; text-decoration-color: #ffaf00\">Warning: `reflex.plugins.sitemap.SitemapPlugin` plugin is enabled by default, but not explicitly added to the </span>\n",
       "<span style=\"color: #ffaf00; text-decoration-color: #ffaf00\">config. If you want to use it, please add it to the `plugins` list in your config inside of `rxconfig.py`. To </span>\n",
       "<span style=\"color: #ffaf00; text-decoration-color: #ffaf00\">disable this plugin, set `disable_plugins` to `</span><span style=\"color: #ffaf00; text-decoration-color: #ffaf00; font-weight: bold\">[</span><span style=\"color: #ffaf00; text-decoration-color: #ffaf00\">'reflex.plugins.sitemap.SitemapPlugin'</span><span style=\"color: #ffaf00; text-decoration-color: #ffaf00; font-weight: bold\">]</span><span style=\"color: #ffaf00; text-decoration-color: #ffaf00\">`.</span>\n",
       "</pre>\n"
      ],
      "text/plain": [
       "\u001b[38;5;214mWarning: `reflex.plugins.sitemap.SitemapPlugin` plugin is enabled by default, but not explicitly added to the \u001b[0m\n",
       "\u001b[38;5;214mconfig. If you want to use it, please add it to the `plugins` list in your config inside of `rxconfig.py`. To \u001b[0m\n",
       "\u001b[38;5;214mdisable this plugin, set `disable_plugins` to `\u001b[0m\u001b[1;38;5;214m[\u001b[0m\u001b[38;5;214m'reflex.plugins.sitemap.SitemapPlugin'\u001b[0m\u001b[1;38;5;214m]\u001b[0m\u001b[38;5;214m`.\u001b[0m\n"
      ]
     },
     "metadata": {},
     "output_type": "display_data"
    },
    {
     "data": {
      "text/html": [
       "<pre style=\"white-space:pre;overflow-x:auto;line-height:normal;font-family:Menlo,'DejaVu Sans Mono',consolas,'Courier New',monospace\"><span style=\"color: #ffaf00; text-decoration-color: #ffaf00\">Warning: `reflex.plugins.sitemap.SitemapPlugin` plugin is enabled by default, but not explicitly added to the </span>\n",
       "<span style=\"color: #ffaf00; text-decoration-color: #ffaf00\">config. If you want to use it, please add it to the `plugins` list in your config inside of `rxconfig.py`. To </span>\n",
       "<span style=\"color: #ffaf00; text-decoration-color: #ffaf00\">disable this plugin, set `disable_plugins` to `</span><span style=\"color: #ffaf00; text-decoration-color: #ffaf00; font-weight: bold\">[</span><span style=\"color: #ffaf00; text-decoration-color: #ffaf00\">'reflex.plugins.sitemap.SitemapPlugin'</span><span style=\"color: #ffaf00; text-decoration-color: #ffaf00; font-weight: bold\">]</span><span style=\"color: #ffaf00; text-decoration-color: #ffaf00\">`.</span>\n",
       "</pre>\n"
      ],
      "text/plain": [
       "\u001b[38;5;214mWarning: `reflex.plugins.sitemap.SitemapPlugin` plugin is enabled by default, but not explicitly added to the \u001b[0m\n",
       "\u001b[38;5;214mconfig. If you want to use it, please add it to the `plugins` list in your config inside of `rxconfig.py`. To \u001b[0m\n",
       "\u001b[38;5;214mdisable this plugin, set `disable_plugins` to `\u001b[0m\u001b[1;38;5;214m[\u001b[0m\u001b[38;5;214m'reflex.plugins.sitemap.SitemapPlugin'\u001b[0m\u001b[1;38;5;214m]\u001b[0m\u001b[38;5;214m`.\u001b[0m\n"
      ]
     },
     "metadata": {},
     "output_type": "display_data"
    },
    {
     "data": {
      "text/html": [
       "<pre style=\"white-space:pre;overflow-x:auto;line-height:normal;font-family:Menlo,'DejaVu Sans Mono',consolas,'Courier New',monospace\"><span style=\"color: #ffaf00; text-decoration-color: #ffaf00\">Warning: `reflex.plugins.sitemap.SitemapPlugin` plugin is enabled by default, but not explicitly added to the </span>\n",
       "<span style=\"color: #ffaf00; text-decoration-color: #ffaf00\">config. If you want to use it, please add it to the `plugins` list in your config inside of `rxconfig.py`. To </span>\n",
       "<span style=\"color: #ffaf00; text-decoration-color: #ffaf00\">disable this plugin, set `disable_plugins` to `</span><span style=\"color: #ffaf00; text-decoration-color: #ffaf00; font-weight: bold\">[</span><span style=\"color: #ffaf00; text-decoration-color: #ffaf00\">'reflex.plugins.sitemap.SitemapPlugin'</span><span style=\"color: #ffaf00; text-decoration-color: #ffaf00; font-weight: bold\">]</span><span style=\"color: #ffaf00; text-decoration-color: #ffaf00\">`.</span>\n",
       "</pre>\n"
      ],
      "text/plain": [
       "\u001b[38;5;214mWarning: `reflex.plugins.sitemap.SitemapPlugin` plugin is enabled by default, but not explicitly added to the \u001b[0m\n",
       "\u001b[38;5;214mconfig. If you want to use it, please add it to the `plugins` list in your config inside of `rxconfig.py`. To \u001b[0m\n",
       "\u001b[38;5;214mdisable this plugin, set `disable_plugins` to `\u001b[0m\u001b[1;38;5;214m[\u001b[0m\u001b[38;5;214m'reflex.plugins.sitemap.SitemapPlugin'\u001b[0m\u001b[1;38;5;214m]\u001b[0m\u001b[38;5;214m`.\u001b[0m\n"
      ]
     },
     "metadata": {},
     "output_type": "display_data"
    },
    {
     "data": {
      "text/html": [
       "<pre style=\"white-space:pre;overflow-x:auto;line-height:normal;font-family:Menlo,'DejaVu Sans Mono',consolas,'Courier New',monospace\"><span style=\"color: #ffaf00; text-decoration-color: #ffaf00\">Warning: `reflex.plugins.sitemap.SitemapPlugin` plugin is enabled by default, but not explicitly added to the </span>\n",
       "<span style=\"color: #ffaf00; text-decoration-color: #ffaf00\">config. If you want to use it, please add it to the `plugins` list in your config inside of `rxconfig.py`. To </span>\n",
       "<span style=\"color: #ffaf00; text-decoration-color: #ffaf00\">disable this plugin, set `disable_plugins` to `</span><span style=\"color: #ffaf00; text-decoration-color: #ffaf00; font-weight: bold\">[</span><span style=\"color: #ffaf00; text-decoration-color: #ffaf00\">'reflex.plugins.sitemap.SitemapPlugin'</span><span style=\"color: #ffaf00; text-decoration-color: #ffaf00; font-weight: bold\">]</span><span style=\"color: #ffaf00; text-decoration-color: #ffaf00\">`.</span>\n",
       "</pre>\n"
      ],
      "text/plain": [
       "\u001b[38;5;214mWarning: `reflex.plugins.sitemap.SitemapPlugin` plugin is enabled by default, but not explicitly added to the \u001b[0m\n",
       "\u001b[38;5;214mconfig. If you want to use it, please add it to the `plugins` list in your config inside of `rxconfig.py`. To \u001b[0m\n",
       "\u001b[38;5;214mdisable this plugin, set `disable_plugins` to `\u001b[0m\u001b[1;38;5;214m[\u001b[0m\u001b[38;5;214m'reflex.plugins.sitemap.SitemapPlugin'\u001b[0m\u001b[1;38;5;214m]\u001b[0m\u001b[38;5;214m`.\u001b[0m\n"
      ]
     },
     "metadata": {},
     "output_type": "display_data"
    },
    {
     "data": {
      "text/html": [
       "<pre style=\"white-space:pre;overflow-x:auto;line-height:normal;font-family:Menlo,'DejaVu Sans Mono',consolas,'Courier New',monospace\"><span style=\"color: #ffaf00; text-decoration-color: #ffaf00\">Warning: `reflex.plugins.sitemap.SitemapPlugin` plugin is enabled by default, but not explicitly added to the </span>\n",
       "<span style=\"color: #ffaf00; text-decoration-color: #ffaf00\">config. If you want to use it, please add it to the `plugins` list in your config inside of `rxconfig.py`. To </span>\n",
       "<span style=\"color: #ffaf00; text-decoration-color: #ffaf00\">disable this plugin, set `disable_plugins` to `</span><span style=\"color: #ffaf00; text-decoration-color: #ffaf00; font-weight: bold\">[</span><span style=\"color: #ffaf00; text-decoration-color: #ffaf00\">'reflex.plugins.sitemap.SitemapPlugin'</span><span style=\"color: #ffaf00; text-decoration-color: #ffaf00; font-weight: bold\">]</span><span style=\"color: #ffaf00; text-decoration-color: #ffaf00\">`.</span>\n",
       "</pre>\n"
      ],
      "text/plain": [
       "\u001b[38;5;214mWarning: `reflex.plugins.sitemap.SitemapPlugin` plugin is enabled by default, but not explicitly added to the \u001b[0m\n",
       "\u001b[38;5;214mconfig. If you want to use it, please add it to the `plugins` list in your config inside of `rxconfig.py`. To \u001b[0m\n",
       "\u001b[38;5;214mdisable this plugin, set `disable_plugins` to `\u001b[0m\u001b[1;38;5;214m[\u001b[0m\u001b[38;5;214m'reflex.plugins.sitemap.SitemapPlugin'\u001b[0m\u001b[1;38;5;214m]\u001b[0m\u001b[38;5;214m`.\u001b[0m\n"
      ]
     },
     "metadata": {},
     "output_type": "display_data"
    },
    {
     "data": {
      "text/html": [
       "<pre style=\"white-space:pre;overflow-x:auto;line-height:normal;font-family:Menlo,'DejaVu Sans Mono',consolas,'Courier New',monospace\"><span style=\"color: #ffaf00; text-decoration-color: #ffaf00\">Warning: `reflex.plugins.sitemap.SitemapPlugin` plugin is enabled by default, but not explicitly added to the </span>\n",
       "<span style=\"color: #ffaf00; text-decoration-color: #ffaf00\">config. If you want to use it, please add it to the `plugins` list in your config inside of `rxconfig.py`. To </span>\n",
       "<span style=\"color: #ffaf00; text-decoration-color: #ffaf00\">disable this plugin, set `disable_plugins` to `</span><span style=\"color: #ffaf00; text-decoration-color: #ffaf00; font-weight: bold\">[</span><span style=\"color: #ffaf00; text-decoration-color: #ffaf00\">'reflex.plugins.sitemap.SitemapPlugin'</span><span style=\"color: #ffaf00; text-decoration-color: #ffaf00; font-weight: bold\">]</span><span style=\"color: #ffaf00; text-decoration-color: #ffaf00\">`.</span>\n",
       "</pre>\n"
      ],
      "text/plain": [
       "\u001b[38;5;214mWarning: `reflex.plugins.sitemap.SitemapPlugin` plugin is enabled by default, but not explicitly added to the \u001b[0m\n",
       "\u001b[38;5;214mconfig. If you want to use it, please add it to the `plugins` list in your config inside of `rxconfig.py`. To \u001b[0m\n",
       "\u001b[38;5;214mdisable this plugin, set `disable_plugins` to `\u001b[0m\u001b[1;38;5;214m[\u001b[0m\u001b[38;5;214m'reflex.plugins.sitemap.SitemapPlugin'\u001b[0m\u001b[1;38;5;214m]\u001b[0m\u001b[38;5;214m`.\u001b[0m\n"
      ]
     },
     "metadata": {},
     "output_type": "display_data"
    },
    {
     "data": {
      "text/html": [
       "<pre style=\"white-space:pre;overflow-x:auto;line-height:normal;font-family:Menlo,'DejaVu Sans Mono',consolas,'Courier New',monospace\"><span style=\"color: #ffaf00; text-decoration-color: #ffaf00\">Warning: `reflex.plugins.sitemap.SitemapPlugin` plugin is enabled by default, but not explicitly added to the </span>\n",
       "<span style=\"color: #ffaf00; text-decoration-color: #ffaf00\">config. If you want to use it, please add it to the `plugins` list in your config inside of `rxconfig.py`. To </span>\n",
       "<span style=\"color: #ffaf00; text-decoration-color: #ffaf00\">disable this plugin, set `disable_plugins` to `</span><span style=\"color: #ffaf00; text-decoration-color: #ffaf00; font-weight: bold\">[</span><span style=\"color: #ffaf00; text-decoration-color: #ffaf00\">'reflex.plugins.sitemap.SitemapPlugin'</span><span style=\"color: #ffaf00; text-decoration-color: #ffaf00; font-weight: bold\">]</span><span style=\"color: #ffaf00; text-decoration-color: #ffaf00\">`.</span>\n",
       "</pre>\n"
      ],
      "text/plain": [
       "\u001b[38;5;214mWarning: `reflex.plugins.sitemap.SitemapPlugin` plugin is enabled by default, but not explicitly added to the \u001b[0m\n",
       "\u001b[38;5;214mconfig. If you want to use it, please add it to the `plugins` list in your config inside of `rxconfig.py`. To \u001b[0m\n",
       "\u001b[38;5;214mdisable this plugin, set `disable_plugins` to `\u001b[0m\u001b[1;38;5;214m[\u001b[0m\u001b[38;5;214m'reflex.plugins.sitemap.SitemapPlugin'\u001b[0m\u001b[1;38;5;214m]\u001b[0m\u001b[38;5;214m`.\u001b[0m\n"
      ]
     },
     "metadata": {},
     "output_type": "display_data"
    },
    {
     "data": {
      "text/html": [
       "<pre style=\"white-space:pre;overflow-x:auto;line-height:normal;font-family:Menlo,'DejaVu Sans Mono',consolas,'Courier New',monospace\"><span style=\"color: #ffaf00; text-decoration-color: #ffaf00\">Warning: `reflex.plugins.sitemap.SitemapPlugin` plugin is enabled by default, but not explicitly added to the </span>\n",
       "<span style=\"color: #ffaf00; text-decoration-color: #ffaf00\">config. If you want to use it, please add it to the `plugins` list in your config inside of `rxconfig.py`. To </span>\n",
       "<span style=\"color: #ffaf00; text-decoration-color: #ffaf00\">disable this plugin, set `disable_plugins` to `</span><span style=\"color: #ffaf00; text-decoration-color: #ffaf00; font-weight: bold\">[</span><span style=\"color: #ffaf00; text-decoration-color: #ffaf00\">'reflex.plugins.sitemap.SitemapPlugin'</span><span style=\"color: #ffaf00; text-decoration-color: #ffaf00; font-weight: bold\">]</span><span style=\"color: #ffaf00; text-decoration-color: #ffaf00\">`.</span>\n",
       "</pre>\n"
      ],
      "text/plain": [
       "\u001b[38;5;214mWarning: `reflex.plugins.sitemap.SitemapPlugin` plugin is enabled by default, but not explicitly added to the \u001b[0m\n",
       "\u001b[38;5;214mconfig. If you want to use it, please add it to the `plugins` list in your config inside of `rxconfig.py`. To \u001b[0m\n",
       "\u001b[38;5;214mdisable this plugin, set `disable_plugins` to `\u001b[0m\u001b[1;38;5;214m[\u001b[0m\u001b[38;5;214m'reflex.plugins.sitemap.SitemapPlugin'\u001b[0m\u001b[1;38;5;214m]\u001b[0m\u001b[38;5;214m`.\u001b[0m\n"
      ]
     },
     "metadata": {},
     "output_type": "display_data"
    }
   ],
   "source": [
    "from app.models.yahoo import YahooModel\n",
    "\n",
    "model = YahooModel()"
   ]
  },
  {
   "cell_type": "code",
   "execution_count": null,
   "id": "cdfaca43",
   "metadata": {},
   "outputs": [
    {
     "data": {
      "application/vnd.microsoft.datawrangler.viewer.v0+json": {
       "columns": [
        {
         "name": "Date",
         "rawType": "datetime64[ns, America/New_York]",
         "type": "unknown"
        },
        {
         "name": "Open",
         "rawType": "float64",
         "type": "float"
        },
        {
         "name": "High",
         "rawType": "float64",
         "type": "float"
        },
        {
         "name": "Low",
         "rawType": "float64",
         "type": "float"
        },
        {
         "name": "Close",
         "rawType": "float64",
         "type": "float"
        },
        {
         "name": "Volume",
         "rawType": "int64",
         "type": "integer"
        },
        {
         "name": "Dividends",
         "rawType": "float64",
         "type": "float"
        },
        {
         "name": "Stock Splits",
         "rawType": "float64",
         "type": "float"
        }
       ],
       "ref": "d36fdead-e526-4af7-8bf6-dcdb3dc07fdc",
       "rows": [
        [
         "2015-08-04 00:00:00-04:00",
         "40.5364753136774",
         "41.36888128563203",
         "40.4757792516195",
         "41.22147750854492",
         "33403900",
         "0.0",
         "0.0"
        ],
        [
         "2015-08-05 00:00:00-04:00",
         "41.60300643425551",
         "41.97585565546511",
         "41.22148776246137",
         "41.25617218017578",
         "26959700",
         "0.0",
         "0.0"
        ],
        [
         "2015-08-06 00:00:00-04:00",
         "41.36889217149125",
         "41.4209187988115",
         "40.17230951231904",
         "40.423763275146484",
         "27368000",
         "0.0",
         "0.0"
        ],
        [
         "2015-08-07 00:00:00-04:00",
         "40.22433307280786",
         "40.56249788319393",
         "40.1116103667831",
         "40.52781677246094",
         "19163000",
         "0.0",
         "0.0"
        ],
        [
         "2015-08-10 00:00:00-04:00",
         "40.70989906711827",
         "41.17812872441409",
         "40.61451858422234",
         "41.03939437866211",
         "23079900",
         "0.0",
         "0.0"
        ],
        [
         "2015-08-11 00:00:00-04:00",
         "40.59718335942626",
         "40.70123330971278",
         "39.79946156108251",
         "40.241676330566406",
         "29237400",
         "0.0",
         "0.0"
        ],
        [
         "2015-08-12 00:00:00-04:00",
         "40.050914288390125",
         "40.666551138457486",
         "39.63471119040048",
         "40.52781677246094",
         "30181400",
         "0.0",
         "0.0"
        ],
        [
         "2015-08-13 00:00:00-04:00",
         "40.80528362816417",
         "40.839964737302466",
         "40.31104226529693",
         "40.519142150878906",
         "22627200",
         "0.0",
         "0.0"
        ],
        [
         "2015-08-14 00:00:00-04:00",
         "40.34572411549",
         "40.83996548743527",
         "40.3370546649682",
         "40.753257751464844",
         "21473400",
         "0.0",
         "0.0"
        ],
        [
         "2015-08-17 00:00:00-04:00",
         "40.58852017807708",
         "41.143457742243115",
         "40.380416937670425",
         "41.03073501586914",
         "21099700",
         "0.0",
         "0.0"
        ],
        [
         "2015-08-18 00:00:00-04:00",
         "40.88234441513284",
         "41.397301489524445",
         "40.760151775361905",
         "41.257652282714844",
         "23574100",
         "0.31",
         "0.0"
        ],
        [
         "2015-08-19 00:00:00-04:00",
         "40.829974488088126",
         "41.091819662719494",
         "40.411026869977526",
         "40.68159866333008",
         "31485500",
         "0.0",
         "0.0"
        ],
        [
         "2015-08-20 00:00:00-04:00",
         "40.210291267242674",
         "40.559416033239565",
         "39.852439880371094",
         "39.852439880371094",
         "36238200",
         "0.0",
         "0.0"
        ],
        [
         "2015-08-21 00:00:00-04:00",
         "39.5382282871475",
         "39.695334099016335",
         "37.59186553955078",
         "37.59186553955078",
         "70053100",
         "0.0",
         "0.0"
        ],
        [
         "2015-08-24 00:00:00-04:00",
         "35.30511165089198",
         "37.260201222870414",
         "34.66796171621591",
         "36.378665924072266",
         "88753700",
         "0.0",
         "0.0"
        ],
        [
         "2015-08-25 00:00:00-04:00",
         "37.15546381176705",
         "37.74024733620928",
         "35.25274069620997",
         "35.322566986083984",
         "70616600",
         "0.0",
         "0.0"
        ],
        [
         "2015-08-26 00:00:00-04:00",
         "36.666674827002254",
         "37.391107306436545",
         "35.83750961444412",
         "37.27764129638672",
         "63408000",
         "0.0",
         "0.0"
        ],
        [
         "2015-08-27 00:00:00-04:00",
         "37.731497154100936",
         "38.35992010801207",
         "37.46965536647095",
         "38.316280364990234",
         "50943200",
         "0.0",
         "0.0"
        ],
        [
         "2015-08-28 00:00:00-04:00",
         "37.87989224170574",
         "38.53449865143913",
         "37.87116229172241",
         "38.34247970581055",
         "28246700",
         "0.0",
         "0.0"
        ],
        [
         "2015-08-31 00:00:00-04:00",
         "38.01953609131013",
         "38.34247427544812",
         "37.61804168644949",
         "37.984622955322266",
         "34441700",
         "0.0",
         "0.0"
        ],
        [
         "2015-09-01 00:00:00-04:00",
         "36.806336162909815",
         "37.1729174972771",
         "36.361205252785794",
         "36.5008544921875",
         "49688900",
         "0.0",
         "0.0"
        ],
        [
         "2015-09-02 00:00:00-04:00",
         "36.97216980392637",
         "37.862434902631435",
         "36.55322210974169",
         "37.84497833251953",
         "37671500",
         "0.0",
         "0.0"
        ],
        [
         "2015-09-03 00:00:00-04:00",
         "37.88862162195956",
         "38.38612226323437",
         "37.775155570414235",
         "37.9671745300293",
         "28285200",
         "0.0",
         "0.0"
        ],
        [
         "2015-09-04 00:00:00-04:00",
         "37.364934841151936",
         "37.56568040605436",
         "36.832521098388796",
         "37.190372467041016",
         "37138800",
         "0.0",
         "0.0"
        ],
        [
         "2015-09-08 00:00:00-04:00",
         "37.79260664364758",
         "38.40357324757725",
         "37.70532712715769",
         "38.30756378173828",
         "32469800",
         "0.0",
         "0.0"
        ],
        [
         "2015-09-09 00:00:00-04:00",
         "38.58686679505308",
         "38.75270255730382",
         "37.4522162989452",
         "37.59186553955078",
         "33469500",
         "0.0",
         "0.0"
        ],
        [
         "2015-09-10 00:00:00-04:00",
         "37.63549535993198",
         "38.22027868950391",
         "37.31255720063086",
         "37.78387451171875",
         "31366600",
         "0.0",
         "0.0"
        ],
        [
         "2015-09-11 00:00:00-04:00",
         "37.65296341075745",
         "38.04572795645742",
         "37.478401020501835",
         "37.9497184753418",
         "27132500",
         "0.0",
         "0.0"
        ],
        [
         "2015-09-14 00:00:00-04:00",
         "37.90607626533829",
         "37.914802886012936",
         "37.408575649372345",
         "37.56568145751953",
         "23656000",
         "0.0",
         "0.0"
        ],
        [
         "2015-09-15 00:00:00-04:00",
         "37.69658530042236",
         "38.65667632680776",
         "37.600579194332994",
         "38.386104583740234",
         "28882200",
         "0.0",
         "0.0"
        ],
        [
         "2015-09-16 00:00:00-04:00",
         "38.37738785138009",
         "38.73523917560823",
         "38.26392182286875",
         "38.66541290283203",
         "23372200",
         "0.0",
         "0.0"
        ],
        [
         "2015-09-17 00:00:00-04:00",
         "38.65668590215698",
         "39.276379084183",
         "38.47339693217744",
         "38.62177276611328",
         "32768200",
         "0.0",
         "0.0"
        ],
        [
         "2015-09-18 00:00:00-04:00",
         "37.967175047317426",
         "38.394852736968645",
         "37.81879917977558",
         "37.9497184753418",
         "63143700",
         "0.0",
         "0.0"
        ],
        [
         "2015-09-21 00:00:00-04:00",
         "38.071902787584364",
         "38.813791950847545",
         "38.05444621944289",
         "38.49958038330078",
         "26177200",
         "0.0",
         "0.0"
        ],
        [
         "2015-09-22 00:00:00-04:00",
         "37.862419712665414",
         "38.44719959405574",
         "37.80132340653505",
         "38.316280364990234",
         "28085900",
         "0.0",
         "0.0"
        ],
        [
         "2015-09-23 00:00:00-04:00",
         "38.3424774353485",
         "38.55194960953901",
         "37.97589613626483",
         "38.29010772705078",
         "17145200",
         "0.0",
         "0.0"
        ],
        [
         "2015-09-24 00:00:00-04:00",
         "37.92352496402736",
         "38.51703493171592",
         "37.76641918849217",
         "38.325016021728516",
         "27905600",
         "0.0",
         "0.0"
        ],
        [
         "2015-09-25 00:00:00-04:00",
         "38.82251357979801",
         "39.04071565926821",
         "38.19409052548399",
         "38.3511962890625",
         "29384600",
         "0.0",
         "0.0"
        ],
        [
         "2015-09-28 00:00:00-04:00",
         "38.25519182280664",
         "38.48212053027507",
         "37.7140482451133",
         "37.78387451171875",
         "27613800",
         "0.0",
         "0.0"
        ],
        [
         "2015-09-29 00:00:00-04:00",
         "37.8537100271353",
         "38.028272422154174",
         "37.5744115269054",
         "37.9148063659668",
         "32763600",
         "0.0",
         "0.0"
        ],
        [
         "2015-09-30 00:00:00-04:00",
         "38.298828413560614",
         "38.66540629448355",
         "38.10680952574419",
         "38.6304931640625",
         "34958900",
         "0.0",
         "0.0"
        ],
        [
         "2015-10-01 00:00:00-04:00",
         "39.058170562372396",
         "39.058170562372396",
         "38.185362281648985",
         "38.935977935791016",
         "28657900",
         "0.0",
         "0.0"
        ],
        [
         "2015-10-02 00:00:00-04:00",
         "38.63922229672273",
         "39.77387237548828",
         "38.333737406228614",
         "39.77387237548828",
         "41839000",
         "0.0",
         "0.0"
        ],
        [
         "2015-10-05 00:00:00-04:00",
         "39.93098617243855",
         "40.92598726237604",
         "39.88734641629216",
         "40.699058532714844",
         "34369300",
         "0.0",
         "0.0"
        ],
        [
         "2015-10-06 00:00:00-04:00",
         "40.43721691158695",
         "41.17910275907495",
         "40.34120744978262",
         "40.803794860839844",
         "27017200",
         "0.0",
         "0.0"
        ],
        [
         "2015-10-07 00:00:00-04:00",
         "41.10927686796281",
         "41.32747898154966",
         "40.10554914316331",
         "40.847434997558594",
         "27711500",
         "0.0",
         "0.0"
        ],
        [
         "2015-10-08 00:00:00-04:00",
         "40.63796910740962",
         "41.47586455387154",
         "40.58559939344305",
         "41.41476821899414",
         "33772700",
         "0.0",
         "0.0"
        ],
        [
         "2015-10-09 00:00:00-04:00",
         "41.41476267365346",
         "41.493315569335",
         "40.952171919306586",
         "41.11800765991211",
         "28600600",
         "0.0",
         "0.0"
        ],
        [
         "2015-10-12 00:00:00-04:00",
         "41.004542789650785",
         "41.08309568756104",
         "40.58559511062947",
         "41.02199935913086",
         "19769100",
         "0.0",
         "0.0"
        ],
        [
         "2015-10-13 00:00:00-04:00",
         "40.63795082606634",
         "41.13545123169191",
         "40.63795082606634",
         "40.92597579956055",
         "19987800",
         "0.0",
         "0.0"
        ]
       ],
       "shape": {
        "columns": 7,
        "rows": 2515
       }
      },
      "text/html": [
       "<div>\n",
       "<style scoped>\n",
       "    .dataframe tbody tr th:only-of-type {\n",
       "        vertical-align: middle;\n",
       "    }\n",
       "\n",
       "    .dataframe tbody tr th {\n",
       "        vertical-align: top;\n",
       "    }\n",
       "\n",
       "    .dataframe thead th {\n",
       "        text-align: right;\n",
       "    }\n",
       "</style>\n",
       "<table border=\"1\" class=\"dataframe\">\n",
       "  <thead>\n",
       "    <tr style=\"text-align: right;\">\n",
       "      <th></th>\n",
       "      <th>Open</th>\n",
       "      <th>High</th>\n",
       "      <th>Low</th>\n",
       "      <th>Close</th>\n",
       "      <th>Volume</th>\n",
       "      <th>Dividends</th>\n",
       "      <th>Stock Splits</th>\n",
       "    </tr>\n",
       "    <tr>\n",
       "      <th>Date</th>\n",
       "      <th></th>\n",
       "      <th></th>\n",
       "      <th></th>\n",
       "      <th></th>\n",
       "      <th></th>\n",
       "      <th></th>\n",
       "      <th></th>\n",
       "    </tr>\n",
       "  </thead>\n",
       "  <tbody>\n",
       "    <tr>\n",
       "      <th>2015-08-04 00:00:00-04:00</th>\n",
       "      <td>40.536475</td>\n",
       "      <td>41.368881</td>\n",
       "      <td>40.475779</td>\n",
       "      <td>41.221478</td>\n",
       "      <td>33403900</td>\n",
       "      <td>0.0</td>\n",
       "      <td>0.0</td>\n",
       "    </tr>\n",
       "    <tr>\n",
       "      <th>2015-08-05 00:00:00-04:00</th>\n",
       "      <td>41.603006</td>\n",
       "      <td>41.975856</td>\n",
       "      <td>41.221488</td>\n",
       "      <td>41.256172</td>\n",
       "      <td>26959700</td>\n",
       "      <td>0.0</td>\n",
       "      <td>0.0</td>\n",
       "    </tr>\n",
       "    <tr>\n",
       "      <th>2015-08-06 00:00:00-04:00</th>\n",
       "      <td>41.368892</td>\n",
       "      <td>41.420919</td>\n",
       "      <td>40.172310</td>\n",
       "      <td>40.423763</td>\n",
       "      <td>27368000</td>\n",
       "      <td>0.0</td>\n",
       "      <td>0.0</td>\n",
       "    </tr>\n",
       "    <tr>\n",
       "      <th>2015-08-07 00:00:00-04:00</th>\n",
       "      <td>40.224333</td>\n",
       "      <td>40.562498</td>\n",
       "      <td>40.111610</td>\n",
       "      <td>40.527817</td>\n",
       "      <td>19163000</td>\n",
       "      <td>0.0</td>\n",
       "      <td>0.0</td>\n",
       "    </tr>\n",
       "    <tr>\n",
       "      <th>2015-08-10 00:00:00-04:00</th>\n",
       "      <td>40.709899</td>\n",
       "      <td>41.178129</td>\n",
       "      <td>40.614519</td>\n",
       "      <td>41.039394</td>\n",
       "      <td>23079900</td>\n",
       "      <td>0.0</td>\n",
       "      <td>0.0</td>\n",
       "    </tr>\n",
       "    <tr>\n",
       "      <th>...</th>\n",
       "      <td>...</td>\n",
       "      <td>...</td>\n",
       "      <td>...</td>\n",
       "      <td>...</td>\n",
       "      <td>...</td>\n",
       "      <td>...</td>\n",
       "      <td>...</td>\n",
       "    </tr>\n",
       "    <tr>\n",
       "      <th>2025-07-29 00:00:00-04:00</th>\n",
       "      <td>515.530029</td>\n",
       "      <td>517.619995</td>\n",
       "      <td>511.559998</td>\n",
       "      <td>512.570007</td>\n",
       "      <td>16469200</td>\n",
       "      <td>0.0</td>\n",
       "      <td>0.0</td>\n",
       "    </tr>\n",
       "    <tr>\n",
       "      <th>2025-07-30 00:00:00-04:00</th>\n",
       "      <td>515.169983</td>\n",
       "      <td>515.950012</td>\n",
       "      <td>509.440002</td>\n",
       "      <td>513.239990</td>\n",
       "      <td>26380400</td>\n",
       "      <td>0.0</td>\n",
       "      <td>0.0</td>\n",
       "    </tr>\n",
       "    <tr>\n",
       "      <th>2025-07-31 00:00:00-04:00</th>\n",
       "      <td>555.229980</td>\n",
       "      <td>555.450012</td>\n",
       "      <td>531.900024</td>\n",
       "      <td>533.500000</td>\n",
       "      <td>51617300</td>\n",
       "      <td>0.0</td>\n",
       "      <td>0.0</td>\n",
       "    </tr>\n",
       "    <tr>\n",
       "      <th>2025-08-01 00:00:00-04:00</th>\n",
       "      <td>535.000000</td>\n",
       "      <td>535.799988</td>\n",
       "      <td>520.859985</td>\n",
       "      <td>524.109985</td>\n",
       "      <td>28955600</td>\n",
       "      <td>0.0</td>\n",
       "      <td>0.0</td>\n",
       "    </tr>\n",
       "    <tr>\n",
       "      <th>2025-08-04 00:00:00-04:00</th>\n",
       "      <td>528.190002</td>\n",
       "      <td>537.309998</td>\n",
       "      <td>528.135010</td>\n",
       "      <td>537.000000</td>\n",
       "      <td>11064317</td>\n",
       "      <td>0.0</td>\n",
       "      <td>0.0</td>\n",
       "    </tr>\n",
       "  </tbody>\n",
       "</table>\n",
       "<p>2515 rows × 7 columns</p>\n",
       "</div>"
      ],
      "text/plain": [
       "                                 Open        High         Low       Close  \\\n",
       "Date                                                                        \n",
       "2015-08-04 00:00:00-04:00   40.536475   41.368881   40.475779   41.221478   \n",
       "2015-08-05 00:00:00-04:00   41.603006   41.975856   41.221488   41.256172   \n",
       "2015-08-06 00:00:00-04:00   41.368892   41.420919   40.172310   40.423763   \n",
       "2015-08-07 00:00:00-04:00   40.224333   40.562498   40.111610   40.527817   \n",
       "2015-08-10 00:00:00-04:00   40.709899   41.178129   40.614519   41.039394   \n",
       "...                               ...         ...         ...         ...   \n",
       "2025-07-29 00:00:00-04:00  515.530029  517.619995  511.559998  512.570007   \n",
       "2025-07-30 00:00:00-04:00  515.169983  515.950012  509.440002  513.239990   \n",
       "2025-07-31 00:00:00-04:00  555.229980  555.450012  531.900024  533.500000   \n",
       "2025-08-01 00:00:00-04:00  535.000000  535.799988  520.859985  524.109985   \n",
       "2025-08-04 00:00:00-04:00  528.190002  537.309998  528.135010  537.000000   \n",
       "\n",
       "                             Volume  Dividends  Stock Splits  \n",
       "Date                                                          \n",
       "2015-08-04 00:00:00-04:00  33403900        0.0           0.0  \n",
       "2015-08-05 00:00:00-04:00  26959700        0.0           0.0  \n",
       "2015-08-06 00:00:00-04:00  27368000        0.0           0.0  \n",
       "2015-08-07 00:00:00-04:00  19163000        0.0           0.0  \n",
       "2015-08-10 00:00:00-04:00  23079900        0.0           0.0  \n",
       "...                             ...        ...           ...  \n",
       "2025-07-29 00:00:00-04:00  16469200        0.0           0.0  \n",
       "2025-07-30 00:00:00-04:00  26380400        0.0           0.0  \n",
       "2025-07-31 00:00:00-04:00  51617300        0.0           0.0  \n",
       "2025-08-01 00:00:00-04:00  28955600        0.0           0.0  \n",
       "2025-08-04 00:00:00-04:00  11064317        0.0           0.0  \n",
       "\n",
       "[2515 rows x 7 columns]"
      ]
     },
     "execution_count": 4,
     "metadata": {},
     "output_type": "execute_result"
    }
   ],
   "source": [
    "model.get_ticker_data(ticker)"
   ]
  },
  {
   "cell_type": "markdown",
   "id": "3c761378",
   "metadata": {},
   "source": [
    "## Zacks Model"
   ]
  },
  {
   "cell_type": "code",
   "execution_count": null,
   "id": "b3e56878",
   "metadata": {},
   "outputs": [],
   "source": [
    "from app.models.yahoo import YahooModel\n",
    "\n",
    "model = YahooModel()\n",
    "pp.pprint(model.get_data('AAPL'))"
   ]
  }
 ],
 "metadata": {
  "kernelspec": {
   "display_name": ".venv",
   "language": "python",
   "name": "python3"
  },
  "language_info": {
   "codemirror_mode": {
    "name": "ipython",
    "version": 3
   },
   "file_extension": ".py",
   "mimetype": "text/x-python",
   "name": "python",
   "nbconvert_exporter": "python",
   "pygments_lexer": "ipython3",
   "version": "3.12.10"
  }
 },
 "nbformat": 4,
 "nbformat_minor": 5
}
