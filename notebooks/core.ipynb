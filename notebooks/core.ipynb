{
 "cells": [
  {
   "cell_type": "markdown",
   "id": "dc36898e",
   "metadata": {},
   "source": [
    "# Core"
   ]
  },
  {
   "cell_type": "markdown",
   "id": "816c3757",
   "metadata": {},
   "source": [
    "## Install prerequisites"
   ]
  },
  {
   "cell_type": "code",
   "execution_count": 5,
   "id": "00c342c2",
   "metadata": {},
   "outputs": [],
   "source": [
    "# !cd .. && make install\n",
    "# !pwd"
   ]
  },
  {
   "cell_type": "code",
   "execution_count": 6,
   "id": "d3a9035b",
   "metadata": {},
   "outputs": [
    {
     "name": "stdout",
     "output_type": "stream",
     "text": [
      "The autoreload extension is already loaded. To reload it, use:\n",
      "  %reload_ext autoreload\n"
     ]
    }
   ],
   "source": [
    "import sys\n",
    "\n",
    "sys.path.append('..')\n",
    "\n",
    "%load_ext autoreload\n",
    "%autoreload 2"
   ]
  },
  {
   "cell_type": "markdown",
   "id": "946bcc46",
   "metadata": {},
   "source": [
    "## Settings"
   ]
  },
  {
   "cell_type": "code",
   "execution_count": 8,
   "id": "708ec25b",
   "metadata": {},
   "outputs": [
    {
     "name": "stdout",
     "output_type": "stream",
     "text": [
      "PROVIDER_CONCURRENCY_LIMIT: 28\n"
     ]
    }
   ],
   "source": [
    "from app.core.settings import settings\n",
    "\n",
    "print(f'PROVIDER_CONCURRENCY_LIMIT: {settings.PROVIDER_CONCURRENCY_LIMIT}')"
   ]
  }
 ],
 "metadata": {
  "kernelspec": {
   "display_name": ".venv",
   "language": "python",
   "name": "python3"
  },
  "language_info": {
   "codemirror_mode": {
    "name": "ipython",
    "version": 3
   },
   "file_extension": ".py",
   "mimetype": "text/x-python",
   "name": "python",
   "nbconvert_exporter": "python",
   "pygments_lexer": "ipython3",
   "version": "3.12.10"
  }
 },
 "nbformat": 4,
 "nbformat_minor": 5
}
